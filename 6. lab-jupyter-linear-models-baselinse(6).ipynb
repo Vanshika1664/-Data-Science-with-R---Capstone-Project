{
 "cells": [
  {
   "cell_type": "markdown",
   "metadata": {},
   "source": [
    "<center>\n",
    "<img src=\"https://cf-courses-data.s3.us.cloud-object-storage.appdomain.cloud/IBMDeveloperSkillsNetwork-RP0321EN-SkillsNetwork/labs/module_1/images/SN_web_lightmode.png\" width=\"300\"> \n",
    "</center>\n"
   ]
  },
  {
   "cell_type": "markdown",
   "metadata": {},
   "source": [
    "<h1>Predict Hourly Rented Bike Count using Basic Linear Regression Models</h1>\n",
    "\n",
    "Estimated time needed: **90** minutes\n"
   ]
  },
  {
   "cell_type": "markdown",
   "metadata": {},
   "source": [
    "## Lab Overview:\n",
    "\n",
    "Now that you have performed exploratory analysis on the bike sharing demand dataset and obtained some insights on the attributes, it's time to build predictive models to predict the hourly rented bike count using related weather and date information.\n",
    "\n",
    "In this lab, you will be asked to use `tidymodels` to build some baseline linear regression models:\n",
    "- **TASK: Split data into training and testing datasets**\n",
    "- **TASK: Build a linear regression model using only the weather variables**\n",
    "- **TASK: Build a linear regression model using both weather and date variables**\n",
    "- **TASK: Evaluate the models and identify important variables**\n",
    "\n",
    "Let's start!\n"
   ]
  },
  {
   "cell_type": "markdown",
   "metadata": {},
   "source": [
    "The tidyverse and the tidymodels packages can be used to produce high quality statistical and machine learning models. The Tidyverse library is a useful tool that provides various tools for data visualization, data manipulation, and read various datasets into a data frame; our Jupyter notebook platforms have a built-in Tidymodels, Tidyverse and rlang libraries, so we do not need to install these packages prior to loading library. However, if you decide to run this lab on your RStudio Desktop locally on your machine, you can remove the commented lines of code to install these packages before loading.\n"
   ]
  },
  {
   "cell_type": "code",
   "execution_count": 1,
   "metadata": {},
   "outputs": [
    {
     "name": "stderr",
     "output_type": "stream",
     "text": [
      "Updating HTML index of packages in '.Library'\n",
      "\n",
      "Making 'packages.html' ...\n",
      " done\n",
      "\n",
      "also installing the dependencies ‘sparsevctrs’, ‘cli’, ‘dials’, ‘hardhat’, ‘parsnip’, ‘purrr’, ‘recipes’, ‘tune’, ‘workflows’, ‘yardstick’\n",
      "\n",
      "\n",
      "Updating HTML index of packages in '.Library'\n",
      "\n",
      "Making 'packages.html' ...\n",
      " done\n",
      "\n"
     ]
    }
   ],
   "source": [
    "# It may take several minutes to install those libraries in Watson Studio\n",
    "install.packages(\"rlang\")\n",
    "install.packages(\"tidymodels\")"
   ]
  },
  {
   "cell_type": "code",
   "execution_count": 1,
   "metadata": {},
   "outputs": [
    {
     "name": "stderr",
     "output_type": "stream",
     "text": [
      "── \u001b[1mAttaching packages\u001b[22m ────────────────────────────────────── tidymodels 1.3.0 ──\n",
      "\n",
      "\u001b[32m✔\u001b[39m \u001b[34mbroom       \u001b[39m 1.0.7     \u001b[32m✔\u001b[39m \u001b[34mrecipes     \u001b[39m 1.3.1\n",
      "\u001b[32m✔\u001b[39m \u001b[34mdials       \u001b[39m 1.4.0     \u001b[32m✔\u001b[39m \u001b[34mrsample     \u001b[39m 1.2.1\n",
      "\u001b[32m✔\u001b[39m \u001b[34mdplyr       \u001b[39m 1.1.4     \u001b[32m✔\u001b[39m \u001b[34mtibble      \u001b[39m 3.2.1\n",
      "\u001b[32m✔\u001b[39m \u001b[34mggplot2     \u001b[39m 3.5.1     \u001b[32m✔\u001b[39m \u001b[34mtidyr       \u001b[39m 1.3.1\n",
      "\u001b[32m✔\u001b[39m \u001b[34minfer       \u001b[39m 1.0.7     \u001b[32m✔\u001b[39m \u001b[34mtune        \u001b[39m 1.3.0\n",
      "\u001b[32m✔\u001b[39m \u001b[34mmodeldata   \u001b[39m 1.4.0     \u001b[32m✔\u001b[39m \u001b[34mworkflows   \u001b[39m 1.2.0\n",
      "\u001b[32m✔\u001b[39m \u001b[34mparsnip     \u001b[39m 1.3.2     \u001b[32m✔\u001b[39m \u001b[34mworkflowsets\u001b[39m 1.1.0\n",
      "\u001b[32m✔\u001b[39m \u001b[34mpurrr       \u001b[39m 1.0.4     \u001b[32m✔\u001b[39m \u001b[34myardstick   \u001b[39m 1.3.2\n",
      "\n",
      "── \u001b[1mConflicts\u001b[22m ───────────────────────────────────────── tidymodels_conflicts() ──\n",
      "\u001b[31m✖\u001b[39m \u001b[34mpurrr\u001b[39m::\u001b[32mdiscard()\u001b[39m masks \u001b[34mscales\u001b[39m::discard()\n",
      "\u001b[31m✖\u001b[39m \u001b[34mdplyr\u001b[39m::\u001b[32mfilter()\u001b[39m  masks \u001b[34mstats\u001b[39m::filter()\n",
      "\u001b[31m✖\u001b[39m \u001b[34mdplyr\u001b[39m::\u001b[32mlag()\u001b[39m     masks \u001b[34mstats\u001b[39m::lag()\n",
      "\u001b[31m✖\u001b[39m \u001b[34mrecipes\u001b[39m::\u001b[32mstep()\u001b[39m  masks \u001b[34mstats\u001b[39m::step()\n",
      "\n",
      "── \u001b[1mAttaching core tidyverse packages\u001b[22m ──────────────────────── tidyverse 2.0.0 ──\n",
      "\u001b[32m✔\u001b[39m \u001b[34mforcats  \u001b[39m 1.0.0     \u001b[32m✔\u001b[39m \u001b[34mreadr    \u001b[39m 2.1.5\n",
      "\u001b[32m✔\u001b[39m \u001b[34mlubridate\u001b[39m 1.9.4     \u001b[32m✔\u001b[39m \u001b[34mstringr  \u001b[39m 1.5.1\n",
      "── \u001b[1mConflicts\u001b[22m ────────────────────────────────────────── tidyverse_conflicts() ──\n",
      "\u001b[31m✖\u001b[39m \u001b[34mreadr\u001b[39m::\u001b[32mcol_factor()\u001b[39m masks \u001b[34mscales\u001b[39m::col_factor()\n",
      "\u001b[31m✖\u001b[39m \u001b[34mpurrr\u001b[39m::\u001b[32mdiscard()\u001b[39m    masks \u001b[34mscales\u001b[39m::discard()\n",
      "\u001b[31m✖\u001b[39m \u001b[34mdplyr\u001b[39m::\u001b[32mfilter()\u001b[39m     masks \u001b[34mstats\u001b[39m::filter()\n",
      "\u001b[31m✖\u001b[39m \u001b[34mstringr\u001b[39m::\u001b[32mfixed()\u001b[39m    masks \u001b[34mrecipes\u001b[39m::fixed()\n",
      "\u001b[31m✖\u001b[39m \u001b[34mdplyr\u001b[39m::\u001b[32mlag()\u001b[39m        masks \u001b[34mstats\u001b[39m::lag()\n",
      "\u001b[31m✖\u001b[39m \u001b[34mreadr\u001b[39m::\u001b[32mspec()\u001b[39m       masks \u001b[34myardstick\u001b[39m::spec()\n",
      "\u001b[36mℹ\u001b[39m Use the conflicted package (\u001b[3m\u001b[34m<http://conflicted.r-lib.org/>\u001b[39m\u001b[23m) to force all conflicts to become errors\n"
     ]
    }
   ],
   "source": [
    "library(\"tidymodels\")\n",
    "library(\"tidyverse\")\n",
    "library(\"stringr\")"
   ]
  },
  {
   "cell_type": "markdown",
   "metadata": {},
   "source": [
    "The `seoul_bike_sharing_converted_normalized.csv` will be our main dataset which has following variables:\n",
    "\n",
    "The response variable:\n",
    "- `RENTED BIKE COUNT`- Count of bikes rented at each hour\n",
    "\n",
    "Weather predictor variables:\n",
    "- `TEMPERATURE` - Temperature in Celsius\n",
    "- `HUMIDITY` - Unit is `%`\n",
    "- `WIND_SPEED` - Unit is `m/s`\n",
    "- `VISIBILITY` - Multiplied by 10m\n",
    "- `DEW_POINT_TEMPERATURE` - The temperature to which the air would have to cool down in order to reach saturation, unit is Celsius\n",
    "- `SOLAR_RADIATION` - MJ/m2\n",
    "- `RAINFALL` - mm\n",
    "- `SNOWFALL` - cm\n",
    "\n",
    "Date/time predictor variables:\n",
    "- `DATE` - Year-month-day\n",
    "- `HOUR`- Hour of he day\n",
    "- `FUNCTIONAL DAY` - NoFunc(Non Functional Hours), Fun(Functional hours)\n",
    "- `HOLIDAY` - Holiday/No holiday\n",
    "- `SEASONS` - Winter, Spring, Summer, Autumn\n"
   ]
  },
  {
   "cell_type": "markdown",
   "metadata": {},
   "source": [
    "Let's read the dataset as a dataframe first:\n"
   ]
  },
  {
   "cell_type": "code",
   "execution_count": 3,
   "metadata": {},
   "outputs": [
    {
     "name": "stderr",
     "output_type": "stream",
     "text": [
      "\u001b[1mRows: \u001b[22m\u001b[34m8465\u001b[39m \u001b[1mColumns: \u001b[22m\u001b[34m41\u001b[39m\n",
      "\u001b[36m──\u001b[39m \u001b[1mColumn specification\u001b[22m \u001b[36m────────────────────────────────────────────────────────\u001b[39m\n",
      "\u001b[1mDelimiter:\u001b[22m \",\"\n",
      "\u001b[31mchr\u001b[39m  (2): DATE, FUNCTIONING_DAY\n",
      "\u001b[32mdbl\u001b[39m (39): RENTED_BIKE_COUNT, TEMPERATURE, HUMIDITY, WIND_SPEED, VISIBILITY, ...\n",
      "\n",
      "\u001b[36mℹ\u001b[39m Use `spec()` to retrieve the full column specification for this data.\n",
      "\u001b[36mℹ\u001b[39m Specify the column types or set `show_col_types = FALSE` to quiet this message.\n"
     ]
    },
    {
     "data": {
      "text/plain": [
       "cols(\n",
       "  DATE = \u001b[31mcol_character()\u001b[39m,\n",
       "  RENTED_BIKE_COUNT = \u001b[32mcol_double()\u001b[39m,\n",
       "  TEMPERATURE = \u001b[32mcol_double()\u001b[39m,\n",
       "  HUMIDITY = \u001b[32mcol_double()\u001b[39m,\n",
       "  WIND_SPEED = \u001b[32mcol_double()\u001b[39m,\n",
       "  VISIBILITY = \u001b[32mcol_double()\u001b[39m,\n",
       "  DEW_POINT_TEMPERATURE = \u001b[32mcol_double()\u001b[39m,\n",
       "  SOLAR_RADIATION = \u001b[32mcol_double()\u001b[39m,\n",
       "  RAINFALL = \u001b[32mcol_double()\u001b[39m,\n",
       "  SNOWFALL = \u001b[32mcol_double()\u001b[39m,\n",
       "  FUNCTIONING_DAY = \u001b[31mcol_character()\u001b[39m,\n",
       "  `0` = \u001b[32mcol_double()\u001b[39m,\n",
       "  `1` = \u001b[32mcol_double()\u001b[39m,\n",
       "  `10` = \u001b[32mcol_double()\u001b[39m,\n",
       "  `11` = \u001b[32mcol_double()\u001b[39m,\n",
       "  `12` = \u001b[32mcol_double()\u001b[39m,\n",
       "  `13` = \u001b[32mcol_double()\u001b[39m,\n",
       "  `14` = \u001b[32mcol_double()\u001b[39m,\n",
       "  `15` = \u001b[32mcol_double()\u001b[39m,\n",
       "  `16` = \u001b[32mcol_double()\u001b[39m,\n",
       "  `17` = \u001b[32mcol_double()\u001b[39m,\n",
       "  `18` = \u001b[32mcol_double()\u001b[39m,\n",
       "  `19` = \u001b[32mcol_double()\u001b[39m,\n",
       "  `2` = \u001b[32mcol_double()\u001b[39m,\n",
       "  `20` = \u001b[32mcol_double()\u001b[39m,\n",
       "  `21` = \u001b[32mcol_double()\u001b[39m,\n",
       "  `22` = \u001b[32mcol_double()\u001b[39m,\n",
       "  `23` = \u001b[32mcol_double()\u001b[39m,\n",
       "  `3` = \u001b[32mcol_double()\u001b[39m,\n",
       "  `4` = \u001b[32mcol_double()\u001b[39m,\n",
       "  `5` = \u001b[32mcol_double()\u001b[39m,\n",
       "  `6` = \u001b[32mcol_double()\u001b[39m,\n",
       "  `7` = \u001b[32mcol_double()\u001b[39m,\n",
       "  `8` = \u001b[32mcol_double()\u001b[39m,\n",
       "  `9` = \u001b[32mcol_double()\u001b[39m,\n",
       "  AUTUMN = \u001b[32mcol_double()\u001b[39m,\n",
       "  SPRING = \u001b[32mcol_double()\u001b[39m,\n",
       "  SUMMER = \u001b[32mcol_double()\u001b[39m,\n",
       "  WINTER = \u001b[32mcol_double()\u001b[39m,\n",
       "  HOLIDAY = \u001b[32mcol_double()\u001b[39m,\n",
       "  NO_HOLIDAY = \u001b[32mcol_double()\u001b[39m\n",
       ")"
      ]
     },
     "metadata": {},
     "output_type": "display_data"
    }
   ],
   "source": [
    "# Dataset URL\n",
    "dataset_url <- \"https://cf-courses-data.s3.us.cloud-object-storage.appdomain.cloud/IBMDeveloperSkillsNetwork-RP0321EN-SkillsNetwork/labs/datasets/seoul_bike_sharing_converted_normalized.csv\"\n",
    "bike_sharing_df <- read_csv(dataset_url)\n",
    "spec(bike_sharing_df)"
   ]
  },
  {
   "cell_type": "markdown",
   "metadata": {},
   "source": [
    "We won't be using the `DATE` column, because 'as is', it basically acts like an data entry index. (However, given more time, we could use the `DATE` colum to create a 'day of week' or 'isWeekend' column, which we might expect has an affect on preferred bike rental times.) We also do not need the `FUNCTIONAL DAY` column because it only has one distinct value remaining (`YES`) after missing value processing.\n"
   ]
  },
  {
   "cell_type": "code",
   "execution_count": 4,
   "metadata": {},
   "outputs": [],
   "source": [
    "bike_sharing_df <- bike_sharing_df %>% \n",
    "                   select(-DATE, -FUNCTIONING_DAY)"
   ]
  },
  {
   "cell_type": "markdown",
   "metadata": {},
   "source": [
    "# TASK: Split training and testing data\n"
   ]
  },
  {
   "cell_type": "markdown",
   "metadata": {},
   "source": [
    "First, we need to split the full dataset into training and testing datasets.\n",
    "\n",
    "The training dataset will be used for fitting regression models, and the testing dataset will be used to evaluate the trained models.\n"
   ]
  },
  {
   "cell_type": "markdown",
   "metadata": {},
   "source": [
    "_TODO:_ Use the `initial_split()`, `training()`, and `testing()` functions to generate a training dataset consisting of 75% of the original dataset, and a testing dataset using the remaining 25%. \n"
   ]
  },
  {
   "cell_type": "code",
   "execution_count": 6,
   "metadata": {},
   "outputs": [],
   "source": [
    "# Use the `initial_split()`, `training()`, and `testing()` functions to split the dataset\n",
    "# With seed 1234\n",
    "set.seed(1234)\n",
    "data_split <- initial_split(bike_sharing_df, prop = 0.8)\n",
    "train_data <- training(data_split)\n",
    "test_data <- testing(data_split)"
   ]
  },
  {
   "cell_type": "markdown",
   "metadata": {},
   "source": [
    "# TASK: Build a linear regression model using weather variables only\n"
   ]
  },
  {
   "cell_type": "markdown",
   "metadata": {},
   "source": [
    "As you could imagine, weather conditions may affect people's bike renting decisions. For example, on a cold and rainy day, you may choose alternate transportation such as a bus or taxi.  While on a nice sunny day, you may want to rent a bike for a short-distance travel.\n"
   ]
  },
  {
   "cell_type": "markdown",
   "metadata": {},
   "source": [
    "Thus, can we predict a city's bike-sharing demand based on its local weather information? Let's try to build a regression model to do that.\n"
   ]
  },
  {
   "cell_type": "markdown",
   "metadata": {},
   "source": [
    "_TODO:_ Build a linear regression model called `lm_model_weather` using the following variables:\n",
    "\n",
    "- `TEMPERATURE` - Temperature in Celsius\n",
    "- `HUMIDITY` - Unit is `%`\n",
    "- `WIND_SPEED` - Unit is `m/s`\n",
    "- `VISIBILITY` - Multiplied by 10m\n",
    "- `DEW_POINT_TEMPERATURE` - The temperature to which the air would have to cool down in order to reach saturation, unit is Celsius\n",
    "- `SOLAR_RADIATION` - MJ/m2\n",
    "- `RAINFALL` - mm\n",
    "- `SNOWFALL` - cm\n"
   ]
  },
  {
   "cell_type": "markdown",
   "metadata": {},
   "source": [
    "Define a linear regression model specification.\n"
   ]
  },
  {
   "cell_type": "code",
   "execution_count": 11,
   "metadata": {},
   "outputs": [],
   "source": [
    "# Use `linear_reg()` with engine `lm` and mode `regression`\n",
    "# Add polynomial terms manually\n",
    "lm_model_weather <- linear_reg() %>%\n",
    "  set_engine(\"lm\") %>%\n",
    "  fit(RENTED_BIKE_COUNT ~ TEMPERATURE + I(TEMPERATURE^2) + HUMIDITY + WIND_SPEED +\n",
    "      VISIBILITY + DEW_POINT_TEMPERATURE + SOLAR_RADIATION + RAINFALL + SNOWFALL,\n",
    "      data = train_data)\n",
    "\n",
    "# Predictions\n",
    "test_results_poly <- predict(lm_poly, test_data) %>%\n",
    "  bind_cols(test_data %>% select(RENTED_BIKE_COUNT))\n",
    "\n",
    "# Fix negative predictions\n",
    "test_results_poly$.pred[test_results_poly$.pred < 0] <- 0\n",
    "\n",
    "# Evaluate\n",
    "rsq_poly <- rsq(test_results_poly, truth = RENTED_BIKE_COUNT, estimate = .pred)\n",
    "rmse_poly <- rmse(test_results_poly, truth = RENTED_BIKE_COUNT, estimate = .pred)\n"
   ]
  },
  {
   "cell_type": "markdown",
   "metadata": {},
   "source": [
    "Fit a model with the response variable `RENTED_BIKE_COUNT` and predictor variables `TEMPERATURE + HUMIDITY + WIND_SPEED + VISIBILITY + DEW_POINT_TEMPERATURE + SOLAR_RADIATION + RAINFALL + SNOWFALL`\n"
   ]
  },
  {
   "cell_type": "markdown",
   "metadata": {},
   "source": [
    "Print the fit summary for the `lm_model_weather` model.\n"
   ]
  },
  {
   "cell_type": "code",
   "execution_count": 12,
   "metadata": {},
   "outputs": [
    {
     "name": "stdout",
     "output_type": "stream",
     "text": [
      "\n",
      "Call:\n",
      "stats::lm(formula = RENTED_BIKE_COUNT ~ TEMPERATURE + I(TEMPERATURE^2) + \n",
      "    HUMIDITY + WIND_SPEED + VISIBILITY + DEW_POINT_TEMPERATURE + \n",
      "    SOLAR_RADIATION + RAINFALL + SNOWFALL, data = data)\n",
      "\n",
      "Coefficients:\n",
      "          (Intercept)            TEMPERATURE       I(TEMPERATURE^2)  \n",
      "              -179.23                3645.89               -1584.17  \n",
      "             HUMIDITY             WIND_SPEED             VISIBILITY  \n",
      "             -1103.47                 431.13                  70.94  \n",
      "DEW_POINT_TEMPERATURE        SOLAR_RADIATION               RAINFALL  \n",
      "                94.80                -406.88               -1763.22  \n",
      "             SNOWFALL  \n",
      "               524.83  \n",
      "\n"
     ]
    }
   ],
   "source": [
    "print(lm_model_weather$fit)"
   ]
  },
  {
   "cell_type": "markdown",
   "metadata": {},
   "source": [
    "You should see the model details such as formula, residuals, and coefficients.\n"
   ]
  },
  {
   "cell_type": "markdown",
   "metadata": {},
   "source": [
    "# TASK: Build a linear regression model using all variables\n"
   ]
  },
  {
   "cell_type": "markdown",
   "metadata": {},
   "source": [
    "In addition to weather, there could be other factors that may affect bike rental demand, such as the time of a day or if today is a holiday or not.\n"
   ]
  },
  {
   "cell_type": "markdown",
   "metadata": {},
   "source": [
    "Next, let's build a linear regression model using all variables (weather + date/time) in this task.\n"
   ]
  },
  {
   "cell_type": "markdown",
   "metadata": {},
   "source": [
    "_TODO:_ Build a linear regression model called `lm_model_all` using all variables `RENTED_BIKE_COUNT ~ .`\n"
   ]
  },
  {
   "cell_type": "code",
   "execution_count": 15,
   "metadata": {},
   "outputs": [],
   "source": [
    "# Fit the model called `lm_model_all`\n",
    "# `RENTED_BIKE_COUNT ~ .` means use all other variables except for the response variable\n",
    "# Linear model with interaction\n",
    "lm_model_all <- linear_reg() %>%\n",
    "  set_engine(\"lm\") %>%\n",
    "  fit(RENTED_BIKE_COUNT ~ TEMPERATURE*HUMIDITY + RAINFALL*HUMIDITY + \n",
    "      WIND_SPEED + VISIBILITY + DEW_POINT_TEMPERATURE + SOLAR_RADIATION + SNOWFALL,\n",
    "      data = train_data)\n",
    "\n",
    "test_results_interact <- predict(lm_model_all, test_data) %>%\n",
    "  bind_cols(test_data %>% select(RENTED_BIKE_COUNT))\n",
    "\n",
    "rsq_interact <- rsq(test_results_interact, truth = RENTED_BIKE_COUNT, estimate = .pred)\n",
    "rmse_interact <- rmse(test_results_interact, truth = RENTED_BIKE_COUNT, estimate = .pred)\n",
    "\n"
   ]
  },
  {
   "cell_type": "markdown",
   "metadata": {},
   "source": [
    "Print the fit summary for `lm_model_all`.\n"
   ]
  },
  {
   "cell_type": "code",
   "execution_count": 16,
   "metadata": {
    "scrolled": true
   },
   "outputs": [
    {
     "data": {
      "text/plain": [
       "\n",
       "Call:\n",
       "stats::lm(formula = RENTED_BIKE_COUNT ~ TEMPERATURE * HUMIDITY + \n",
       "    RAINFALL * HUMIDITY + WIND_SPEED + VISIBILITY + DEW_POINT_TEMPERATURE + \n",
       "    SOLAR_RADIATION + SNOWFALL, data = data)\n",
       "\n",
       "Residuals:\n",
       "     Min       1Q   Median       3Q      Max \n",
       "-1573.99  -279.97   -62.77   206.29  2311.44 \n",
       "\n",
       "Coefficients:\n",
       "                       Estimate Std. Error t value Pr(>|t|)    \n",
       "(Intercept)             -525.45      69.99  -7.508 6.78e-14 ***\n",
       "TEMPERATURE             3339.00     254.46  13.122  < 2e-16 ***\n",
       "HUMIDITY                 241.78     140.22   1.724   0.0847 .  \n",
       "RAINFALL              -47169.85    7629.14  -6.183 6.66e-10 ***\n",
       "WIND_SPEED               476.29      45.76  10.409  < 2e-16 ***\n",
       "VISIBILITY                58.79      23.76   2.475   0.0134 *  \n",
       "DEW_POINT_TEMPERATURE    168.45     265.43   0.635   0.5257    \n",
       "SOLAR_RADIATION         -545.96      33.41 -16.340  < 2e-16 ***\n",
       "SNOWFALL                 -32.98     126.38  -0.261   0.7941    \n",
       "TEMPERATURE:HUMIDITY   -2551.66     162.58 -15.695  < 2e-16 ***\n",
       "HUMIDITY:RAINFALL      46420.24    7735.72   6.001 2.07e-09 ***\n",
       "---\n",
       "Signif. codes:  0 ‘***’ 0.001 ‘**’ 0.01 ‘*’ 0.05 ‘.’ 0.1 ‘ ’ 1\n",
       "\n",
       "Residual standard error: 476.9 on 6761 degrees of freedom\n",
       "Multiple R-squared:  0.4534,\tAdjusted R-squared:  0.4526 \n",
       "F-statistic: 560.8 on 10 and 6761 DF,  p-value: < 2.2e-16\n"
      ]
     },
     "metadata": {},
     "output_type": "display_data"
    }
   ],
   "source": [
    "summary(lm_model_all$fit)"
   ]
  },
  {
   "cell_type": "markdown",
   "metadata": {},
   "source": [
    "Now you have built two basic linear regression models with different predictor variables, let's evaluate which model has better performance,\n"
   ]
  },
  {
   "cell_type": "markdown",
   "metadata": {},
   "source": [
    "# TASK: Model evaluation and identification of important variables\n"
   ]
  },
  {
   "cell_type": "markdown",
   "metadata": {},
   "source": [
    "Now that you have built two regression models, `lm_model_weather` and `lm_model_all`, with different predictor variables, you need to compare their performance to see which one is better.\n"
   ]
  },
  {
   "cell_type": "markdown",
   "metadata": {},
   "source": [
    "In this project, you will be asked to use very important metrics that are often used in Statistics to determine the performance of a model:\n",
    "\n",
    "1.  R^2 / R-squared \n",
    "2.  Root Mean Squared Error (RMSE)\n",
    "\n",
    "**R-squared**\n",
    "\n",
    "<p>R squared, also known as the coefficient of determination, is a measure to indicate how close the data is to the fitted regression line. The value of R-squared is the percentage of variation of the response variable (y) that is explained by a linear model.</p>\n",
    "\n",
    "**Root Mean Squared Error (RMSE)**\n",
    "$$\n",
    "RMSE = \\sqrt{MSE}\n",
    "$$\n",
    "\n",
    "As you know, the Mean Squared Error measures the average of the squares of errors, where 'error' is the difference between the actual value ($y$) and the estimated value ($ŷ$). \n",
    "Another metric that is related to MSE is **Root Mean Squared Error (RMSE)** and is simply the square root of MSE.\n"
   ]
  },
  {
   "cell_type": "markdown",
   "metadata": {},
   "source": [
    "We first need to test the `lm_model_weather` and `lm_model_all` models against the test dataset `test_data`, and generate `RENTED_BIKE_COUNT` prediction results.\n"
   ]
  },
  {
   "cell_type": "markdown",
   "metadata": {},
   "source": [
    "_TODO:_ Make predictions on the testing dataset using both `lm_model_weather` and `lm_model_all` models\n"
   ]
  },
  {
   "cell_type": "code",
   "execution_count": 23,
   "metadata": {},
   "outputs": [],
   "source": [
    "# Predict with lm_model_weather\n",
    "test_results_weather <- predict(lm_model_weather, test_data) %>%\n",
    "  bind_cols(test_data %>% select(RENTED_BIKE_COUNT))\n",
    "\n",
    "# Predict with lm_model_all\n",
    "test_results_all <- predict(lm_model_all, test_data) %>%\n",
    "  bind_cols(test_data %>% select(RENTED_BIKE_COUNT))\n"
   ]
  },
  {
   "cell_type": "code",
   "execution_count": 24,
   "metadata": {},
   "outputs": [],
   "source": [
    "# Load necessary package\n",
    "library(yardstick)\n",
    "\n",
    "# Evaluate weather model\n",
    "metrics_weather <- bind_rows(\n",
    "  rsq(test_results_weather, truth = RENTED_BIKE_COUNT, estimate = .pred),\n",
    "  rmse(test_results_weather, truth = RENTED_BIKE_COUNT, estimate = .pred)\n",
    ")\n",
    "\n",
    "# Evaluate all-features model\n",
    "metrics_all <- bind_rows(\n",
    "  rsq(test_results_all, truth = RENTED_BIKE_COUNT, estimate = .pred),\n",
    "  rmse(test_results_all, truth = RENTED_BIKE_COUNT, estimate = .pred)\n",
    ")\n"
   ]
  },
  {
   "cell_type": "code",
   "execution_count": 25,
   "metadata": {},
   "outputs": [
    {
     "name": "stdout",
     "output_type": "stream",
     "text": [
      "\u001b[90m# A tibble: 2 × 3\u001b[39m\n",
      "  .metric .estimator .estimate\n",
      "  \u001b[3m\u001b[90m<chr>\u001b[39m\u001b[23m   \u001b[3m\u001b[90m<chr>\u001b[39m\u001b[23m          \u001b[3m\u001b[90m<dbl>\u001b[39m\u001b[23m\n",
      "\u001b[90m1\u001b[39m rsq     standard       0.447\n",
      "\u001b[90m2\u001b[39m rmse    standard     471.   \n",
      "\u001b[90m# A tibble: 2 × 3\u001b[39m\n",
      "  .metric .estimator .estimate\n",
      "  \u001b[3m\u001b[90m<chr>\u001b[39m\u001b[23m   \u001b[3m\u001b[90m<chr>\u001b[39m\u001b[23m          \u001b[3m\u001b[90m<dbl>\u001b[39m\u001b[23m\n",
      "\u001b[90m1\u001b[39m rsq     standard       0.469\n",
      "\u001b[90m2\u001b[39m rmse    standard     462.   \n"
     ]
    }
   ],
   "source": [
    "print(metrics_weather)\n",
    "print(metrics_all)"
   ]
  },
  {
   "cell_type": "code",
   "execution_count": 50,
   "metadata": {
    "scrolled": true
   },
   "outputs": [
    {
     "data": {
      "text/html": [
       "<table class=\"dataframe\">\n",
       "<caption>A tibble: 1 × 3</caption>\n",
       "<thead>\n",
       "\t<tr><th scope=col>.metric</th><th scope=col>.estimator</th><th scope=col>.estimate</th></tr>\n",
       "\t<tr><th scope=col>&lt;chr&gt;</th><th scope=col>&lt;chr&gt;</th><th scope=col>&lt;dbl&gt;</th></tr>\n",
       "</thead>\n",
       "<tbody>\n",
       "\t<tr><td>rsq</td><td>standard</td><td>0.4474284</td></tr>\n",
       "</tbody>\n",
       "</table>\n"
      ],
      "text/latex": [
       "A tibble: 1 × 3\n",
       "\\begin{tabular}{lll}\n",
       " .metric & .estimator & .estimate\\\\\n",
       " <chr> & <chr> & <dbl>\\\\\n",
       "\\hline\n",
       "\t rsq & standard & 0.4474284\\\\\n",
       "\\end{tabular}\n"
      ],
      "text/markdown": [
       "\n",
       "A tibble: 1 × 3\n",
       "\n",
       "| .metric &lt;chr&gt; | .estimator &lt;chr&gt; | .estimate &lt;dbl&gt; |\n",
       "|---|---|---|\n",
       "| rsq | standard | 0.4474284 |\n",
       "\n"
      ],
      "text/plain": [
       "  .metric .estimator .estimate\n",
       "1 rsq     standard   0.4474284"
      ]
     },
     "metadata": {},
     "output_type": "display_data"
    },
    {
     "data": {
      "text/html": [
       "<table class=\"dataframe\">\n",
       "<caption>A tibble: 1 × 3</caption>\n",
       "<thead>\n",
       "\t<tr><th scope=col>.metric</th><th scope=col>.estimator</th><th scope=col>.estimate</th></tr>\n",
       "\t<tr><th scope=col>&lt;chr&gt;</th><th scope=col>&lt;chr&gt;</th><th scope=col>&lt;dbl&gt;</th></tr>\n",
       "</thead>\n",
       "<tbody>\n",
       "\t<tr><td>rmse</td><td>standard</td><td>470.5161</td></tr>\n",
       "</tbody>\n",
       "</table>\n"
      ],
      "text/latex": [
       "A tibble: 1 × 3\n",
       "\\begin{tabular}{lll}\n",
       " .metric & .estimator & .estimate\\\\\n",
       " <chr> & <chr> & <dbl>\\\\\n",
       "\\hline\n",
       "\t rmse & standard & 470.5161\\\\\n",
       "\\end{tabular}\n"
      ],
      "text/markdown": [
       "\n",
       "A tibble: 1 × 3\n",
       "\n",
       "| .metric &lt;chr&gt; | .estimator &lt;chr&gt; | .estimate &lt;dbl&gt; |\n",
       "|---|---|---|\n",
       "| rmse | standard | 470.5161 |\n",
       "\n"
      ],
      "text/plain": [
       "  .metric .estimator .estimate\n",
       "1 rmse    standard   470.5161 "
      ]
     },
     "metadata": {},
     "output_type": "display_data"
    },
    {
     "data": {
      "text/html": [
       "<table class=\"dataframe\">\n",
       "<caption>A tibble: 1 × 3</caption>\n",
       "<thead>\n",
       "\t<tr><th scope=col>.metric</th><th scope=col>.estimator</th><th scope=col>.estimate</th></tr>\n",
       "\t<tr><th scope=col>&lt;chr&gt;</th><th scope=col>&lt;chr&gt;</th><th scope=col>&lt;dbl&gt;</th></tr>\n",
       "</thead>\n",
       "<tbody>\n",
       "\t<tr><td>rsq</td><td>standard</td><td>0.4686006</td></tr>\n",
       "</tbody>\n",
       "</table>\n"
      ],
      "text/latex": [
       "A tibble: 1 × 3\n",
       "\\begin{tabular}{lll}\n",
       " .metric & .estimator & .estimate\\\\\n",
       " <chr> & <chr> & <dbl>\\\\\n",
       "\\hline\n",
       "\t rsq & standard & 0.4686006\\\\\n",
       "\\end{tabular}\n"
      ],
      "text/markdown": [
       "\n",
       "A tibble: 1 × 3\n",
       "\n",
       "| .metric &lt;chr&gt; | .estimator &lt;chr&gt; | .estimate &lt;dbl&gt; |\n",
       "|---|---|---|\n",
       "| rsq | standard | 0.4686006 |\n",
       "\n"
      ],
      "text/plain": [
       "  .metric .estimator .estimate\n",
       "1 rsq     standard   0.4686006"
      ]
     },
     "metadata": {},
     "output_type": "display_data"
    },
    {
     "data": {
      "text/html": [
       "<table class=\"dataframe\">\n",
       "<caption>A tibble: 1 × 3</caption>\n",
       "<thead>\n",
       "\t<tr><th scope=col>.metric</th><th scope=col>.estimator</th><th scope=col>.estimate</th></tr>\n",
       "\t<tr><th scope=col>&lt;chr&gt;</th><th scope=col>&lt;chr&gt;</th><th scope=col>&lt;dbl&gt;</th></tr>\n",
       "</thead>\n",
       "<tbody>\n",
       "\t<tr><td>rmse</td><td>standard</td><td>461.5299</td></tr>\n",
       "</tbody>\n",
       "</table>\n"
      ],
      "text/latex": [
       "A tibble: 1 × 3\n",
       "\\begin{tabular}{lll}\n",
       " .metric & .estimator & .estimate\\\\\n",
       " <chr> & <chr> & <dbl>\\\\\n",
       "\\hline\n",
       "\t rmse & standard & 461.5299\\\\\n",
       "\\end{tabular}\n"
      ],
      "text/markdown": [
       "\n",
       "A tibble: 1 × 3\n",
       "\n",
       "| .metric &lt;chr&gt; | .estimator &lt;chr&gt; | .estimate &lt;dbl&gt; |\n",
       "|---|---|---|\n",
       "| rmse | standard | 461.5299 |\n",
       "\n"
      ],
      "text/plain": [
       "  .metric .estimator .estimate\n",
       "1 rmse    standard   461.5299 "
      ]
     },
     "metadata": {},
     "output_type": "display_data"
    },
    {
     "data": {
      "text/html": [
       "<table class=\"dataframe\">\n",
       "<caption>A tibble: 1 × 3</caption>\n",
       "<thead>\n",
       "\t<tr><th scope=col>.metric</th><th scope=col>.estimator</th><th scope=col>.estimate</th></tr>\n",
       "\t<tr><th scope=col>&lt;chr&gt;</th><th scope=col>&lt;chr&gt;</th><th scope=col>&lt;dbl&gt;</th></tr>\n",
       "</thead>\n",
       "<tbody>\n",
       "\t<tr><td>rsq</td><td>standard</td><td>0.4686006</td></tr>\n",
       "</tbody>\n",
       "</table>\n"
      ],
      "text/latex": [
       "A tibble: 1 × 3\n",
       "\\begin{tabular}{lll}\n",
       " .metric & .estimator & .estimate\\\\\n",
       " <chr> & <chr> & <dbl>\\\\\n",
       "\\hline\n",
       "\t rsq & standard & 0.4686006\\\\\n",
       "\\end{tabular}\n"
      ],
      "text/markdown": [
       "\n",
       "A tibble: 1 × 3\n",
       "\n",
       "| .metric &lt;chr&gt; | .estimator &lt;chr&gt; | .estimate &lt;dbl&gt; |\n",
       "|---|---|---|\n",
       "| rsq | standard | 0.4686006 |\n",
       "\n"
      ],
      "text/plain": [
       "  .metric .estimator .estimate\n",
       "1 rsq     standard   0.4686006"
      ]
     },
     "metadata": {},
     "output_type": "display_data"
    },
    {
     "data": {
      "text/html": [
       "<table class=\"dataframe\">\n",
       "<caption>A tibble: 1 × 3</caption>\n",
       "<thead>\n",
       "\t<tr><th scope=col>.metric</th><th scope=col>.estimator</th><th scope=col>.estimate</th></tr>\n",
       "\t<tr><th scope=col>&lt;chr&gt;</th><th scope=col>&lt;chr&gt;</th><th scope=col>&lt;dbl&gt;</th></tr>\n",
       "</thead>\n",
       "<tbody>\n",
       "\t<tr><td>rmse</td><td>standard</td><td>461.5299</td></tr>\n",
       "</tbody>\n",
       "</table>\n"
      ],
      "text/latex": [
       "A tibble: 1 × 3\n",
       "\\begin{tabular}{lll}\n",
       " .metric & .estimator & .estimate\\\\\n",
       " <chr> & <chr> & <dbl>\\\\\n",
       "\\hline\n",
       "\t rmse & standard & 461.5299\\\\\n",
       "\\end{tabular}\n"
      ],
      "text/markdown": [
       "\n",
       "A tibble: 1 × 3\n",
       "\n",
       "| .metric &lt;chr&gt; | .estimator &lt;chr&gt; | .estimate &lt;dbl&gt; |\n",
       "|---|---|---|\n",
       "| rmse | standard | 461.5299 |\n",
       "\n"
      ],
      "text/plain": [
       "  .metric .estimator .estimate\n",
       "1 rmse    standard   461.5299 "
      ]
     },
     "metadata": {},
     "output_type": "display_data"
    }
   ],
   "source": [
    "# Generate predictions for lm_model_weather\n",
    "test_results_weather <- predict(lm_model_weather, new_data = test_data) %>%\n",
    "  bind_cols(test_data %>% select(RENTED_BIKE_COUNT))\n",
    "\n",
    "# Generate predictions for lm_model_all\n",
    "test_results_all <- predict(lm_model_all, new_data = test_data) %>%\n",
    "  bind_cols(test_data %>% select(RENTED_BIKE_COUNT))\n",
    "test_results_glmnet <- predict(lm_model_all, new_data = test_data) %>%\n",
    "  bind_cols(test_data %>% select(RENTED_BIKE_COUNT))\n",
    "# Evaluate weather-only model\n",
    "rsq_weather <- rsq(test_results_weather, truth = RENTED_BIKE_COUNT, estimate = .pred)\n",
    "rmse_weather <- rmse(test_results_weather, truth = RENTED_BIKE_COUNT, estimate = .pred)\n",
    "\n",
    "# Evaluate full model\n",
    "rsq_all <- rsq(test_results_all, truth = RENTED_BIKE_COUNT, estimate = .pred)\n",
    "rmse_all <- rmse(test_results_all, truth = RENTED_BIKE_COUNT, estimate = .pred)\n",
    "rsq_glmnet <- rsq(test_results_glmnet, truth = RENTED_BIKE_COUNT, estimate = .pred)\n",
    "rmse_glmnet <- rmse(test_results_glmnet, truth = RENTED_BIKE_COUNT, estimate = .pred)\n",
    "# Print evaluation results\n",
    "rsq_weather\n",
    "rmse_weather\n",
    "rsq_all\n",
    "rmse_all\n",
    "rsq_glmnet\n",
    "rmse_gmnlet"
   ]
  },
  {
   "cell_type": "markdown",
   "metadata": {},
   "source": [
    "NOTE: if you happen to see a warning like : `prediction from a rank-deficient fit may be misleading`, it may be casued by collinearity in the predictor variables. Collinearity means that one predictor variable can be predicted from other predictor variables to some degree. For example, `RAINFALL` could be predicted by `HUMIDITY`.\n",
    "\n",
    "But dont worry, you will address `glmnet` models (Lasso and Elastic-Net Regularized Generalized Linear Models) instead of regular `regression` models to solve this issue and futher improve the model performance.\n"
   ]
  },
  {
   "cell_type": "markdown",
   "metadata": {},
   "source": [
    "Next, let's calculate and print the R-squared and RMSE for the two test results\n"
   ]
  },
  {
   "cell_type": "markdown",
   "metadata": {},
   "source": [
    "_TODO:_ Use `rsq()` and `rmse()` functions to calculate R-squared and RMSE metrics for the two test results\n"
   ]
  },
  {
   "cell_type": "code",
   "execution_count": 51,
   "metadata": {
    "scrolled": true
   },
   "outputs": [
    {
     "data": {
      "text/html": [
       "<table class=\"dataframe\">\n",
       "<caption>A tibble: 1 × 3</caption>\n",
       "<thead>\n",
       "\t<tr><th scope=col>.metric</th><th scope=col>.estimator</th><th scope=col>.estimate</th></tr>\n",
       "\t<tr><th scope=col>&lt;chr&gt;</th><th scope=col>&lt;chr&gt;</th><th scope=col>&lt;dbl&gt;</th></tr>\n",
       "</thead>\n",
       "<tbody>\n",
       "\t<tr><td>rsq</td><td>standard</td><td>0.4474284</td></tr>\n",
       "</tbody>\n",
       "</table>\n"
      ],
      "text/latex": [
       "A tibble: 1 × 3\n",
       "\\begin{tabular}{lll}\n",
       " .metric & .estimator & .estimate\\\\\n",
       " <chr> & <chr> & <dbl>\\\\\n",
       "\\hline\n",
       "\t rsq & standard & 0.4474284\\\\\n",
       "\\end{tabular}\n"
      ],
      "text/markdown": [
       "\n",
       "A tibble: 1 × 3\n",
       "\n",
       "| .metric &lt;chr&gt; | .estimator &lt;chr&gt; | .estimate &lt;dbl&gt; |\n",
       "|---|---|---|\n",
       "| rsq | standard | 0.4474284 |\n",
       "\n"
      ],
      "text/plain": [
       "  .metric .estimator .estimate\n",
       "1 rsq     standard   0.4474284"
      ]
     },
     "metadata": {},
     "output_type": "display_data"
    },
    {
     "data": {
      "text/html": [
       "<table class=\"dataframe\">\n",
       "<caption>A tibble: 1 × 3</caption>\n",
       "<thead>\n",
       "\t<tr><th scope=col>.metric</th><th scope=col>.estimator</th><th scope=col>.estimate</th></tr>\n",
       "\t<tr><th scope=col>&lt;chr&gt;</th><th scope=col>&lt;chr&gt;</th><th scope=col>&lt;dbl&gt;</th></tr>\n",
       "</thead>\n",
       "<tbody>\n",
       "\t<tr><td>rsq</td><td>standard</td><td>0.4686006</td></tr>\n",
       "</tbody>\n",
       "</table>\n"
      ],
      "text/latex": [
       "A tibble: 1 × 3\n",
       "\\begin{tabular}{lll}\n",
       " .metric & .estimator & .estimate\\\\\n",
       " <chr> & <chr> & <dbl>\\\\\n",
       "\\hline\n",
       "\t rsq & standard & 0.4686006\\\\\n",
       "\\end{tabular}\n"
      ],
      "text/markdown": [
       "\n",
       "A tibble: 1 × 3\n",
       "\n",
       "| .metric &lt;chr&gt; | .estimator &lt;chr&gt; | .estimate &lt;dbl&gt; |\n",
       "|---|---|---|\n",
       "| rsq | standard | 0.4686006 |\n",
       "\n"
      ],
      "text/plain": [
       "  .metric .estimator .estimate\n",
       "1 rsq     standard   0.4686006"
      ]
     },
     "metadata": {},
     "output_type": "display_data"
    },
    {
     "data": {
      "text/html": [
       "<table class=\"dataframe\">\n",
       "<caption>A tibble: 1 × 3</caption>\n",
       "<thead>\n",
       "\t<tr><th scope=col>.metric</th><th scope=col>.estimator</th><th scope=col>.estimate</th></tr>\n",
       "\t<tr><th scope=col>&lt;chr&gt;</th><th scope=col>&lt;chr&gt;</th><th scope=col>&lt;dbl&gt;</th></tr>\n",
       "</thead>\n",
       "<tbody>\n",
       "\t<tr><td>rmse</td><td>standard</td><td>470.5161</td></tr>\n",
       "</tbody>\n",
       "</table>\n"
      ],
      "text/latex": [
       "A tibble: 1 × 3\n",
       "\\begin{tabular}{lll}\n",
       " .metric & .estimator & .estimate\\\\\n",
       " <chr> & <chr> & <dbl>\\\\\n",
       "\\hline\n",
       "\t rmse & standard & 470.5161\\\\\n",
       "\\end{tabular}\n"
      ],
      "text/markdown": [
       "\n",
       "A tibble: 1 × 3\n",
       "\n",
       "| .metric &lt;chr&gt; | .estimator &lt;chr&gt; | .estimate &lt;dbl&gt; |\n",
       "|---|---|---|\n",
       "| rmse | standard | 470.5161 |\n",
       "\n"
      ],
      "text/plain": [
       "  .metric .estimator .estimate\n",
       "1 rmse    standard   470.5161 "
      ]
     },
     "metadata": {},
     "output_type": "display_data"
    },
    {
     "data": {
      "text/html": [
       "<table class=\"dataframe\">\n",
       "<caption>A tibble: 1 × 3</caption>\n",
       "<thead>\n",
       "\t<tr><th scope=col>.metric</th><th scope=col>.estimator</th><th scope=col>.estimate</th></tr>\n",
       "\t<tr><th scope=col>&lt;chr&gt;</th><th scope=col>&lt;chr&gt;</th><th scope=col>&lt;dbl&gt;</th></tr>\n",
       "</thead>\n",
       "<tbody>\n",
       "\t<tr><td>rmse</td><td>standard</td><td>461.5299</td></tr>\n",
       "</tbody>\n",
       "</table>\n"
      ],
      "text/latex": [
       "A tibble: 1 × 3\n",
       "\\begin{tabular}{lll}\n",
       " .metric & .estimator & .estimate\\\\\n",
       " <chr> & <chr> & <dbl>\\\\\n",
       "\\hline\n",
       "\t rmse & standard & 461.5299\\\\\n",
       "\\end{tabular}\n"
      ],
      "text/markdown": [
       "\n",
       "A tibble: 1 × 3\n",
       "\n",
       "| .metric &lt;chr&gt; | .estimator &lt;chr&gt; | .estimate &lt;dbl&gt; |\n",
       "|---|---|---|\n",
       "| rmse | standard | 461.5299 |\n",
       "\n"
      ],
      "text/plain": [
       "  .metric .estimator .estimate\n",
       "1 rmse    standard   461.5299 "
      ]
     },
     "metadata": {},
     "output_type": "display_data"
    }
   ],
   "source": [
    "# rsq_weather <- rsq(...)\n",
    "# rsq_all <- rsq(...)\n",
    "\n",
    "# rmse_weather <- rmse(...)\n",
    "# rmse_all <- rmse(...)\n",
    "# Load yardstick if not already\n",
    "library(yardstick)\n",
    "\n",
    "# R-squared values\n",
    "rsq_weather <- rsq(test_results_weather, truth = RENTED_BIKE_COUNT, estimate = .pred)\n",
    "rsq_all <- rsq(test_results_all, truth = RENTED_BIKE_COUNT, estimate = .pred)\n",
    "\n",
    "# RMSE values\n",
    "rmse_weather <- rmse(test_results_weather, truth = RENTED_BIKE_COUNT, estimate = .pred)\n",
    "rmse_all <- rmse(test_results_all, truth = RENTED_BIKE_COUNT, estimate = .pred)\n",
    "\n",
    "# Print to compare\n",
    "rsq_weather\n",
    "rsq_all\n",
    "rmse_weather\n",
    "rmse_all\n"
   ]
  },
  {
   "cell_type": "markdown",
   "metadata": {},
   "source": [
    "From these tables, you should find that the test results from `lm_model_all` are much better. It means that using both weather and datetime variables in the model generates better prediction results.\n"
   ]
  },
  {
   "cell_type": "markdown",
   "metadata": {},
   "source": [
    "Since `lm_model_all` has many predictor variables, let's check which predictor variables have larger coefficients. Variables with larger coefficients in the model means they attribute more in the prediction of `RENTED_BIKE_COUNT`. In addition, since all predictor variables are normalized to the same scale, 0 to 1, we thus can compare their coefficients directly.\n"
   ]
  },
  {
   "cell_type": "markdown",
   "metadata": {},
   "source": [
    "You could try building another regression model using the non-normalized `seoul_bike_sharing_converted.csv` dataset, and you would find that the coefficients are much different.\n"
   ]
  },
  {
   "cell_type": "markdown",
   "metadata": {},
   "source": [
    "First let's print all coefficients:\n"
   ]
  },
  {
   "cell_type": "code",
   "execution_count": 33,
   "metadata": {},
   "outputs": [
    {
     "data": {
      "text/html": [
       "<style>\n",
       ".dl-inline {width: auto; margin:0; padding: 0}\n",
       ".dl-inline>dt, .dl-inline>dd {float: none; width: auto; display: inline-block}\n",
       ".dl-inline>dt::after {content: \":\\0020\"; padding-right: .5ex}\n",
       ".dl-inline>dt:not(:first-of-type) {padding-left: .5ex}\n",
       "</style><dl class=dl-inline><dt>(Intercept)</dt><dd>-525.450292592463</dd><dt>TEMPERATURE</dt><dd>3339.00059857269</dd><dt>HUMIDITY</dt><dd>241.777435225584</dd><dt>RAINFALL</dt><dd>-47169.8527212801</dd><dt>WIND_SPEED</dt><dd>476.293727101422</dd><dt>VISIBILITY</dt><dd>58.7914707398765</dd><dt>DEW_POINT_TEMPERATURE</dt><dd>168.45392406668</dd><dt>SOLAR_RADIATION</dt><dd>-545.962578412363</dd><dt>SNOWFALL</dt><dd>-32.981579536023</dd><dt>TEMPERATURE:HUMIDITY</dt><dd>-2551.66422025672</dd><dt>HUMIDITY:RAINFALL</dt><dd>46420.2429178773</dd></dl>\n"
      ],
      "text/latex": [
       "\\begin{description*}\n",
       "\\item[(Intercept)] -525.450292592463\n",
       "\\item[TEMPERATURE] 3339.00059857269\n",
       "\\item[HUMIDITY] 241.777435225584\n",
       "\\item[RAINFALL] -47169.8527212801\n",
       "\\item[WIND\\textbackslash{}\\_SPEED] 476.293727101422\n",
       "\\item[VISIBILITY] 58.7914707398765\n",
       "\\item[DEW\\textbackslash{}\\_POINT\\textbackslash{}\\_TEMPERATURE] 168.45392406668\n",
       "\\item[SOLAR\\textbackslash{}\\_RADIATION] -545.962578412363\n",
       "\\item[SNOWFALL] -32.981579536023\n",
       "\\item[TEMPERATURE:HUMIDITY] -2551.66422025672\n",
       "\\item[HUMIDITY:RAINFALL] 46420.2429178773\n",
       "\\end{description*}\n"
      ],
      "text/markdown": [
       "(Intercept)\n",
       ":   -525.450292592463TEMPERATURE\n",
       ":   3339.00059857269HUMIDITY\n",
       ":   241.777435225584RAINFALL\n",
       ":   -47169.8527212801WIND_SPEED\n",
       ":   476.293727101422VISIBILITY\n",
       ":   58.7914707398765DEW_POINT_TEMPERATURE\n",
       ":   168.45392406668SOLAR_RADIATION\n",
       ":   -545.962578412363SNOWFALL\n",
       ":   -32.981579536023TEMPERATURE:HUMIDITY\n",
       ":   -2551.66422025672HUMIDITY:RAINFALL\n",
       ":   46420.2429178773\n",
       "\n"
      ],
      "text/plain": [
       "          (Intercept)           TEMPERATURE              HUMIDITY \n",
       "           -525.45029            3339.00060             241.77744 \n",
       "             RAINFALL            WIND_SPEED            VISIBILITY \n",
       "         -47169.85272             476.29373              58.79147 \n",
       "DEW_POINT_TEMPERATURE       SOLAR_RADIATION              SNOWFALL \n",
       "            168.45392            -545.96258             -32.98158 \n",
       " TEMPERATURE:HUMIDITY     HUMIDITY:RAINFALL \n",
       "          -2551.66422           46420.24292 "
      ]
     },
     "metadata": {},
     "output_type": "display_data"
    }
   ],
   "source": [
    "lm_model_all$fit$coefficients"
   ]
  },
  {
   "cell_type": "markdown",
   "metadata": {},
   "source": [
    "hmm, it's not very clear to compare the coefficients from a long and unsorted list. Next, you need to sort and visualize them using a bar chart\n"
   ]
  },
  {
   "cell_type": "markdown",
   "metadata": {},
   "source": [
    "_TODO:_ Sort the coefficient list in descending order and visualize the result using `ggplot` and `geom_bar` \n"
   ]
  },
  {
   "cell_type": "code",
   "execution_count": 54,
   "metadata": {},
   "outputs": [],
   "source": [
    "# Sort coefficient list\n",
    "# Extract coefficients from glmnet\n",
    "coef_df <- tidy(lm_model_all$fit) %>%\n",
    "  filter(term != \"(Intercept)\") %>%\n",
    "  mutate(abs_estimate = abs(estimate)) %>%\n",
    "  arrange(desc(abs_estimate)) %>%\n",
    "  head(10)"
   ]
  },
  {
   "cell_type": "code",
   "execution_count": 56,
   "metadata": {},
   "outputs": [
    {
     "data": {
      "application/pdf": "[encoded data removed]",
      "image/jpeg": "[encoded data removed]",
      "image/png": "[encoded data removed]",
      "image/svg+xml": [
       "<?xml version=\"1.0\" encoding=\"UTF-8\"?>\n",
       "<svg xmlns=\"http://www.w3.org/2000/svg\" xmlns:xlink=\"http://www.w3.org/1999/xlink\" width=\"504\" height=\"504\" viewBox=\"0 0 504 504\">\n",
       "<defs>\n",
       "<g>\n",
       "<g id=\"glyph-0-0\">\n",
       "<path d=\"M 5.46875 -1.671875 C 5.46875 -1.109375 5.25 -0.675781 4.8125 -0.375 C 4.375 -0.0703125 3.757812 0.078125 2.96875 0.078125 C 1.488281 0.078125 0.632812 -0.429688 0.40625 -1.453125 L 1.1875 -1.609375 C 1.28125 -1.242188 1.472656 -0.972656 1.765625 -0.796875 C 2.066406 -0.628906 2.476562 -0.546875 3 -0.546875 C 3.519531 -0.546875 3.925781 -0.632812 4.21875 -0.8125 C 4.507812 -1 4.65625 -1.269531 4.65625 -1.625 C 4.65625 -1.820312 4.609375 -1.984375 4.515625 -2.109375 C 4.421875 -2.234375 4.289062 -2.332031 4.125 -2.40625 C 3.96875 -2.488281 3.773438 -2.554688 3.546875 -2.609375 C 3.328125 -2.671875 3.078125 -2.734375 2.796875 -2.796875 C 2.316406 -2.898438 1.953125 -3.003906 1.703125 -3.109375 C 1.460938 -3.210938 1.269531 -3.328125 1.125 -3.453125 C 0.976562 -3.585938 0.867188 -3.742188 0.796875 -3.921875 C 0.722656 -4.097656 0.6875 -4.296875 0.6875 -4.515625 C 0.6875 -5.035156 0.882812 -5.4375 1.28125 -5.71875 C 1.675781 -6 2.242188 -6.140625 2.984375 -6.140625 C 3.671875 -6.140625 4.195312 -6.035156 4.5625 -5.828125 C 4.925781 -5.617188 5.179688 -5.257812 5.328125 -4.75 L 4.515625 -4.609375 C 4.421875 -4.929688 4.25 -5.164062 4 -5.3125 C 3.757812 -5.457031 3.414062 -5.53125 2.96875 -5.53125 C 2.488281 -5.53125 2.117188 -5.445312 1.859375 -5.28125 C 1.609375 -5.125 1.484375 -4.882812 1.484375 -4.5625 C 1.484375 -4.375 1.53125 -4.21875 1.625 -4.09375 C 1.726562 -3.976562 1.875 -3.878906 2.0625 -3.796875 C 2.25 -3.710938 2.617188 -3.609375 3.171875 -3.484375 C 3.359375 -3.441406 3.539062 -3.394531 3.71875 -3.34375 C 3.90625 -3.300781 4.082031 -3.25 4.25 -3.1875 C 4.425781 -3.125 4.585938 -3.050781 4.734375 -2.96875 C 4.878906 -2.894531 5.003906 -2.796875 5.109375 -2.671875 C 5.222656 -2.546875 5.3125 -2.398438 5.375 -2.234375 C 5.4375 -2.078125 5.46875 -1.890625 5.46875 -1.671875 Z M 5.46875 -1.671875 \"/>\n",
       "</g>\n",
       "<g id=\"glyph-0-1\">\n",
       "<path d=\"M 4.640625 0 L 1.40625 -5.15625 L 1.4375 -4.734375 L 1.453125 -4.015625 L 1.453125 0 L 0.71875 0 L 0.71875 -6.046875 L 1.671875 -6.046875 L 4.953125 -0.859375 C 4.910156 -1.421875 4.890625 -1.828125 4.890625 -2.078125 L 4.890625 -6.046875 L 5.640625 -6.046875 L 5.640625 0 Z M 4.640625 0 \"/>\n",
       "</g>\n",
       "<g id=\"glyph-0-2\">\n",
       "<path d=\"M 6.421875 -3.046875 C 6.421875 -2.421875 6.300781 -1.867188 6.0625 -1.390625 C 5.820312 -0.910156 5.472656 -0.546875 5.015625 -0.296875 C 4.566406 -0.046875 4.035156 0.078125 3.421875 0.078125 C 2.796875 0.078125 2.253906 -0.046875 1.796875 -0.296875 C 1.347656 -0.546875 1.003906 -0.90625 0.765625 -1.375 C 0.535156 -1.851562 0.421875 -2.410156 0.421875 -3.046875 C 0.421875 -4.015625 0.679688 -4.769531 1.203125 -5.3125 C 1.734375 -5.863281 2.472656 -6.140625 3.421875 -6.140625 C 4.035156 -6.140625 4.566406 -6.015625 5.015625 -5.765625 C 5.472656 -5.523438 5.820312 -5.171875 6.0625 -4.703125 C 6.300781 -4.234375 6.421875 -3.679688 6.421875 -3.046875 Z M 5.578125 -3.046875 C 5.578125 -3.804688 5.390625 -4.398438 5.015625 -4.828125 C 4.640625 -5.253906 4.109375 -5.46875 3.421875 -5.46875 C 2.734375 -5.46875 2.195312 -5.253906 1.8125 -4.828125 C 1.4375 -4.410156 1.25 -3.816406 1.25 -3.046875 C 1.25 -2.296875 1.4375 -1.695312 1.8125 -1.25 C 2.195312 -0.800781 2.734375 -0.578125 3.421875 -0.578125 C 4.117188 -0.578125 4.648438 -0.789062 5.015625 -1.21875 C 5.390625 -1.65625 5.578125 -2.265625 5.578125 -3.046875 Z M 5.578125 -3.046875 \"/>\n",
       "</g>\n",
       "<g id=\"glyph-0-3\">\n",
       "<path d=\"M 6.484375 0 L 5.515625 0 L 4.46875 -3.84375 C 4.394531 -4.082031 4.289062 -4.515625 4.15625 -5.140625 C 4.082031 -4.804688 4.019531 -4.523438 3.96875 -4.296875 C 3.914062 -4.078125 3.523438 -2.644531 2.796875 0 L 1.828125 0 L 0.03125 -6.046875 L 0.890625 -6.046875 L 1.984375 -2.203125 C 2.109375 -1.722656 2.226562 -1.226562 2.34375 -0.71875 C 2.40625 -1.03125 2.476562 -1.375 2.5625 -1.75 C 2.65625 -2.125 3.054688 -3.554688 3.765625 -6.046875 L 4.546875 -6.046875 L 5.609375 -2.28125 C 5.765625 -1.664062 5.890625 -1.144531 5.984375 -0.71875 L 6.015625 -0.875 C 6.097656 -1.195312 6.160156 -1.460938 6.203125 -1.671875 C 6.253906 -1.878906 6.660156 -3.335938 7.421875 -6.046875 L 8.265625 -6.046875 Z M 6.484375 0 \"/>\n",
       "</g>\n",
       "<g id=\"glyph-0-4\">\n",
       "<path d=\"M 1.546875 -5.375 L 1.546875 -3.125 L 4.921875 -3.125 L 4.921875 -2.453125 L 1.546875 -2.453125 L 1.546875 0 L 0.71875 0 L 0.71875 -6.046875 L 5.015625 -6.046875 L 5.015625 -5.375 Z M 1.546875 -5.375 \"/>\n",
       "</g>\n",
       "<g id=\"glyph-0-5\">\n",
       "<path d=\"M 5.015625 0 L 4.328125 -1.765625 L 1.5625 -1.765625 L 0.875 0 L 0.015625 0 L 2.484375 -6.046875 L 3.421875 -6.046875 L 5.84375 0 Z M 2.9375 -5.4375 L 2.90625 -5.3125 C 2.832031 -5.070312 2.722656 -4.769531 2.578125 -4.40625 L 1.8125 -2.40625 L 4.078125 -2.40625 L 3.296875 -4.40625 C 3.210938 -4.601562 3.132812 -4.828125 3.0625 -5.078125 Z M 2.9375 -5.4375 \"/>\n",
       "</g>\n",
       "<g id=\"glyph-0-6\">\n",
       "<path d=\"M 0.71875 0 L 0.71875 -6.046875 L 1.546875 -6.046875 L 1.546875 -0.671875 L 4.59375 -0.671875 L 4.59375 0 Z M 0.71875 0 \"/>\n",
       "</g>\n",
       "<g id=\"glyph-0-7\">\n",
       "<path d=\"M 3.359375 0 L 2.515625 0 L 0.03125 -6.046875 L 0.90625 -6.046875 L 2.578125 -1.796875 L 2.9375 -0.71875 L 3.296875 -1.796875 L 4.96875 -6.046875 L 5.828125 -6.046875 Z M 3.359375 0 \"/>\n",
       "</g>\n",
       "<g id=\"glyph-0-8\">\n",
       "<path d=\"M 0.8125 0 L 0.8125 -6.046875 L 1.625 -6.046875 L 1.625 0 Z M 0.8125 0 \"/>\n",
       "</g>\n",
       "<g id=\"glyph-0-9\">\n",
       "<path d=\"M 5.40625 -1.703125 C 5.40625 -1.160156 5.207031 -0.738281 4.8125 -0.4375 C 4.425781 -0.144531 3.878906 0 3.171875 0 L 0.71875 0 L 0.71875 -6.046875 L 2.921875 -6.046875 C 4.335938 -6.046875 5.046875 -5.554688 5.046875 -4.578125 C 5.046875 -4.222656 4.945312 -3.921875 4.75 -3.671875 C 4.550781 -3.429688 4.269531 -3.269531 3.90625 -3.1875 C 4.382812 -3.132812 4.753906 -2.972656 5.015625 -2.703125 C 5.273438 -2.441406 5.40625 -2.109375 5.40625 -1.703125 Z M 4.234375 -4.484375 C 4.234375 -4.804688 4.117188 -5.035156 3.890625 -5.171875 C 3.671875 -5.316406 3.347656 -5.390625 2.921875 -5.390625 L 1.546875 -5.390625 L 1.546875 -3.484375 L 2.921875 -3.484375 C 3.359375 -3.484375 3.6875 -3.5625 3.90625 -3.71875 C 4.125 -3.882812 4.234375 -4.140625 4.234375 -4.484375 Z M 4.578125 -1.765625 C 4.578125 -2.484375 4.078125 -2.84375 3.078125 -2.84375 L 1.546875 -2.84375 L 1.546875 -0.65625 L 3.140625 -0.65625 C 3.640625 -0.65625 4.003906 -0.75 4.234375 -0.9375 C 4.460938 -1.125 4.578125 -1.398438 4.578125 -1.765625 Z M 4.578125 -1.765625 \"/>\n",
       "</g>\n",
       "<g id=\"glyph-0-10\">\n",
       "<path d=\"M 3.09375 -5.375 L 3.09375 0 L 2.28125 0 L 2.28125 -5.375 L 0.203125 -5.375 L 0.203125 -6.046875 L 5.171875 -6.046875 L 5.171875 -5.375 Z M 3.09375 -5.375 \"/>\n",
       "</g>\n",
       "<g id=\"glyph-0-11\">\n",
       "<path d=\"M 3.34375 -2.515625 L 3.34375 0 L 2.515625 0 L 2.515625 -2.515625 L 0.1875 -6.046875 L 1.09375 -6.046875 L 2.9375 -3.171875 L 4.765625 -6.046875 L 5.671875 -6.046875 Z M 3.34375 -2.515625 \"/>\n",
       "</g>\n",
       "<g id=\"glyph-0-12\">\n",
       "<path d=\"M 5.9375 -3.09375 C 5.9375 -2.46875 5.8125 -1.921875 5.5625 -1.453125 C 5.320312 -0.984375 4.976562 -0.625 4.53125 -0.375 C 4.082031 -0.125 3.566406 0 2.984375 0 L 0.71875 0 L 0.71875 -6.046875 L 2.71875 -6.046875 C 3.75 -6.046875 4.539062 -5.789062 5.09375 -5.28125 C 5.65625 -4.769531 5.9375 -4.039062 5.9375 -3.09375 Z M 5.109375 -3.09375 C 5.109375 -3.84375 4.898438 -4.410156 4.484375 -4.796875 C 4.078125 -5.191406 3.484375 -5.390625 2.703125 -5.390625 L 1.546875 -5.390625 L 1.546875 -0.65625 L 2.890625 -0.65625 C 3.335938 -0.65625 3.726562 -0.75 4.0625 -0.9375 C 4.394531 -1.132812 4.648438 -1.414062 4.828125 -1.78125 C 5.015625 -2.15625 5.109375 -2.59375 5.109375 -3.09375 Z M 5.109375 -3.09375 \"/>\n",
       "</g>\n",
       "<g id=\"glyph-0-13\">\n",
       "<path d=\"M 0.71875 0 L 0.71875 -6.046875 L 5.3125 -6.046875 L 5.3125 -5.375 L 1.546875 -5.375 L 1.546875 -3.4375 L 5.0625 -3.4375 L 5.0625 -2.78125 L 1.546875 -2.78125 L 1.546875 -0.671875 L 5.484375 -0.671875 L 5.484375 0 Z M 0.71875 0 \"/>\n",
       "</g>\n",
       "<g id=\"glyph-0-14\">\n",
       "<path d=\"M -0.140625 1.75 L -0.140625 1.1875 L 4.984375 1.1875 L 4.984375 1.75 Z M -0.140625 1.75 \"/>\n",
       "</g>\n",
       "<g id=\"glyph-0-15\">\n",
       "<path d=\"M 5.40625 -4.234375 C 5.40625 -3.660156 5.21875 -3.203125 4.84375 -2.859375 C 4.46875 -2.523438 3.957031 -2.359375 3.3125 -2.359375 L 1.546875 -2.359375 L 1.546875 0 L 0.71875 0 L 0.71875 -6.046875 L 3.265625 -6.046875 C 3.941406 -6.046875 4.46875 -5.882812 4.84375 -5.5625 C 5.21875 -5.25 5.40625 -4.804688 5.40625 -4.234375 Z M 4.578125 -4.21875 C 4.578125 -5 4.109375 -5.390625 3.171875 -5.390625 L 1.546875 -5.390625 L 1.546875 -3 L 3.203125 -3 C 4.117188 -3 4.578125 -3.40625 4.578125 -4.21875 Z M 4.578125 -4.21875 \"/>\n",
       "</g>\n",
       "<g id=\"glyph-0-16\">\n",
       "<path d=\"M 5.875 0 L 5.875 -4.03125 C 5.875 -4.476562 5.882812 -4.910156 5.90625 -5.328125 C 5.769531 -4.816406 5.644531 -4.414062 5.53125 -4.125 L 3.96875 0 L 3.390625 0 L 1.796875 -4.125 L 1.5625 -4.859375 L 1.421875 -5.328125 L 1.4375 -4.84375 L 1.453125 -4.03125 L 1.453125 0 L 0.71875 0 L 0.71875 -6.046875 L 1.796875 -6.046875 L 3.40625 -1.859375 C 3.46875 -1.691406 3.523438 -1.507812 3.578125 -1.3125 C 3.628906 -1.113281 3.664062 -0.972656 3.6875 -0.890625 C 3.707031 -1.003906 3.753906 -1.175781 3.828125 -1.40625 C 3.898438 -1.644531 3.945312 -1.796875 3.96875 -1.859375 L 5.546875 -6.046875 L 6.609375 -6.046875 L 6.609375 0 Z M 5.875 0 \"/>\n",
       "</g>\n",
       "<g id=\"glyph-0-17\">\n",
       "<path d=\"M 5 0 L 3.421875 -2.515625 L 1.546875 -2.515625 L 1.546875 0 L 0.71875 0 L 0.71875 -6.046875 L 3.5625 -6.046875 C 4.25 -6.046875 4.773438 -5.894531 5.140625 -5.59375 C 5.515625 -5.289062 5.703125 -4.867188 5.703125 -4.328125 C 5.703125 -3.867188 5.570312 -3.488281 5.3125 -3.1875 C 5.050781 -2.882812 4.691406 -2.691406 4.234375 -2.609375 L 5.9375 0 Z M 4.875 -4.3125 C 4.875 -4.664062 4.753906 -4.929688 4.515625 -5.109375 C 4.273438 -5.296875 3.929688 -5.390625 3.484375 -5.390625 L 1.546875 -5.390625 L 1.546875 -3.15625 L 3.515625 -3.15625 C 3.953125 -3.15625 4.285156 -3.253906 4.515625 -3.453125 C 4.753906 -3.660156 4.875 -3.945312 4.875 -4.3125 Z M 4.875 -4.3125 \"/>\n",
       "</g>\n",
       "<g id=\"glyph-0-18\">\n",
       "<path d=\"M 3.140625 0.078125 C 2.640625 0.078125 2.203125 -0.0078125 1.828125 -0.1875 C 1.460938 -0.363281 1.175781 -0.625 0.96875 -0.96875 C 0.769531 -1.3125 0.671875 -1.722656 0.671875 -2.203125 L 0.671875 -6.046875 L 1.5 -6.046875 L 1.5 -2.265625 C 1.5 -1.710938 1.640625 -1.289062 1.921875 -1 C 2.203125 -0.71875 2.609375 -0.578125 3.140625 -0.578125 C 3.679688 -0.578125 4.101562 -0.722656 4.40625 -1.015625 C 4.707031 -1.316406 4.859375 -1.753906 4.859375 -2.328125 L 4.859375 -6.046875 L 5.671875 -6.046875 L 5.671875 -2.28125 C 5.671875 -1.789062 5.566406 -1.367188 5.359375 -1.015625 C 5.148438 -0.660156 4.851562 -0.390625 4.46875 -0.203125 C 4.09375 -0.015625 3.648438 0.078125 3.140625 0.078125 Z M 3.140625 0.078125 \"/>\n",
       "</g>\n",
       "<g id=\"glyph-0-19\">\n",
       "<path d=\"M 4.8125 0 L 4.8125 -2.8125 L 1.546875 -2.8125 L 1.546875 0 L 0.71875 0 L 0.71875 -6.046875 L 1.546875 -6.046875 L 1.546875 -3.484375 L 4.8125 -3.484375 L 4.8125 -6.046875 L 5.640625 -6.046875 L 5.640625 0 Z M 4.8125 0 \"/>\n",
       "</g>\n",
       "<g id=\"glyph-0-20\">\n",
       "<path d=\"M 0.796875 -3.765625 L 0.796875 -4.640625 L 1.640625 -4.640625 L 1.640625 -3.765625 Z M 0.796875 0 L 0.796875 -0.890625 L 1.640625 -0.890625 L 1.640625 0 Z M 0.796875 0 \"/>\n",
       "</g>\n",
       "<g id=\"glyph-0-21\">\n",
       "<path d=\"M 0.390625 -2 L 0.390625 -2.6875 L 2.53125 -2.6875 L 2.53125 -2 Z M 0.390625 -2 \"/>\n",
       "</g>\n",
       "<g id=\"glyph-0-22\">\n",
       "<path d=\"M 4.515625 -1.96875 C 4.515625 -1.332031 4.328125 -0.832031 3.953125 -0.46875 C 3.578125 -0.101562 3.050781 0.078125 2.375 0.078125 C 1.8125 0.078125 1.351562 -0.0390625 1 -0.28125 C 0.65625 -0.53125 0.441406 -0.890625 0.359375 -1.359375 L 1.140625 -1.4375 C 1.296875 -0.84375 1.710938 -0.546875 2.390625 -0.546875 C 2.804688 -0.546875 3.128906 -0.671875 3.359375 -0.921875 C 3.597656 -1.171875 3.71875 -1.515625 3.71875 -1.953125 C 3.71875 -2.335938 3.597656 -2.644531 3.359375 -2.875 C 3.128906 -3.113281 2.8125 -3.234375 2.40625 -3.234375 C 2.195312 -3.234375 2.003906 -3.195312 1.828125 -3.125 C 1.648438 -3.0625 1.46875 -2.953125 1.28125 -2.796875 L 0.53125 -2.796875 L 0.734375 -6.046875 L 4.171875 -6.046875 L 4.171875 -5.390625 L 1.4375 -5.390625 L 1.3125 -3.46875 C 1.65625 -3.726562 2.070312 -3.859375 2.5625 -3.859375 C 3.164062 -3.859375 3.640625 -3.679688 3.984375 -3.328125 C 4.335938 -2.984375 4.515625 -2.53125 4.515625 -1.96875 Z M 4.515625 -1.96875 \"/>\n",
       "</g>\n",
       "<g id=\"glyph-0-23\">\n",
       "<path d=\"M 4.546875 -3.03125 C 4.546875 -2.019531 4.367188 -1.25 4.015625 -0.71875 C 3.660156 -0.1875 3.132812 0.078125 2.4375 0.078125 C 1.738281 0.078125 1.210938 -0.179688 0.859375 -0.703125 C 0.515625 -1.234375 0.34375 -2.007812 0.34375 -3.03125 C 0.34375 -4.070312 0.507812 -4.847656 0.84375 -5.359375 C 1.1875 -5.878906 1.726562 -6.140625 2.46875 -6.140625 C 3.175781 -6.140625 3.695312 -5.875 4.03125 -5.34375 C 4.375 -4.820312 4.546875 -4.050781 4.546875 -3.03125 Z M 3.765625 -3.03125 C 3.765625 -3.90625 3.660156 -4.535156 3.453125 -4.921875 C 3.253906 -5.316406 2.925781 -5.515625 2.46875 -5.515625 C 1.988281 -5.515625 1.644531 -5.320312 1.4375 -4.9375 C 1.226562 -4.550781 1.125 -3.914062 1.125 -3.03125 C 1.125 -2.164062 1.226562 -1.535156 1.4375 -1.140625 C 1.644531 -0.742188 1.976562 -0.546875 2.4375 -0.546875 C 2.894531 -0.546875 3.226562 -0.75 3.4375 -1.15625 C 3.65625 -1.5625 3.765625 -2.1875 3.765625 -3.03125 Z M 3.765625 -3.03125 \"/>\n",
       "</g>\n",
       "<g id=\"glyph-0-24\">\n",
       "<path d=\"M 0.4375 0 L 0.4375 -0.546875 C 0.582031 -0.878906 0.757812 -1.171875 0.96875 -1.421875 C 1.1875 -1.679688 1.410156 -1.914062 1.640625 -2.125 C 1.867188 -2.332031 2.097656 -2.523438 2.328125 -2.703125 C 2.554688 -2.878906 2.757812 -3.054688 2.9375 -3.234375 C 3.125 -3.410156 3.273438 -3.597656 3.390625 -3.796875 C 3.503906 -3.992188 3.5625 -4.210938 3.5625 -4.453125 C 3.5625 -4.785156 3.460938 -5.039062 3.265625 -5.21875 C 3.078125 -5.40625 2.804688 -5.5 2.453125 -5.5 C 2.128906 -5.5 1.859375 -5.410156 1.640625 -5.234375 C 1.429688 -5.054688 1.304688 -4.804688 1.265625 -4.484375 L 0.484375 -4.5625 C 0.535156 -5.039062 0.738281 -5.421875 1.09375 -5.703125 C 1.445312 -5.992188 1.898438 -6.140625 2.453125 -6.140625 C 3.066406 -6.140625 3.535156 -5.992188 3.859375 -5.703125 C 4.191406 -5.421875 4.359375 -5.015625 4.359375 -4.484375 C 4.359375 -4.242188 4.300781 -4.007812 4.1875 -3.78125 C 4.082031 -3.550781 3.921875 -3.316406 3.703125 -3.078125 C 3.492188 -2.847656 3.09375 -2.492188 2.5 -2.015625 C 2.164062 -1.742188 1.898438 -1.5 1.703125 -1.28125 C 1.515625 -1.0625 1.378906 -0.851562 1.296875 -0.65625 L 4.453125 -0.65625 L 4.453125 0 Z M 0.4375 0 \"/>\n",
       "</g>\n",
       "<g id=\"glyph-1-0\">\n",
       "<path d=\"M 4.25 -6.84375 C 3.414062 -6.84375 2.765625 -6.570312 2.296875 -6.03125 C 1.828125 -5.488281 1.59375 -4.75 1.59375 -3.8125 C 1.59375 -2.882812 1.835938 -2.140625 2.328125 -1.578125 C 2.816406 -1.015625 3.472656 -0.734375 4.296875 -0.734375 C 5.359375 -0.734375 6.15625 -1.257812 6.6875 -2.3125 L 7.53125 -1.890625 C 7.21875 -1.234375 6.773438 -0.734375 6.203125 -0.390625 C 5.640625 -0.0546875 4.988281 0.109375 4.25 0.109375 C 3.488281 0.109375 2.828125 -0.046875 2.265625 -0.359375 C 1.710938 -0.679688 1.289062 -1.132812 1 -1.71875 C 0.707031 -2.3125 0.5625 -3.007812 0.5625 -3.8125 C 0.5625 -5.019531 0.882812 -5.96875 1.53125 -6.65625 C 2.1875 -7.34375 3.09375 -7.6875 4.25 -7.6875 C 5.050781 -7.6875 5.722656 -7.523438 6.265625 -7.203125 C 6.804688 -6.890625 7.203125 -6.425781 7.453125 -5.8125 L 6.484375 -5.484375 C 6.304688 -5.921875 6.019531 -6.253906 5.625 -6.484375 C 5.238281 -6.722656 4.78125 -6.84375 4.25 -6.84375 Z M 4.25 -6.84375 \"/>\n",
       "</g>\n",
       "<g id=\"glyph-1-1\">\n",
       "<path d=\"M 5.65625 -2.90625 C 5.65625 -1.894531 5.429688 -1.140625 4.984375 -0.640625 C 4.535156 -0.140625 3.882812 0.109375 3.03125 0.109375 C 2.1875 0.109375 1.546875 -0.144531 1.109375 -0.65625 C 0.679688 -1.175781 0.46875 -1.925781 0.46875 -2.90625 C 0.46875 -4.914062 1.332031 -5.921875 3.0625 -5.921875 C 3.957031 -5.921875 4.613281 -5.675781 5.03125 -5.1875 C 5.445312 -4.695312 5.65625 -3.9375 5.65625 -2.90625 Z M 4.640625 -2.90625 C 4.640625 -3.707031 4.519531 -4.289062 4.28125 -4.65625 C 4.039062 -5.019531 3.640625 -5.203125 3.078125 -5.203125 C 2.515625 -5.203125 2.109375 -5.015625 1.859375 -4.640625 C 1.609375 -4.273438 1.484375 -3.695312 1.484375 -2.90625 C 1.484375 -2.144531 1.601562 -1.570312 1.84375 -1.1875 C 2.09375 -0.800781 2.488281 -0.609375 3.03125 -0.609375 C 3.601562 -0.609375 4.015625 -0.789062 4.265625 -1.15625 C 4.515625 -1.53125 4.640625 -2.113281 4.640625 -2.90625 Z M 4.640625 -2.90625 \"/>\n",
       "</g>\n",
       "<g id=\"glyph-1-2\">\n",
       "<path d=\"M 1.484375 -2.703125 C 1.484375 -2.035156 1.617188 -1.519531 1.890625 -1.15625 C 2.171875 -0.800781 2.578125 -0.625 3.109375 -0.625 C 3.523438 -0.625 3.859375 -0.707031 4.109375 -0.875 C 4.359375 -1.039062 4.53125 -1.253906 4.625 -1.515625 L 5.46875 -1.265625 C 5.125 -0.347656 4.335938 0.109375 3.109375 0.109375 C 2.242188 0.109375 1.585938 -0.144531 1.140625 -0.65625 C 0.691406 -1.164062 0.46875 -1.925781 0.46875 -2.9375 C 0.46875 -3.90625 0.691406 -4.644531 1.140625 -5.15625 C 1.585938 -5.664062 2.226562 -5.921875 3.0625 -5.921875 C 4.769531 -5.921875 5.625 -4.890625 5.625 -2.828125 L 5.625 -2.703125 Z M 4.625 -3.4375 C 4.570312 -4.050781 4.414062 -4.5 4.15625 -4.78125 C 3.90625 -5.0625 3.535156 -5.203125 3.046875 -5.203125 C 2.578125 -5.203125 2.207031 -5.046875 1.9375 -4.734375 C 1.664062 -4.421875 1.519531 -3.988281 1.5 -3.4375 Z M 4.625 -3.4375 \"/>\n",
       "</g>\n",
       "<g id=\"glyph-1-3\">\n",
       "<path d=\"M 1.9375 -5.109375 L 1.9375 0 L 0.96875 0 L 0.96875 -5.109375 L 0.15625 -5.109375 L 0.15625 -5.8125 L 0.96875 -5.8125 L 0.96875 -6.46875 C 0.96875 -7 1.082031 -7.378906 1.3125 -7.609375 C 1.550781 -7.835938 1.910156 -7.953125 2.390625 -7.953125 C 2.660156 -7.953125 2.890625 -7.929688 3.078125 -7.890625 L 3.078125 -7.15625 C 2.910156 -7.1875 2.765625 -7.203125 2.640625 -7.203125 C 2.390625 -7.203125 2.207031 -7.140625 2.09375 -7.015625 C 1.988281 -6.890625 1.9375 -6.660156 1.9375 -6.328125 L 1.9375 -5.8125 L 3.078125 -5.8125 L 3.078125 -5.109375 Z M 1.9375 -5.109375 \"/>\n",
       "</g>\n",
       "<g id=\"glyph-1-4\">\n",
       "<path d=\"M 0.734375 -7.046875 L 0.734375 -7.96875 L 1.703125 -7.96875 L 1.703125 -7.046875 Z M 0.734375 0 L 0.734375 -5.8125 L 1.703125 -5.8125 L 1.703125 0 Z M 0.734375 0 \"/>\n",
       "</g>\n",
       "<g id=\"glyph-1-5\">\n",
       "<path d=\"M 1.484375 -2.9375 C 1.484375 -2.15625 1.601562 -1.578125 1.84375 -1.203125 C 2.082031 -0.835938 2.445312 -0.65625 2.9375 -0.65625 C 3.28125 -0.65625 3.566406 -0.75 3.796875 -0.9375 C 4.035156 -1.125 4.179688 -1.410156 4.234375 -1.796875 L 5.203125 -1.734375 C 5.128906 -1.171875 4.890625 -0.722656 4.484375 -0.390625 C 4.085938 -0.0546875 3.582031 0.109375 2.96875 0.109375 C 2.15625 0.109375 1.535156 -0.144531 1.109375 -0.65625 C 0.679688 -1.175781 0.46875 -1.925781 0.46875 -2.90625 C 0.46875 -3.882812 0.679688 -4.628906 1.109375 -5.140625 C 1.535156 -5.660156 2.148438 -5.921875 2.953125 -5.921875 C 3.546875 -5.921875 4.039062 -5.765625 4.4375 -5.453125 C 4.832031 -5.148438 5.078125 -4.726562 5.171875 -4.1875 L 4.1875 -4.109375 C 4.132812 -4.429688 4.003906 -4.6875 3.796875 -4.875 C 3.597656 -5.0625 3.3125 -5.15625 2.9375 -5.15625 C 2.425781 -5.15625 2.054688 -4.984375 1.828125 -4.640625 C 1.597656 -4.304688 1.484375 -3.738281 1.484375 -2.9375 Z M 1.484375 -2.9375 \"/>\n",
       "</g>\n",
       "<g id=\"glyph-1-6\">\n",
       "<path d=\"M 4.4375 0 L 4.4375 -3.6875 C 4.4375 -4.070312 4.394531 -4.367188 4.3125 -4.578125 C 4.238281 -4.785156 4.117188 -4.9375 3.953125 -5.03125 C 3.796875 -5.125 3.554688 -5.171875 3.234375 -5.171875 C 2.765625 -5.171875 2.394531 -5.007812 2.125 -4.6875 C 1.863281 -4.375 1.734375 -3.9375 1.734375 -3.375 L 1.734375 0 L 0.765625 0 L 0.765625 -4.578125 C 0.765625 -5.253906 0.753906 -5.664062 0.734375 -5.8125 L 1.640625 -5.8125 C 1.648438 -5.789062 1.65625 -5.738281 1.65625 -5.65625 C 1.65625 -5.582031 1.65625 -5.492188 1.65625 -5.390625 C 1.664062 -5.296875 1.675781 -5.101562 1.6875 -4.8125 L 1.703125 -4.8125 C 1.921875 -5.21875 2.175781 -5.503906 2.46875 -5.671875 C 2.757812 -5.835938 3.125 -5.921875 3.5625 -5.921875 C 4.195312 -5.921875 4.660156 -5.757812 4.953125 -5.4375 C 5.253906 -5.125 5.40625 -4.601562 5.40625 -3.875 L 5.40625 0 Z M 4.4375 0 \"/>\n",
       "</g>\n",
       "<g id=\"glyph-1-7\">\n",
       "<path d=\"M 2.96875 -0.046875 C 2.65625 0.046875 2.332031 0.09375 2 0.09375 C 1.226562 0.09375 0.84375 -0.347656 0.84375 -1.234375 L 0.84375 -5.109375 L 0.171875 -5.109375 L 0.171875 -5.8125 L 0.875 -5.8125 L 1.15625 -7.109375 L 1.8125 -7.109375 L 1.8125 -5.8125 L 2.875 -5.8125 L 2.875 -5.109375 L 1.8125 -5.109375 L 1.8125 -1.4375 C 1.8125 -1.15625 1.851562 -0.957031 1.9375 -0.84375 C 2.03125 -0.738281 2.191406 -0.6875 2.421875 -0.6875 C 2.546875 -0.6875 2.726562 -0.707031 2.96875 -0.75 Z M 2.96875 -0.046875 \"/>\n",
       "</g>\n",
       "<g id=\"glyph-2-0\">\n",
       "<path d=\"M -6.734375 -3.875 L 0 -3.875 L 0 -2.84375 L -6.734375 -2.84375 L -6.734375 -0.25 L -7.5625 -0.25 L -7.5625 -6.46875 L -6.734375 -6.46875 Z M -6.734375 -3.875 \"/>\n",
       "</g>\n",
       "<g id=\"glyph-2-1\">\n",
       "<path d=\"M -2.703125 -1.484375 C -2.035156 -1.484375 -1.519531 -1.617188 -1.15625 -1.890625 C -0.800781 -2.171875 -0.625 -2.578125 -0.625 -3.109375 C -0.625 -3.523438 -0.707031 -3.859375 -0.875 -4.109375 C -1.039062 -4.359375 -1.253906 -4.53125 -1.515625 -4.625 L -1.265625 -5.46875 C -0.347656 -5.125 0.109375 -4.335938 0.109375 -3.109375 C 0.109375 -2.242188 -0.144531 -1.585938 -0.65625 -1.140625 C -1.164062 -0.691406 -1.925781 -0.46875 -2.9375 -0.46875 C -3.90625 -0.46875 -4.644531 -0.691406 -5.15625 -1.140625 C -5.664062 -1.585938 -5.921875 -2.226562 -5.921875 -3.0625 C -5.921875 -4.769531 -4.890625 -5.625 -2.828125 -5.625 L -2.703125 -5.625 Z M -3.4375 -4.625 C -4.050781 -4.570312 -4.5 -4.414062 -4.78125 -4.15625 C -5.0625 -3.90625 -5.203125 -3.535156 -5.203125 -3.046875 C -5.203125 -2.578125 -5.046875 -2.207031 -4.734375 -1.9375 C -4.421875 -1.664062 -3.988281 -1.519531 -3.4375 -1.5 Z M -3.4375 -4.625 \"/>\n",
       "</g>\n",
       "<g id=\"glyph-2-2\">\n",
       "<path d=\"M 0 -0.765625 L -4.453125 -0.765625 C -4.867188 -0.765625 -5.320312 -0.753906 -5.8125 -0.734375 L -5.8125 -1.640625 C -5.15625 -1.671875 -4.757812 -1.6875 -4.625 -1.6875 L -4.625 -1.703125 C -5.125 -1.859375 -5.460938 -2.035156 -5.640625 -2.234375 C -5.828125 -2.441406 -5.921875 -2.726562 -5.921875 -3.09375 C -5.921875 -3.21875 -5.898438 -3.347656 -5.859375 -3.484375 L -4.984375 -3.484375 C -5.015625 -3.347656 -5.03125 -3.175781 -5.03125 -2.96875 C -5.03125 -2.5625 -4.859375 -2.253906 -4.515625 -2.046875 C -4.171875 -1.835938 -3.675781 -1.734375 -3.03125 -1.734375 L 0 -1.734375 Z M 0 -0.765625 \"/>\n",
       "</g>\n",
       "<g id=\"glyph-2-3\">\n",
       "<path d=\"M 0 -4.125 L -3.6875 -4.125 C -4.25 -4.125 -4.632812 -4.046875 -4.84375 -3.890625 C -5.0625 -3.734375 -5.171875 -3.457031 -5.171875 -3.0625 C -5.171875 -2.644531 -5.015625 -2.316406 -4.703125 -2.078125 C -4.390625 -1.835938 -3.945312 -1.71875 -3.375 -1.71875 L 0 -1.71875 L 0 -0.765625 L -4.578125 -0.765625 C -5.253906 -0.765625 -5.664062 -0.753906 -5.8125 -0.734375 L -5.8125 -1.640625 C -5.789062 -1.648438 -5.738281 -1.65625 -5.65625 -1.65625 C -5.582031 -1.65625 -5.492188 -1.65625 -5.390625 -1.65625 C -5.296875 -1.664062 -5.101562 -1.675781 -4.8125 -1.6875 L -4.8125 -1.703125 C -5.226562 -1.910156 -5.515625 -2.144531 -5.671875 -2.40625 C -5.835938 -2.675781 -5.921875 -3.007812 -5.921875 -3.40625 C -5.921875 -3.84375 -5.832031 -4.1875 -5.65625 -4.4375 C -5.476562 -4.695312 -5.195312 -4.878906 -4.8125 -4.984375 L -4.8125 -5 C -5.207031 -5.195312 -5.488281 -5.4375 -5.65625 -5.71875 C -5.832031 -6.007812 -5.921875 -6.351562 -5.921875 -6.75 C -5.921875 -7.34375 -5.757812 -7.769531 -5.4375 -8.03125 C -5.125 -8.300781 -4.601562 -8.4375 -3.875 -8.4375 L 0 -8.4375 L 0 -7.484375 L -3.6875 -7.484375 C -4.25 -7.484375 -4.632812 -7.40625 -4.84375 -7.25 C -5.0625 -7.09375 -5.171875 -6.816406 -5.171875 -6.421875 C -5.171875 -5.992188 -5.015625 -5.660156 -4.703125 -5.421875 C -4.390625 -5.191406 -3.945312 -5.078125 -3.375 -5.078125 L 0 -5.078125 Z M 0 -4.125 \"/>\n",
       "</g>\n",
       "<g id=\"glyph-3-0\">\n",
       "<path d=\"M 4.640625 -8.078125 L 4.640625 0 L 3.421875 0 L 3.421875 -8.078125 L 0.296875 -8.078125 L 0.296875 -9.078125 L 7.765625 -9.078125 L 7.765625 -8.078125 Z M 4.640625 -8.078125 \"/>\n",
       "</g>\n",
       "<g id=\"glyph-3-1\">\n",
       "<path d=\"M 6.78125 -3.5 C 6.78125 -2.269531 6.507812 -1.359375 5.96875 -0.765625 C 5.4375 -0.171875 4.660156 0.125 3.640625 0.125 C 2.617188 0.125 1.847656 -0.179688 1.328125 -0.796875 C 0.804688 -1.421875 0.546875 -2.320312 0.546875 -3.5 C 0.546875 -5.90625 1.59375 -7.109375 3.6875 -7.109375 C 4.75 -7.109375 5.53125 -6.8125 6.03125 -6.21875 C 6.53125 -5.632812 6.78125 -4.726562 6.78125 -3.5 Z M 5.5625 -3.5 C 5.5625 -4.457031 5.421875 -5.15625 5.140625 -5.59375 C 4.859375 -6.03125 4.378906 -6.25 3.703125 -6.25 C 3.023438 -6.25 2.53125 -6.023438 2.21875 -5.578125 C 1.914062 -5.128906 1.765625 -4.4375 1.765625 -3.5 C 1.765625 -2.570312 1.914062 -1.878906 2.21875 -1.421875 C 2.519531 -0.960938 2.988281 -0.734375 3.625 -0.734375 C 4.320312 -0.734375 4.816406 -0.953125 5.109375 -1.390625 C 5.410156 -1.835938 5.5625 -2.539062 5.5625 -3.5 Z M 5.5625 -3.5 \"/>\n",
       "</g>\n",
       "<g id=\"glyph-3-2\">\n",
       "<path d=\"M 6.78125 -3.515625 C 6.78125 -1.085938 5.925781 0.125 4.21875 0.125 C 3.144531 0.125 2.425781 -0.273438 2.0625 -1.078125 L 2.03125 -1.078125 C 2.039062 -1.046875 2.046875 -0.679688 2.046875 0.015625 L 2.046875 2.734375 L 0.890625 2.734375 L 0.890625 -5.546875 C 0.890625 -6.265625 0.875 -6.738281 0.84375 -6.96875 L 1.96875 -6.96875 C 1.976562 -6.957031 1.984375 -6.898438 1.984375 -6.796875 C 1.992188 -6.691406 2.003906 -6.523438 2.015625 -6.296875 C 2.023438 -6.078125 2.03125 -5.929688 2.03125 -5.859375 L 2.0625 -5.859375 C 2.269531 -6.285156 2.539062 -6.597656 2.875 -6.796875 C 3.21875 -6.992188 3.664062 -7.09375 4.21875 -7.09375 C 5.082031 -7.09375 5.722656 -6.804688 6.140625 -6.234375 C 6.566406 -5.660156 6.78125 -4.753906 6.78125 -3.515625 Z M 5.5625 -3.5 C 5.5625 -4.46875 5.429688 -5.160156 5.171875 -5.578125 C 4.910156 -5.992188 4.492188 -6.203125 3.921875 -6.203125 C 3.460938 -6.203125 3.101562 -6.101562 2.84375 -5.90625 C 2.582031 -5.71875 2.382812 -5.414062 2.25 -5 C 2.113281 -4.59375 2.046875 -4.0625 2.046875 -3.40625 C 2.046875 -2.488281 2.191406 -1.8125 2.484375 -1.375 C 2.773438 -0.945312 3.25 -0.734375 3.90625 -0.734375 C 4.488281 -0.734375 4.910156 -0.941406 5.171875 -1.359375 C 5.429688 -1.785156 5.5625 -2.5 5.5625 -3.5 Z M 5.5625 -3.5 \"/>\n",
       "</g>\n",
       "<g id=\"glyph-3-3\">\n",
       "</g>\n",
       "<g id=\"glyph-3-4\">\n",
       "<path d=\"M 1 0 L 1 -0.984375 L 3.3125 -0.984375 L 3.3125 -7.96875 L 1.265625 -6.515625 L 1.265625 -7.609375 L 3.421875 -9.078125 L 4.484375 -9.078125 L 4.484375 -0.984375 L 6.703125 -0.984375 L 6.703125 0 Z M 1 0 \"/>\n",
       "</g>\n",
       "<g id=\"glyph-3-5\">\n",
       "<path d=\"M 6.828125 -4.546875 C 6.828125 -3.023438 6.554688 -1.863281 6.015625 -1.0625 C 5.484375 -0.269531 4.695312 0.125 3.65625 0.125 C 2.613281 0.125 1.828125 -0.269531 1.296875 -1.0625 C 0.773438 -1.851562 0.515625 -3.015625 0.515625 -4.546875 C 0.515625 -6.109375 0.769531 -7.273438 1.28125 -8.046875 C 1.789062 -8.828125 2.59375 -9.21875 3.6875 -9.21875 C 4.757812 -9.21875 5.550781 -8.820312 6.0625 -8.03125 C 6.570312 -7.25 6.828125 -6.085938 6.828125 -4.546875 Z M 5.640625 -4.546875 C 5.640625 -5.859375 5.488281 -6.804688 5.1875 -7.390625 C 4.882812 -7.984375 4.382812 -8.28125 3.6875 -8.28125 C 2.976562 -8.28125 2.46875 -7.988281 2.15625 -7.40625 C 1.84375 -6.820312 1.6875 -5.867188 1.6875 -4.546875 C 1.6875 -3.253906 1.84375 -2.304688 2.15625 -1.703125 C 2.476562 -1.109375 2.984375 -0.8125 3.671875 -0.8125 C 4.347656 -0.8125 4.84375 -1.117188 5.15625 -1.734375 C 5.476562 -2.347656 5.640625 -3.285156 5.640625 -4.546875 Z M 5.640625 -4.546875 \"/>\n",
       "</g>\n",
       "<g id=\"glyph-3-6\">\n",
       "<path d=\"M 1.21875 0 L 1.21875 -9.078125 L 2.453125 -9.078125 L 2.453125 0 Z M 1.21875 0 \"/>\n",
       "</g>\n",
       "<g id=\"glyph-3-7\">\n",
       "<path d=\"M 4.953125 0 L 4.953125 -4.421875 C 4.953125 -5.097656 4.859375 -5.5625 4.671875 -5.8125 C 4.484375 -6.070312 4.148438 -6.203125 3.671875 -6.203125 C 3.179688 -6.203125 2.789062 -6.015625 2.5 -5.640625 C 2.207031 -5.265625 2.0625 -4.734375 2.0625 -4.046875 L 2.0625 0 L 0.921875 0 L 0.921875 -5.484375 C 0.921875 -6.296875 0.90625 -6.789062 0.875 -6.96875 L 1.96875 -6.96875 C 1.976562 -6.945312 1.984375 -6.890625 1.984375 -6.796875 C 1.984375 -6.703125 1.988281 -6.59375 2 -6.46875 C 2.007812 -6.351562 2.019531 -6.125 2.03125 -5.78125 L 2.046875 -5.78125 C 2.296875 -6.28125 2.582031 -6.625 2.90625 -6.8125 C 3.226562 -7.007812 3.617188 -7.109375 4.078125 -7.109375 C 4.609375 -7.109375 5.023438 -7 5.328125 -6.78125 C 5.640625 -6.570312 5.851562 -6.238281 5.96875 -5.78125 L 6 -5.78125 C 6.238281 -6.25 6.523438 -6.585938 6.859375 -6.796875 C 7.203125 -7.003906 7.617188 -7.109375 8.109375 -7.109375 C 8.816406 -7.109375 9.328125 -6.914062 9.640625 -6.53125 C 9.960938 -6.144531 10.125 -5.515625 10.125 -4.640625 L 10.125 0 L 8.984375 0 L 8.984375 -4.421875 C 8.984375 -5.097656 8.890625 -5.5625 8.703125 -5.8125 C 8.515625 -6.070312 8.179688 -6.203125 7.703125 -6.203125 C 7.191406 -6.203125 6.796875 -6.015625 6.515625 -5.640625 C 6.234375 -5.265625 6.09375 -4.734375 6.09375 -4.046875 L 6.09375 0 Z M 4.953125 0 \"/>\n",
       "</g>\n",
       "<g id=\"glyph-3-8\">\n",
       "<path d=\"M 0.921875 0 L 0.921875 -5.34375 C 0.921875 -5.832031 0.90625 -6.375 0.875 -6.96875 L 1.96875 -6.96875 C 2.007812 -6.1875 2.03125 -5.710938 2.03125 -5.546875 L 2.046875 -5.546875 C 2.234375 -6.148438 2.445312 -6.5625 2.6875 -6.78125 C 2.925781 -7 3.265625 -7.109375 3.703125 -7.109375 C 3.859375 -7.109375 4.015625 -7.085938 4.171875 -7.046875 L 4.171875 -5.96875 C 4.023438 -6.019531 3.820312 -6.046875 3.5625 -6.046875 C 3.082031 -6.046875 2.710938 -5.835938 2.453125 -5.421875 C 2.203125 -5.003906 2.078125 -4.410156 2.078125 -3.640625 L 2.078125 0 Z M 0.921875 0 \"/>\n",
       "</g>\n",
       "<g id=\"glyph-3-9\">\n",
       "<path d=\"M 3.578125 -0.046875 C 3.191406 0.0546875 2.796875 0.109375 2.390625 0.109375 C 1.460938 0.109375 1 -0.414062 1 -1.46875 L 1 -6.125 L 0.203125 -6.125 L 0.203125 -6.96875 L 1.046875 -6.96875 L 1.390625 -8.53125 L 2.171875 -8.53125 L 2.171875 -6.96875 L 3.453125 -6.96875 L 3.453125 -6.125 L 2.171875 -6.125 L 2.171875 -1.734375 C 2.171875 -1.390625 2.222656 -1.148438 2.328125 -1.015625 C 2.441406 -0.878906 2.632812 -0.8125 2.90625 -0.8125 C 3.0625 -0.8125 3.285156 -0.84375 3.578125 -0.90625 Z M 3.578125 -0.046875 \"/>\n",
       "</g>\n",
       "<g id=\"glyph-3-10\">\n",
       "<path d=\"M 2.671875 0.125 C 1.972656 0.125 1.445312 -0.0546875 1.09375 -0.421875 C 0.738281 -0.796875 0.5625 -1.304688 0.5625 -1.953125 C 0.5625 -2.671875 0.796875 -3.222656 1.265625 -3.609375 C 1.742188 -3.992188 2.515625 -4.203125 3.578125 -4.234375 L 5.140625 -4.25 L 5.140625 -4.640625 C 5.140625 -5.203125 5.019531 -5.601562 4.78125 -5.84375 C 4.539062 -6.09375 4.160156 -6.21875 3.640625 -6.21875 C 3.117188 -6.21875 2.738281 -6.128906 2.5 -5.953125 C 2.269531 -5.773438 2.128906 -5.492188 2.078125 -5.109375 L 0.875 -5.21875 C 1.070312 -6.476562 2.003906 -7.109375 3.671875 -7.109375 C 4.546875 -7.109375 5.203125 -6.90625 5.640625 -6.5 C 6.085938 -6.101562 6.3125 -5.519531 6.3125 -4.75 L 6.3125 -1.75 C 6.3125 -1.40625 6.351562 -1.144531 6.4375 -0.96875 C 6.53125 -0.800781 6.707031 -0.71875 6.96875 -0.71875 C 7.070312 -0.71875 7.195312 -0.734375 7.34375 -0.765625 L 7.34375 -0.03125 C 7.050781 0.03125 6.753906 0.0625 6.453125 0.0625 C 6.015625 0.0625 5.695312 -0.046875 5.5 -0.265625 C 5.3125 -0.492188 5.203125 -0.847656 5.171875 -1.328125 L 5.140625 -1.328125 C 4.835938 -0.796875 4.488281 -0.421875 4.09375 -0.203125 C 3.707031 0.015625 3.234375 0.125 2.671875 0.125 Z M 2.9375 -0.734375 C 3.363281 -0.734375 3.738281 -0.832031 4.0625 -1.03125 C 4.394531 -1.226562 4.65625 -1.492188 4.84375 -1.828125 C 5.039062 -2.160156 5.140625 -2.507812 5.140625 -2.875 L 5.140625 -3.4375 L 3.875 -3.421875 C 3.320312 -3.410156 2.90625 -3.351562 2.625 -3.25 C 2.34375 -3.144531 2.125 -2.984375 1.96875 -2.765625 C 1.820312 -2.554688 1.75 -2.273438 1.75 -1.921875 C 1.75 -1.546875 1.847656 -1.253906 2.046875 -1.046875 C 2.253906 -0.835938 2.550781 -0.734375 2.9375 -0.734375 Z M 2.9375 -0.734375 \"/>\n",
       "</g>\n",
       "<g id=\"glyph-3-11\">\n",
       "<path d=\"M 5.3125 0 L 5.3125 -4.421875 C 5.3125 -4.878906 5.265625 -5.234375 5.171875 -5.484375 C 5.085938 -5.742188 4.945312 -5.925781 4.75 -6.03125 C 4.550781 -6.144531 4.257812 -6.203125 3.875 -6.203125 C 3.320312 -6.203125 2.882812 -6.007812 2.5625 -5.625 C 2.238281 -5.25 2.078125 -4.722656 2.078125 -4.046875 L 2.078125 0 L 0.921875 0 L 0.921875 -5.484375 C 0.921875 -6.296875 0.90625 -6.789062 0.875 -6.96875 L 1.96875 -6.96875 C 1.976562 -6.945312 1.984375 -6.890625 1.984375 -6.796875 C 1.984375 -6.703125 1.988281 -6.59375 2 -6.46875 C 2.007812 -6.351562 2.019531 -6.125 2.03125 -5.78125 L 2.046875 -5.78125 C 2.304688 -6.257812 2.613281 -6.597656 2.96875 -6.796875 C 3.320312 -7.003906 3.757812 -7.109375 4.28125 -7.109375 C 5.039062 -7.109375 5.597656 -6.914062 5.953125 -6.53125 C 6.304688 -6.15625 6.484375 -5.523438 6.484375 -4.640625 L 6.484375 0 Z M 5.3125 0 \"/>\n",
       "</g>\n",
       "<g id=\"glyph-3-12\">\n",
       "<path d=\"M 8.109375 -6.34375 C 8.109375 -5.488281 7.828125 -4.804688 7.265625 -4.296875 C 6.703125 -3.796875 5.941406 -3.546875 4.984375 -3.546875 L 2.3125 -3.546875 L 2.3125 0 L 1.078125 0 L 1.078125 -9.078125 L 4.90625 -9.078125 C 5.925781 -9.078125 6.710938 -8.835938 7.265625 -8.359375 C 7.828125 -7.890625 8.109375 -7.21875 8.109375 -6.34375 Z M 6.875 -6.34375 C 6.875 -7.507812 6.164062 -8.09375 4.75 -8.09375 L 2.3125 -8.09375 L 2.3125 -4.515625 L 4.8125 -4.515625 C 6.1875 -4.515625 6.875 -5.125 6.875 -6.34375 Z M 6.875 -6.34375 \"/>\n",
       "</g>\n",
       "<g id=\"glyph-3-13\">\n",
       "<path d=\"M 1.78125 -3.25 C 1.78125 -2.445312 1.941406 -1.828125 2.265625 -1.390625 C 2.597656 -0.953125 3.082031 -0.734375 3.71875 -0.734375 C 4.226562 -0.734375 4.632812 -0.832031 4.9375 -1.03125 C 5.238281 -1.238281 5.441406 -1.5 5.546875 -1.8125 L 6.5625 -1.515625 C 6.144531 -0.421875 5.195312 0.125 3.71875 0.125 C 2.6875 0.125 1.898438 -0.179688 1.359375 -0.796875 C 0.828125 -1.410156 0.5625 -2.320312 0.5625 -3.53125 C 0.5625 -4.6875 0.828125 -5.570312 1.359375 -6.1875 C 1.898438 -6.800781 2.675781 -7.109375 3.6875 -7.109375 C 5.726562 -7.109375 6.75 -5.867188 6.75 -3.390625 L 6.75 -3.25 Z M 5.5625 -4.125 C 5.488281 -4.863281 5.296875 -5.398438 4.984375 -5.734375 C 4.679688 -6.078125 4.238281 -6.25 3.65625 -6.25 C 3.09375 -6.25 2.644531 -6.0625 2.3125 -5.6875 C 1.988281 -5.3125 1.816406 -4.789062 1.796875 -4.125 Z M 5.5625 -4.125 \"/>\n",
       "</g>\n",
       "<g id=\"glyph-3-14\">\n",
       "<path d=\"M 5.296875 -1.125 C 5.078125 -0.675781 4.789062 -0.351562 4.4375 -0.15625 C 4.082031 0.03125 3.644531 0.125 3.125 0.125 C 2.238281 0.125 1.585938 -0.171875 1.171875 -0.765625 C 0.753906 -1.359375 0.546875 -2.253906 0.546875 -3.453125 C 0.546875 -5.890625 1.40625 -7.109375 3.125 -7.109375 C 3.644531 -7.109375 4.082031 -7.007812 4.4375 -6.8125 C 4.789062 -6.625 5.078125 -6.316406 5.296875 -5.890625 L 5.3125 -5.890625 L 5.296875 -6.671875 L 5.296875 -9.5625 L 6.453125 -9.5625 L 6.453125 -1.4375 C 6.453125 -0.707031 6.460938 -0.226562 6.484375 0 L 5.390625 0 C 5.367188 -0.0703125 5.347656 -0.226562 5.328125 -0.46875 C 5.316406 -0.71875 5.3125 -0.9375 5.3125 -1.125 Z M 1.765625 -3.5 C 1.765625 -2.519531 1.894531 -1.816406 2.15625 -1.390625 C 2.414062 -0.972656 2.835938 -0.765625 3.421875 -0.765625 C 4.078125 -0.765625 4.550781 -0.992188 4.84375 -1.453125 C 5.144531 -1.910156 5.296875 -2.617188 5.296875 -3.578125 C 5.296875 -4.492188 5.144531 -5.164062 4.84375 -5.59375 C 4.550781 -6.03125 4.082031 -6.25 3.4375 -6.25 C 2.84375 -6.25 2.414062 -6.03125 2.15625 -5.59375 C 1.894531 -5.164062 1.765625 -4.46875 1.765625 -3.5 Z M 1.765625 -3.5 \"/>\n",
       "</g>\n",
       "<g id=\"glyph-3-15\">\n",
       "<path d=\"M 0.890625 -8.453125 L 0.890625 -9.5625 L 2.046875 -9.5625 L 2.046875 -8.453125 Z M 0.890625 0 L 0.890625 -6.96875 L 2.046875 -6.96875 L 2.046875 0 Z M 0.890625 0 \"/>\n",
       "</g>\n",
       "<g id=\"glyph-3-16\">\n",
       "<path d=\"M 1.765625 -3.515625 C 1.765625 -2.585938 1.910156 -1.898438 2.203125 -1.453125 C 2.503906 -1.003906 2.945312 -0.78125 3.53125 -0.78125 C 3.945312 -0.78125 4.289062 -0.890625 4.5625 -1.109375 C 4.84375 -1.335938 5.015625 -1.6875 5.078125 -2.15625 L 6.25 -2.078125 C 6.164062 -1.398438 5.878906 -0.863281 5.390625 -0.46875 C 4.910156 -0.0703125 4.300781 0.125 3.5625 0.125 C 2.59375 0.125 1.847656 -0.179688 1.328125 -0.796875 C 0.816406 -1.410156 0.5625 -2.3125 0.5625 -3.5 C 0.5625 -4.664062 0.816406 -5.554688 1.328125 -6.171875 C 1.847656 -6.796875 2.585938 -7.109375 3.546875 -7.109375 C 4.265625 -7.109375 4.859375 -6.921875 5.328125 -6.546875 C 5.796875 -6.179688 6.09375 -5.671875 6.21875 -5.015625 L 5.015625 -4.9375 C 4.960938 -5.320312 4.8125 -5.628906 4.5625 -5.859375 C 4.320312 -6.085938 3.972656 -6.203125 3.515625 -6.203125 C 2.898438 -6.203125 2.453125 -5.992188 2.171875 -5.578125 C 1.898438 -5.171875 1.765625 -4.484375 1.765625 -3.515625 Z M 1.765625 -3.515625 \"/>\n",
       "</g>\n",
       "<g id=\"glyph-3-17\">\n",
       "<path d=\"M 6.125 -1.921875 C 6.125 -1.265625 5.875 -0.757812 5.375 -0.40625 C 4.882812 -0.0507812 4.191406 0.125 3.296875 0.125 C 2.421875 0.125 1.75 -0.015625 1.28125 -0.296875 C 0.8125 -0.585938 0.507812 -1.035156 0.375 -1.640625 L 1.390625 -1.84375 C 1.492188 -1.46875 1.695312 -1.191406 2 -1.015625 C 2.3125 -0.835938 2.742188 -0.75 3.296875 -0.75 C 3.878906 -0.75 4.304688 -0.835938 4.578125 -1.015625 C 4.859375 -1.203125 5 -1.476562 5 -1.84375 C 5 -2.113281 4.898438 -2.332031 4.703125 -2.5 C 4.515625 -2.675781 4.210938 -2.820312 3.796875 -2.9375 L 2.96875 -3.15625 C 2.300781 -3.320312 1.828125 -3.488281 1.546875 -3.65625 C 1.265625 -3.820312 1.039062 -4.019531 0.875 -4.25 C 0.71875 -4.488281 0.640625 -4.78125 0.640625 -5.125 C 0.640625 -5.757812 0.863281 -6.242188 1.3125 -6.578125 C 1.769531 -6.910156 2.4375 -7.078125 3.3125 -7.078125 C 4.082031 -7.078125 4.691406 -6.941406 5.140625 -6.671875 C 5.597656 -6.398438 5.882812 -5.96875 6 -5.375 L 4.953125 -5.25 C 4.890625 -5.5625 4.71875 -5.796875 4.4375 -5.953125 C 4.15625 -6.117188 3.78125 -6.203125 3.3125 -6.203125 C 2.78125 -6.203125 2.390625 -6.125 2.140625 -5.96875 C 1.890625 -5.8125 1.765625 -5.570312 1.765625 -5.25 C 1.765625 -5.050781 1.816406 -4.882812 1.921875 -4.75 C 2.023438 -4.625 2.175781 -4.515625 2.375 -4.421875 C 2.582031 -4.335938 3.007812 -4.21875 3.65625 -4.0625 C 4.269531 -3.90625 4.710938 -3.757812 4.984375 -3.625 C 5.253906 -3.5 5.46875 -3.351562 5.625 -3.1875 C 5.78125 -3.03125 5.898438 -2.847656 5.984375 -2.640625 C 6.078125 -2.429688 6.125 -2.191406 6.125 -1.921875 Z M 6.125 -1.921875 \"/>\n",
       "</g>\n",
       "</g>\n",
       "<clipPath id=\"clip-0\">\n",
       "<path clip-rule=\"nonzero\" d=\"M 149.003906 23.820312 L 498.519531 23.820312 L 498.519531 471.988281 L 149.003906 471.988281 Z M 149.003906 23.820312 \"/>\n",
       "</clipPath>\n",
       "<clipPath id=\"clip-1\">\n",
       "<path clip-rule=\"nonzero\" d=\"M 197 23.820312 L 198 23.820312 L 198 471.988281 L 197 471.988281 Z M 197 23.820312 \"/>\n",
       "</clipPath>\n",
       "<clipPath id=\"clip-2\">\n",
       "<path clip-rule=\"nonzero\" d=\"M 282 23.820312 L 283 23.820312 L 283 471.988281 L 282 471.988281 Z M 282 23.820312 \"/>\n",
       "</clipPath>\n",
       "<clipPath id=\"clip-3\">\n",
       "<path clip-rule=\"nonzero\" d=\"M 367 23.820312 L 368 23.820312 L 368 471.988281 L 367 471.988281 Z M 367 23.820312 \"/>\n",
       "</clipPath>\n",
       "<clipPath id=\"clip-4\">\n",
       "<path clip-rule=\"nonzero\" d=\"M 452 23.820312 L 453 23.820312 L 453 471.988281 L 452 471.988281 Z M 452 23.820312 \"/>\n",
       "</clipPath>\n",
       "<clipPath id=\"clip-5\">\n",
       "<path clip-rule=\"nonzero\" d=\"M 149.003906 445 L 498.519531 445 L 498.519531 447 L 149.003906 447 Z M 149.003906 445 \"/>\n",
       "</clipPath>\n",
       "<clipPath id=\"clip-6\">\n",
       "<path clip-rule=\"nonzero\" d=\"M 149.003906 401 L 498.519531 401 L 498.519531 403 L 149.003906 403 Z M 149.003906 401 \"/>\n",
       "</clipPath>\n",
       "<clipPath id=\"clip-7\">\n",
       "<path clip-rule=\"nonzero\" d=\"M 149.003906 357 L 498.519531 357 L 498.519531 359 L 149.003906 359 Z M 149.003906 357 \"/>\n",
       "</clipPath>\n",
       "<clipPath id=\"clip-8\">\n",
       "<path clip-rule=\"nonzero\" d=\"M 149.003906 313 L 498.519531 313 L 498.519531 315 L 149.003906 315 Z M 149.003906 313 \"/>\n",
       "</clipPath>\n",
       "<clipPath id=\"clip-9\">\n",
       "<path clip-rule=\"nonzero\" d=\"M 149.003906 269 L 498.519531 269 L 498.519531 271 L 149.003906 271 Z M 149.003906 269 \"/>\n",
       "</clipPath>\n",
       "<clipPath id=\"clip-10\">\n",
       "<path clip-rule=\"nonzero\" d=\"M 149.003906 225 L 498.519531 225 L 498.519531 227 L 149.003906 227 Z M 149.003906 225 \"/>\n",
       "</clipPath>\n",
       "<clipPath id=\"clip-11\">\n",
       "<path clip-rule=\"nonzero\" d=\"M 149.003906 181 L 498.519531 181 L 498.519531 183 L 149.003906 183 Z M 149.003906 181 \"/>\n",
       "</clipPath>\n",
       "<clipPath id=\"clip-12\">\n",
       "<path clip-rule=\"nonzero\" d=\"M 149.003906 137 L 498.519531 137 L 498.519531 139 L 149.003906 139 Z M 149.003906 137 \"/>\n",
       "</clipPath>\n",
       "<clipPath id=\"clip-13\">\n",
       "<path clip-rule=\"nonzero\" d=\"M 149.003906 93 L 498.519531 93 L 498.519531 95 L 149.003906 95 Z M 149.003906 93 \"/>\n",
       "</clipPath>\n",
       "<clipPath id=\"clip-14\">\n",
       "<path clip-rule=\"nonzero\" d=\"M 149.003906 49 L 498.519531 49 L 498.519531 51 L 149.003906 51 Z M 149.003906 49 \"/>\n",
       "</clipPath>\n",
       "<clipPath id=\"clip-15\">\n",
       "<path clip-rule=\"nonzero\" d=\"M 154 23.820312 L 156 23.820312 L 156 471.988281 L 154 471.988281 Z M 154 23.820312 \"/>\n",
       "</clipPath>\n",
       "<clipPath id=\"clip-16\">\n",
       "<path clip-rule=\"nonzero\" d=\"M 239 23.820312 L 241 23.820312 L 241 471.988281 L 239 471.988281 Z M 239 23.820312 \"/>\n",
       "</clipPath>\n",
       "<clipPath id=\"clip-17\">\n",
       "<path clip-rule=\"nonzero\" d=\"M 324 23.820312 L 326 23.820312 L 326 471.988281 L 324 471.988281 Z M 324 23.820312 \"/>\n",
       "</clipPath>\n",
       "<clipPath id=\"clip-18\">\n",
       "<path clip-rule=\"nonzero\" d=\"M 409 23.820312 L 411 23.820312 L 411 471.988281 L 409 471.988281 Z M 409 23.820312 \"/>\n",
       "</clipPath>\n",
       "<clipPath id=\"clip-19\">\n",
       "<path clip-rule=\"nonzero\" d=\"M 494 23.820312 L 496 23.820312 L 496 471.988281 L 494 471.988281 Z M 494 23.820312 \"/>\n",
       "</clipPath>\n",
       "</defs>\n",
       "<rect x=\"-50.4\" y=\"-50.4\" width=\"604.8\" height=\"604.8\" fill=\"rgb(100%, 100%, 100%)\" fill-opacity=\"1\"/>\n",
       "<rect x=\"-50.4\" y=\"-50.4\" width=\"604.8\" height=\"604.8\" fill=\"rgb(100%, 100%, 100%)\" fill-opacity=\"1\"/>\n",
       "<path fill=\"none\" stroke-width=\"1.066978\" stroke-linecap=\"round\" stroke-linejoin=\"round\" stroke=\"rgb(100%, 100%, 100%)\" stroke-opacity=\"1\" stroke-miterlimit=\"10\" d=\"M 0 504 L 504 504 L 504 0 L 0 0 Z M 0 504 \"/>\n",
       "<g clip-path=\"url(#clip-0)\">\n",
       "<path fill-rule=\"nonzero\" fill=\"rgb(92.156863%, 92.156863%, 92.156863%)\" fill-opacity=\"1\" d=\"M 149.003906 471.988281 L 498.519531 471.988281 L 498.519531 23.820312 L 149.003906 23.820312 Z M 149.003906 471.988281 \"/>\n",
       "</g>\n",
       "<g clip-path=\"url(#clip-1)\">\n",
       "<path fill=\"none\" stroke-width=\"0.533489\" stroke-linecap=\"butt\" stroke-linejoin=\"round\" stroke=\"rgb(100%, 100%, 100%)\" stroke-opacity=\"1\" stroke-miterlimit=\"10\" d=\"M 197.71875 471.988281 L 197.71875 23.820312 \"/>\n",
       "</g>\n",
       "<g clip-path=\"url(#clip-2)\">\n",
       "<path fill=\"none\" stroke-width=\"0.533489\" stroke-linecap=\"butt\" stroke-linejoin=\"round\" stroke=\"rgb(100%, 100%, 100%)\" stroke-opacity=\"1\" stroke-miterlimit=\"10\" d=\"M 282.597656 471.988281 L 282.597656 23.820312 \"/>\n",
       "</g>\n",
       "<g clip-path=\"url(#clip-3)\">\n",
       "<path fill=\"none\" stroke-width=\"0.533489\" stroke-linecap=\"butt\" stroke-linejoin=\"round\" stroke=\"rgb(100%, 100%, 100%)\" stroke-opacity=\"1\" stroke-miterlimit=\"10\" d=\"M 367.472656 471.988281 L 367.472656 23.820312 \"/>\n",
       "</g>\n",
       "<g clip-path=\"url(#clip-4)\">\n",
       "<path fill=\"none\" stroke-width=\"0.533489\" stroke-linecap=\"butt\" stroke-linejoin=\"round\" stroke=\"rgb(100%, 100%, 100%)\" stroke-opacity=\"1\" stroke-miterlimit=\"10\" d=\"M 452.347656 471.988281 L 452.347656 23.820312 \"/>\n",
       "</g>\n",
       "<g clip-path=\"url(#clip-5)\">\n",
       "<path fill=\"none\" stroke-width=\"1.066978\" stroke-linecap=\"butt\" stroke-linejoin=\"round\" stroke=\"rgb(100%, 100%, 100%)\" stroke-opacity=\"1\" stroke-miterlimit=\"10\" d=\"M 149.003906 445.625 L 498.519531 445.625 \"/>\n",
       "</g>\n",
       "<g clip-path=\"url(#clip-6)\">\n",
       "<path fill=\"none\" stroke-width=\"1.066978\" stroke-linecap=\"butt\" stroke-linejoin=\"round\" stroke=\"rgb(100%, 100%, 100%)\" stroke-opacity=\"1\" stroke-miterlimit=\"10\" d=\"M 149.003906 401.6875 L 498.519531 401.6875 \"/>\n",
       "</g>\n",
       "<g clip-path=\"url(#clip-7)\">\n",
       "<path fill=\"none\" stroke-width=\"1.066978\" stroke-linecap=\"butt\" stroke-linejoin=\"round\" stroke=\"rgb(100%, 100%, 100%)\" stroke-opacity=\"1\" stroke-miterlimit=\"10\" d=\"M 149.003906 357.75 L 498.519531 357.75 \"/>\n",
       "</g>\n",
       "<g clip-path=\"url(#clip-8)\">\n",
       "<path fill=\"none\" stroke-width=\"1.066978\" stroke-linecap=\"butt\" stroke-linejoin=\"round\" stroke=\"rgb(100%, 100%, 100%)\" stroke-opacity=\"1\" stroke-miterlimit=\"10\" d=\"M 149.003906 313.808594 L 498.519531 313.808594 \"/>\n",
       "</g>\n",
       "<g clip-path=\"url(#clip-9)\">\n",
       "<path fill=\"none\" stroke-width=\"1.066978\" stroke-linecap=\"butt\" stroke-linejoin=\"round\" stroke=\"rgb(100%, 100%, 100%)\" stroke-opacity=\"1\" stroke-miterlimit=\"10\" d=\"M 149.003906 269.871094 L 498.519531 269.871094 \"/>\n",
       "</g>\n",
       "<g clip-path=\"url(#clip-10)\">\n",
       "<path fill=\"none\" stroke-width=\"1.066978\" stroke-linecap=\"butt\" stroke-linejoin=\"round\" stroke=\"rgb(100%, 100%, 100%)\" stroke-opacity=\"1\" stroke-miterlimit=\"10\" d=\"M 149.003906 225.933594 L 498.519531 225.933594 \"/>\n",
       "</g>\n",
       "<g clip-path=\"url(#clip-11)\">\n",
       "<path fill=\"none\" stroke-width=\"1.066978\" stroke-linecap=\"butt\" stroke-linejoin=\"round\" stroke=\"rgb(100%, 100%, 100%)\" stroke-opacity=\"1\" stroke-miterlimit=\"10\" d=\"M 149.003906 181.996094 L 498.519531 181.996094 \"/>\n",
       "</g>\n",
       "<g clip-path=\"url(#clip-12)\">\n",
       "<path fill=\"none\" stroke-width=\"1.066978\" stroke-linecap=\"butt\" stroke-linejoin=\"round\" stroke=\"rgb(100%, 100%, 100%)\" stroke-opacity=\"1\" stroke-miterlimit=\"10\" d=\"M 149.003906 138.058594 L 498.519531 138.058594 \"/>\n",
       "</g>\n",
       "<g clip-path=\"url(#clip-13)\">\n",
       "<path fill=\"none\" stroke-width=\"1.066978\" stroke-linecap=\"butt\" stroke-linejoin=\"round\" stroke=\"rgb(100%, 100%, 100%)\" stroke-opacity=\"1\" stroke-miterlimit=\"10\" d=\"M 149.003906 94.121094 L 498.519531 94.121094 \"/>\n",
       "</g>\n",
       "<g clip-path=\"url(#clip-14)\">\n",
       "<path fill=\"none\" stroke-width=\"1.066978\" stroke-linecap=\"butt\" stroke-linejoin=\"round\" stroke=\"rgb(100%, 100%, 100%)\" stroke-opacity=\"1\" stroke-miterlimit=\"10\" d=\"M 149.003906 50.183594 L 498.519531 50.183594 \"/>\n",
       "</g>\n",
       "<g clip-path=\"url(#clip-15)\">\n",
       "<path fill=\"none\" stroke-width=\"1.066978\" stroke-linecap=\"butt\" stroke-linejoin=\"round\" stroke=\"rgb(100%, 100%, 100%)\" stroke-opacity=\"1\" stroke-miterlimit=\"10\" d=\"M 155.28125 471.988281 L 155.28125 23.820312 \"/>\n",
       "</g>\n",
       "<g clip-path=\"url(#clip-16)\">\n",
       "<path fill=\"none\" stroke-width=\"1.066978\" stroke-linecap=\"butt\" stroke-linejoin=\"round\" stroke=\"rgb(100%, 100%, 100%)\" stroke-opacity=\"1\" stroke-miterlimit=\"10\" d=\"M 240.160156 471.988281 L 240.160156 23.820312 \"/>\n",
       "</g>\n",
       "<g clip-path=\"url(#clip-17)\">\n",
       "<path fill=\"none\" stroke-width=\"1.066978\" stroke-linecap=\"butt\" stroke-linejoin=\"round\" stroke=\"rgb(100%, 100%, 100%)\" stroke-opacity=\"1\" stroke-miterlimit=\"10\" d=\"M 325.035156 471.988281 L 325.035156 23.820312 \"/>\n",
       "</g>\n",
       "<g clip-path=\"url(#clip-18)\">\n",
       "<path fill=\"none\" stroke-width=\"1.066978\" stroke-linecap=\"butt\" stroke-linejoin=\"round\" stroke=\"rgb(100%, 100%, 100%)\" stroke-opacity=\"1\" stroke-miterlimit=\"10\" d=\"M 409.910156 471.988281 L 409.910156 23.820312 \"/>\n",
       "</g>\n",
       "<g clip-path=\"url(#clip-19)\">\n",
       "<path fill=\"none\" stroke-width=\"1.066978\" stroke-linecap=\"butt\" stroke-linejoin=\"round\" stroke=\"rgb(100%, 100%, 100%)\" stroke-opacity=\"1\" stroke-miterlimit=\"10\" d=\"M 494.785156 471.988281 L 494.785156 23.820312 \"/>\n",
       "</g>\n",
       "<path fill-rule=\"nonzero\" fill=\"rgb(27.45098%, 50.980392%, 70.588235%)\" fill-opacity=\"1\" d=\"M 164.890625 69.953125 L 325.035156 69.953125 L 325.035156 30.410156 L 164.890625 30.410156 Z M 164.890625 69.953125 \"/>\n",
       "<path fill-rule=\"nonzero\" fill=\"rgb(27.45098%, 50.980392%, 70.588235%)\" fill-opacity=\"1\" d=\"M 325.035156 113.890625 L 482.632812 113.890625 L 482.632812 74.347656 L 325.035156 74.347656 Z M 325.035156 113.890625 \"/>\n",
       "<path fill-rule=\"nonzero\" fill=\"rgb(27.45098%, 50.980392%, 70.588235%)\" fill-opacity=\"1\" d=\"M 325.035156 157.828125 L 336.371094 157.828125 L 336.371094 118.285156 L 325.035156 118.285156 Z M 325.035156 157.828125 \"/>\n",
       "<path fill-rule=\"nonzero\" fill=\"rgb(27.45098%, 50.980392%, 70.588235%)\" fill-opacity=\"1\" d=\"M 316.371094 201.769531 L 325.035156 201.769531 L 325.035156 162.226562 L 316.371094 162.226562 Z M 316.371094 201.769531 \"/>\n",
       "<path fill-rule=\"nonzero\" fill=\"rgb(27.45098%, 50.980392%, 70.588235%)\" fill-opacity=\"1\" d=\"M 323.179688 245.707031 L 325.035156 245.707031 L 325.035156 206.164062 L 323.179688 206.164062 Z M 323.179688 245.707031 \"/>\n",
       "<path fill-rule=\"nonzero\" fill=\"rgb(27.45098%, 50.980392%, 70.588235%)\" fill-opacity=\"1\" d=\"M 325.035156 289.644531 L 326.652344 289.644531 L 326.652344 250.101562 L 325.035156 250.101562 Z M 325.035156 289.644531 \"/>\n",
       "<path fill-rule=\"nonzero\" fill=\"rgb(27.45098%, 50.980392%, 70.588235%)\" fill-opacity=\"1\" d=\"M 325.035156 333.582031 L 325.855469 333.582031 L 325.855469 294.039062 L 325.035156 294.039062 Z M 325.035156 333.582031 \"/>\n",
       "<path fill-rule=\"nonzero\" fill=\"rgb(27.45098%, 50.980392%, 70.588235%)\" fill-opacity=\"1\" d=\"M 325.035156 377.519531 L 325.605469 377.519531 L 325.605469 337.976562 L 325.035156 337.976562 Z M 325.035156 377.519531 \"/>\n",
       "<path fill-rule=\"nonzero\" fill=\"rgb(27.45098%, 50.980392%, 70.588235%)\" fill-opacity=\"1\" d=\"M 325.035156 421.457031 L 325.234375 421.457031 L 325.234375 381.914062 L 325.035156 381.914062 Z M 325.035156 421.457031 \"/>\n",
       "<path fill-rule=\"nonzero\" fill=\"rgb(27.45098%, 50.980392%, 70.588235%)\" fill-opacity=\"1\" d=\"M 324.921875 465.398438 L 325.035156 465.398438 L 325.035156 425.855469 L 324.921875 425.855469 Z M 324.921875 465.398438 \"/>\n",
       "<g fill=\"rgb(30.196078%, 30.196078%, 30.196078%)\" fill-opacity=\"1\">\n",
       "<use xlink:href=\"#glyph-0-0\" x=\"96.070312\" y=\"449.09082\"/>\n",
       "<use xlink:href=\"#glyph-0-1\" x=\"102.070312\" y=\"449.09082\"/>\n",
       "<use xlink:href=\"#glyph-0-2\" x=\"108.070312\" y=\"449.09082\"/>\n",
       "<use xlink:href=\"#glyph-0-3\" x=\"115.070312\" y=\"449.09082\"/>\n",
       "<use xlink:href=\"#glyph-0-4\" x=\"123.070312\" y=\"449.09082\"/>\n",
       "<use xlink:href=\"#glyph-0-5\" x=\"128.070312\" y=\"449.09082\"/>\n",
       "<use xlink:href=\"#glyph-0-6\" x=\"134.070312\" y=\"449.09082\"/>\n",
       "<use xlink:href=\"#glyph-0-6\" x=\"139.070312\" y=\"449.09082\"/>\n",
       "</g>\n",
       "<g fill=\"rgb(30.196078%, 30.196078%, 30.196078%)\" fill-opacity=\"1\">\n",
       "<use xlink:href=\"#glyph-0-7\" x=\"102.070312\" y=\"405.15332\"/>\n",
       "<use xlink:href=\"#glyph-0-8\" x=\"108.070312\" y=\"405.15332\"/>\n",
       "<use xlink:href=\"#glyph-0-0\" x=\"110.070312\" y=\"405.15332\"/>\n",
       "<use xlink:href=\"#glyph-0-8\" x=\"116.070312\" y=\"405.15332\"/>\n",
       "<use xlink:href=\"#glyph-0-9\" x=\"118.070312\" y=\"405.15332\"/>\n",
       "<use xlink:href=\"#glyph-0-8\" x=\"124.070312\" y=\"405.15332\"/>\n",
       "<use xlink:href=\"#glyph-0-6\" x=\"126.070312\" y=\"405.15332\"/>\n",
       "<use xlink:href=\"#glyph-0-8\" x=\"131.070312\" y=\"405.15332\"/>\n",
       "<use xlink:href=\"#glyph-0-10\" x=\"133.070312\" y=\"405.15332\"/>\n",
       "<use xlink:href=\"#glyph-0-11\" x=\"138.070312\" y=\"405.15332\"/>\n",
       "</g>\n",
       "<g fill=\"rgb(30.196078%, 30.196078%, 30.196078%)\" fill-opacity=\"1\">\n",
       "<use xlink:href=\"#glyph-0-12\" x=\"24.070312\" y=\"361.21582\"/>\n",
       "<use xlink:href=\"#glyph-0-13\" x=\"30.070312\" y=\"361.21582\"/>\n",
       "<use xlink:href=\"#glyph-0-3\" x=\"36.070312\" y=\"361.21582\"/>\n",
       "<use xlink:href=\"#glyph-0-14\" x=\"44.070312\" y=\"361.21582\"/>\n",
       "<use xlink:href=\"#glyph-0-15\" x=\"49.070312\" y=\"361.21582\"/>\n",
       "<use xlink:href=\"#glyph-0-2\" x=\"55.070312\" y=\"361.21582\"/>\n",
       "<use xlink:href=\"#glyph-0-8\" x=\"62.070312\" y=\"361.21582\"/>\n",
       "<use xlink:href=\"#glyph-0-1\" x=\"64.070312\" y=\"361.21582\"/>\n",
       "<use xlink:href=\"#glyph-0-10\" x=\"70.070312\" y=\"361.21582\"/>\n",
       "<use xlink:href=\"#glyph-0-14\" x=\"75.070312\" y=\"361.21582\"/>\n",
       "<use xlink:href=\"#glyph-0-10\" x=\"80.070312\" y=\"361.21582\"/>\n",
       "<use xlink:href=\"#glyph-0-13\" x=\"85.070312\" y=\"361.21582\"/>\n",
       "<use xlink:href=\"#glyph-0-16\" x=\"91.070312\" y=\"361.21582\"/>\n",
       "<use xlink:href=\"#glyph-0-15\" x=\"98.070312\" y=\"361.21582\"/>\n",
       "<use xlink:href=\"#glyph-0-13\" x=\"104.070312\" y=\"361.21582\"/>\n",
       "<use xlink:href=\"#glyph-0-17\" x=\"110.070312\" y=\"361.21582\"/>\n",
       "<use xlink:href=\"#glyph-0-5\" x=\"116.070312\" y=\"361.21582\"/>\n",
       "<use xlink:href=\"#glyph-0-10\" x=\"121.070312\" y=\"361.21582\"/>\n",
       "<use xlink:href=\"#glyph-0-18\" x=\"126.070312\" y=\"361.21582\"/>\n",
       "<use xlink:href=\"#glyph-0-17\" x=\"132.070312\" y=\"361.21582\"/>\n",
       "<use xlink:href=\"#glyph-0-13\" x=\"138.070312\" y=\"361.21582\"/>\n",
       "</g>\n",
       "<g fill=\"rgb(30.196078%, 30.196078%, 30.196078%)\" fill-opacity=\"1\">\n",
       "<use xlink:href=\"#glyph-0-19\" x=\"104.070312\" y=\"317.274414\"/>\n",
       "<use xlink:href=\"#glyph-0-18\" x=\"110.070312\" y=\"317.274414\"/>\n",
       "<use xlink:href=\"#glyph-0-16\" x=\"116.070312\" y=\"317.274414\"/>\n",
       "<use xlink:href=\"#glyph-0-8\" x=\"123.070312\" y=\"317.274414\"/>\n",
       "<use xlink:href=\"#glyph-0-12\" x=\"125.070312\" y=\"317.274414\"/>\n",
       "<use xlink:href=\"#glyph-0-8\" x=\"131.070312\" y=\"317.274414\"/>\n",
       "<use xlink:href=\"#glyph-0-10\" x=\"133.070312\" y=\"317.274414\"/>\n",
       "<use xlink:href=\"#glyph-0-11\" x=\"138.070312\" y=\"317.274414\"/>\n",
       "</g>\n",
       "<g fill=\"rgb(30.196078%, 30.196078%, 30.196078%)\" fill-opacity=\"1\">\n",
       "<use xlink:href=\"#glyph-0-3\" x=\"87.070312\" y=\"273.336914\"/>\n",
       "<use xlink:href=\"#glyph-0-8\" x=\"95.070312\" y=\"273.336914\"/>\n",
       "<use xlink:href=\"#glyph-0-1\" x=\"97.070312\" y=\"273.336914\"/>\n",
       "<use xlink:href=\"#glyph-0-12\" x=\"103.070312\" y=\"273.336914\"/>\n",
       "<use xlink:href=\"#glyph-0-14\" x=\"109.070312\" y=\"273.336914\"/>\n",
       "<use xlink:href=\"#glyph-0-0\" x=\"114.070312\" y=\"273.336914\"/>\n",
       "<use xlink:href=\"#glyph-0-15\" x=\"120.070312\" y=\"273.336914\"/>\n",
       "<use xlink:href=\"#glyph-0-13\" x=\"126.070312\" y=\"273.336914\"/>\n",
       "<use xlink:href=\"#glyph-0-13\" x=\"132.070312\" y=\"273.336914\"/>\n",
       "<use xlink:href=\"#glyph-0-12\" x=\"138.070312\" y=\"273.336914\"/>\n",
       "</g>\n",
       "<g fill=\"rgb(30.196078%, 30.196078%, 30.196078%)\" fill-opacity=\"1\">\n",
       "<use xlink:href=\"#glyph-0-0\" x=\"64.070312\" y=\"229.399414\"/>\n",
       "<use xlink:href=\"#glyph-0-2\" x=\"70.070312\" y=\"229.399414\"/>\n",
       "<use xlink:href=\"#glyph-0-6\" x=\"77.070312\" y=\"229.399414\"/>\n",
       "<use xlink:href=\"#glyph-0-5\" x=\"82.070312\" y=\"229.399414\"/>\n",
       "<use xlink:href=\"#glyph-0-17\" x=\"88.070312\" y=\"229.399414\"/>\n",
       "<use xlink:href=\"#glyph-0-14\" x=\"94.070312\" y=\"229.399414\"/>\n",
       "<use xlink:href=\"#glyph-0-17\" x=\"99.070312\" y=\"229.399414\"/>\n",
       "<use xlink:href=\"#glyph-0-5\" x=\"105.070312\" y=\"229.399414\"/>\n",
       "<use xlink:href=\"#glyph-0-12\" x=\"111.070312\" y=\"229.399414\"/>\n",
       "<use xlink:href=\"#glyph-0-8\" x=\"117.070312\" y=\"229.399414\"/>\n",
       "<use xlink:href=\"#glyph-0-5\" x=\"119.070312\" y=\"229.399414\"/>\n",
       "<use xlink:href=\"#glyph-0-10\" x=\"124.070312\" y=\"229.399414\"/>\n",
       "<use xlink:href=\"#glyph-0-8\" x=\"129.070312\" y=\"229.399414\"/>\n",
       "<use xlink:href=\"#glyph-0-2\" x=\"131.070312\" y=\"229.399414\"/>\n",
       "<use xlink:href=\"#glyph-0-1\" x=\"138.070312\" y=\"229.399414\"/>\n",
       "</g>\n",
       "<g fill=\"rgb(30.196078%, 30.196078%, 30.196078%)\" fill-opacity=\"1\">\n",
       "<use xlink:href=\"#glyph-0-10\" x=\"38.070312\" y=\"185.461914\"/>\n",
       "<use xlink:href=\"#glyph-0-13\" x=\"43.070312\" y=\"185.461914\"/>\n",
       "<use xlink:href=\"#glyph-0-16\" x=\"49.070312\" y=\"185.461914\"/>\n",
       "<use xlink:href=\"#glyph-0-15\" x=\"56.070312\" y=\"185.461914\"/>\n",
       "<use xlink:href=\"#glyph-0-13\" x=\"62.070312\" y=\"185.461914\"/>\n",
       "<use xlink:href=\"#glyph-0-17\" x=\"68.070312\" y=\"185.461914\"/>\n",
       "<use xlink:href=\"#glyph-0-5\" x=\"74.070312\" y=\"185.461914\"/>\n",
       "<use xlink:href=\"#glyph-0-10\" x=\"79.070312\" y=\"185.461914\"/>\n",
       "<use xlink:href=\"#glyph-0-18\" x=\"84.070312\" y=\"185.461914\"/>\n",
       "<use xlink:href=\"#glyph-0-17\" x=\"90.070312\" y=\"185.461914\"/>\n",
       "<use xlink:href=\"#glyph-0-13\" x=\"96.070312\" y=\"185.461914\"/>\n",
       "<use xlink:href=\"#glyph-0-20\" x=\"102.070312\" y=\"185.461914\"/>\n",
       "<use xlink:href=\"#glyph-0-19\" x=\"104.070312\" y=\"185.461914\"/>\n",
       "<use xlink:href=\"#glyph-0-18\" x=\"110.070312\" y=\"185.461914\"/>\n",
       "<use xlink:href=\"#glyph-0-16\" x=\"116.070312\" y=\"185.461914\"/>\n",
       "<use xlink:href=\"#glyph-0-8\" x=\"123.070312\" y=\"185.461914\"/>\n",
       "<use xlink:href=\"#glyph-0-12\" x=\"125.070312\" y=\"185.461914\"/>\n",
       "<use xlink:href=\"#glyph-0-8\" x=\"131.070312\" y=\"185.461914\"/>\n",
       "<use xlink:href=\"#glyph-0-10\" x=\"133.070312\" y=\"185.461914\"/>\n",
       "<use xlink:href=\"#glyph-0-11\" x=\"138.070312\" y=\"185.461914\"/>\n",
       "</g>\n",
       "<g fill=\"rgb(30.196078%, 30.196078%, 30.196078%)\" fill-opacity=\"1\">\n",
       "<use xlink:href=\"#glyph-0-10\" x=\"80.070312\" y=\"141.524414\"/>\n",
       "<use xlink:href=\"#glyph-0-13\" x=\"85.070312\" y=\"141.524414\"/>\n",
       "<use xlink:href=\"#glyph-0-16\" x=\"91.070312\" y=\"141.524414\"/>\n",
       "<use xlink:href=\"#glyph-0-15\" x=\"98.070312\" y=\"141.524414\"/>\n",
       "<use xlink:href=\"#glyph-0-13\" x=\"104.070312\" y=\"141.524414\"/>\n",
       "<use xlink:href=\"#glyph-0-17\" x=\"110.070312\" y=\"141.524414\"/>\n",
       "<use xlink:href=\"#glyph-0-5\" x=\"116.070312\" y=\"141.524414\"/>\n",
       "<use xlink:href=\"#glyph-0-10\" x=\"121.070312\" y=\"141.524414\"/>\n",
       "<use xlink:href=\"#glyph-0-18\" x=\"126.070312\" y=\"141.524414\"/>\n",
       "<use xlink:href=\"#glyph-0-17\" x=\"132.070312\" y=\"141.524414\"/>\n",
       "<use xlink:href=\"#glyph-0-13\" x=\"138.070312\" y=\"141.524414\"/>\n",
       "</g>\n",
       "<g fill=\"rgb(30.196078%, 30.196078%, 30.196078%)\" fill-opacity=\"1\">\n",
       "<use xlink:href=\"#glyph-0-19\" x=\"62.070312\" y=\"97.586914\"/>\n",
       "<use xlink:href=\"#glyph-0-18\" x=\"68.070312\" y=\"97.586914\"/>\n",
       "<use xlink:href=\"#glyph-0-16\" x=\"74.070312\" y=\"97.586914\"/>\n",
       "<use xlink:href=\"#glyph-0-8\" x=\"81.070312\" y=\"97.586914\"/>\n",
       "<use xlink:href=\"#glyph-0-12\" x=\"83.070312\" y=\"97.586914\"/>\n",
       "<use xlink:href=\"#glyph-0-8\" x=\"89.070312\" y=\"97.586914\"/>\n",
       "<use xlink:href=\"#glyph-0-10\" x=\"91.070312\" y=\"97.586914\"/>\n",
       "<use xlink:href=\"#glyph-0-11\" x=\"96.070312\" y=\"97.586914\"/>\n",
       "<use xlink:href=\"#glyph-0-20\" x=\"101.070312\" y=\"97.586914\"/>\n",
       "<use xlink:href=\"#glyph-0-17\" x=\"103.070312\" y=\"97.586914\"/>\n",
       "<use xlink:href=\"#glyph-0-5\" x=\"109.070312\" y=\"97.586914\"/>\n",
       "<use xlink:href=\"#glyph-0-8\" x=\"115.070312\" y=\"97.586914\"/>\n",
       "<use xlink:href=\"#glyph-0-1\" x=\"117.070312\" y=\"97.586914\"/>\n",
       "<use xlink:href=\"#glyph-0-4\" x=\"123.070312\" y=\"97.586914\"/>\n",
       "<use xlink:href=\"#glyph-0-5\" x=\"128.070312\" y=\"97.586914\"/>\n",
       "<use xlink:href=\"#glyph-0-6\" x=\"134.070312\" y=\"97.586914\"/>\n",
       "<use xlink:href=\"#glyph-0-6\" x=\"139.070312\" y=\"97.586914\"/>\n",
       "</g>\n",
       "<g fill=\"rgb(30.196078%, 30.196078%, 30.196078%)\" fill-opacity=\"1\">\n",
       "<use xlink:href=\"#glyph-0-17\" x=\"103.070312\" y=\"53.649414\"/>\n",
       "<use xlink:href=\"#glyph-0-5\" x=\"109.070312\" y=\"53.649414\"/>\n",
       "<use xlink:href=\"#glyph-0-8\" x=\"115.070312\" y=\"53.649414\"/>\n",
       "<use xlink:href=\"#glyph-0-1\" x=\"117.070312\" y=\"53.649414\"/>\n",
       "<use xlink:href=\"#glyph-0-4\" x=\"123.070312\" y=\"53.649414\"/>\n",
       "<use xlink:href=\"#glyph-0-5\" x=\"128.070312\" y=\"53.649414\"/>\n",
       "<use xlink:href=\"#glyph-0-6\" x=\"134.070312\" y=\"53.649414\"/>\n",
       "<use xlink:href=\"#glyph-0-6\" x=\"139.070312\" y=\"53.649414\"/>\n",
       "</g>\n",
       "<path fill=\"none\" stroke-width=\"1.066978\" stroke-linecap=\"butt\" stroke-linejoin=\"round\" stroke=\"rgb(20%, 20%, 20%)\" stroke-opacity=\"1\" stroke-miterlimit=\"10\" d=\"M 146.265625 445.625 L 149.003906 445.625 \"/>\n",
       "<path fill=\"none\" stroke-width=\"1.066978\" stroke-linecap=\"butt\" stroke-linejoin=\"round\" stroke=\"rgb(20%, 20%, 20%)\" stroke-opacity=\"1\" stroke-miterlimit=\"10\" d=\"M 146.265625 401.6875 L 149.003906 401.6875 \"/>\n",
       "<path fill=\"none\" stroke-width=\"1.066978\" stroke-linecap=\"butt\" stroke-linejoin=\"round\" stroke=\"rgb(20%, 20%, 20%)\" stroke-opacity=\"1\" stroke-miterlimit=\"10\" d=\"M 146.265625 357.75 L 149.003906 357.75 \"/>\n",
       "<path fill=\"none\" stroke-width=\"1.066978\" stroke-linecap=\"butt\" stroke-linejoin=\"round\" stroke=\"rgb(20%, 20%, 20%)\" stroke-opacity=\"1\" stroke-miterlimit=\"10\" d=\"M 146.265625 313.808594 L 149.003906 313.808594 \"/>\n",
       "<path fill=\"none\" stroke-width=\"1.066978\" stroke-linecap=\"butt\" stroke-linejoin=\"round\" stroke=\"rgb(20%, 20%, 20%)\" stroke-opacity=\"1\" stroke-miterlimit=\"10\" d=\"M 146.265625 269.871094 L 149.003906 269.871094 \"/>\n",
       "<path fill=\"none\" stroke-width=\"1.066978\" stroke-linecap=\"butt\" stroke-linejoin=\"round\" stroke=\"rgb(20%, 20%, 20%)\" stroke-opacity=\"1\" stroke-miterlimit=\"10\" d=\"M 146.265625 225.933594 L 149.003906 225.933594 \"/>\n",
       "<path fill=\"none\" stroke-width=\"1.066978\" stroke-linecap=\"butt\" stroke-linejoin=\"round\" stroke=\"rgb(20%, 20%, 20%)\" stroke-opacity=\"1\" stroke-miterlimit=\"10\" d=\"M 146.265625 181.996094 L 149.003906 181.996094 \"/>\n",
       "<path fill=\"none\" stroke-width=\"1.066978\" stroke-linecap=\"butt\" stroke-linejoin=\"round\" stroke=\"rgb(20%, 20%, 20%)\" stroke-opacity=\"1\" stroke-miterlimit=\"10\" d=\"M 146.265625 138.058594 L 149.003906 138.058594 \"/>\n",
       "<path fill=\"none\" stroke-width=\"1.066978\" stroke-linecap=\"butt\" stroke-linejoin=\"round\" stroke=\"rgb(20%, 20%, 20%)\" stroke-opacity=\"1\" stroke-miterlimit=\"10\" d=\"M 146.265625 94.121094 L 149.003906 94.121094 \"/>\n",
       "<path fill=\"none\" stroke-width=\"1.066978\" stroke-linecap=\"butt\" stroke-linejoin=\"round\" stroke=\"rgb(20%, 20%, 20%)\" stroke-opacity=\"1\" stroke-miterlimit=\"10\" d=\"M 146.265625 50.183594 L 149.003906 50.183594 \"/>\n",
       "<path fill=\"none\" stroke-width=\"1.066978\" stroke-linecap=\"butt\" stroke-linejoin=\"round\" stroke=\"rgb(20%, 20%, 20%)\" stroke-opacity=\"1\" stroke-miterlimit=\"10\" d=\"M 155.28125 474.726562 L 155.28125 471.988281 \"/>\n",
       "<path fill=\"none\" stroke-width=\"1.066978\" stroke-linecap=\"butt\" stroke-linejoin=\"round\" stroke=\"rgb(20%, 20%, 20%)\" stroke-opacity=\"1\" stroke-miterlimit=\"10\" d=\"M 240.160156 474.726562 L 240.160156 471.988281 \"/>\n",
       "<path fill=\"none\" stroke-width=\"1.066978\" stroke-linecap=\"butt\" stroke-linejoin=\"round\" stroke=\"rgb(20%, 20%, 20%)\" stroke-opacity=\"1\" stroke-miterlimit=\"10\" d=\"M 325.035156 474.726562 L 325.035156 471.988281 \"/>\n",
       "<path fill=\"none\" stroke-width=\"1.066978\" stroke-linecap=\"butt\" stroke-linejoin=\"round\" stroke=\"rgb(20%, 20%, 20%)\" stroke-opacity=\"1\" stroke-miterlimit=\"10\" d=\"M 409.910156 474.726562 L 409.910156 471.988281 \"/>\n",
       "<path fill=\"none\" stroke-width=\"1.066978\" stroke-linecap=\"butt\" stroke-linejoin=\"round\" stroke=\"rgb(20%, 20%, 20%)\" stroke-opacity=\"1\" stroke-miterlimit=\"10\" d=\"M 494.785156 474.726562 L 494.785156 471.988281 \"/>\n",
       "<g fill=\"rgb(30.196078%, 30.196078%, 30.196078%)\" fill-opacity=\"1\">\n",
       "<use xlink:href=\"#glyph-0-21\" x=\"141.28125\" y=\"483.883789\"/>\n",
       "<use xlink:href=\"#glyph-0-22\" x=\"144.28125\" y=\"483.883789\"/>\n",
       "<use xlink:href=\"#glyph-0-23\" x=\"149.28125\" y=\"483.883789\"/>\n",
       "<use xlink:href=\"#glyph-0-23\" x=\"154.28125\" y=\"483.883789\"/>\n",
       "<use xlink:href=\"#glyph-0-23\" x=\"159.28125\" y=\"483.883789\"/>\n",
       "<use xlink:href=\"#glyph-0-23\" x=\"164.28125\" y=\"483.883789\"/>\n",
       "</g>\n",
       "<g fill=\"rgb(30.196078%, 30.196078%, 30.196078%)\" fill-opacity=\"1\">\n",
       "<use xlink:href=\"#glyph-0-21\" x=\"226.160156\" y=\"483.883789\"/>\n",
       "<use xlink:href=\"#glyph-0-24\" x=\"229.160156\" y=\"483.883789\"/>\n",
       "<use xlink:href=\"#glyph-0-22\" x=\"234.160156\" y=\"483.883789\"/>\n",
       "<use xlink:href=\"#glyph-0-23\" x=\"239.160156\" y=\"483.883789\"/>\n",
       "<use xlink:href=\"#glyph-0-23\" x=\"244.160156\" y=\"483.883789\"/>\n",
       "<use xlink:href=\"#glyph-0-23\" x=\"249.160156\" y=\"483.883789\"/>\n",
       "</g>\n",
       "<g fill=\"rgb(30.196078%, 30.196078%, 30.196078%)\" fill-opacity=\"1\">\n",
       "<use xlink:href=\"#glyph-0-23\" x=\"322.535156\" y=\"483.883789\"/>\n",
       "</g>\n",
       "<g fill=\"rgb(30.196078%, 30.196078%, 30.196078%)\" fill-opacity=\"1\">\n",
       "<use xlink:href=\"#glyph-0-24\" x=\"397.410156\" y=\"483.883789\"/>\n",
       "<use xlink:href=\"#glyph-0-22\" x=\"402.410156\" y=\"483.883789\"/>\n",
       "<use xlink:href=\"#glyph-0-23\" x=\"407.410156\" y=\"483.883789\"/>\n",
       "<use xlink:href=\"#glyph-0-23\" x=\"412.410156\" y=\"483.883789\"/>\n",
       "<use xlink:href=\"#glyph-0-23\" x=\"417.410156\" y=\"483.883789\"/>\n",
       "</g>\n",
       "<g fill=\"rgb(30.196078%, 30.196078%, 30.196078%)\" fill-opacity=\"1\">\n",
       "<use xlink:href=\"#glyph-0-22\" x=\"482.285156\" y=\"483.883789\"/>\n",
       "<use xlink:href=\"#glyph-0-23\" x=\"487.285156\" y=\"483.883789\"/>\n",
       "<use xlink:href=\"#glyph-0-23\" x=\"492.285156\" y=\"483.883789\"/>\n",
       "<use xlink:href=\"#glyph-0-23\" x=\"497.285156\" y=\"483.883789\"/>\n",
       "<use xlink:href=\"#glyph-0-23\" x=\"502.285156\" y=\"483.883789\"/>\n",
       "</g>\n",
       "<g fill=\"rgb(0%, 0%, 0%)\" fill-opacity=\"1\">\n",
       "<use xlink:href=\"#glyph-1-0\" x=\"298.261719\" y=\"496.05957\"/>\n",
       "<use xlink:href=\"#glyph-1-1\" x=\"306.261719\" y=\"496.05957\"/>\n",
       "<use xlink:href=\"#glyph-1-2\" x=\"312.261719\" y=\"496.05957\"/>\n",
       "<use xlink:href=\"#glyph-1-3\" x=\"318.261719\" y=\"496.05957\"/>\n",
       "<use xlink:href=\"#glyph-1-3\" x=\"321.261719\" y=\"496.05957\"/>\n",
       "<use xlink:href=\"#glyph-1-4\" x=\"324.261719\" y=\"496.05957\"/>\n",
       "<use xlink:href=\"#glyph-1-5\" x=\"326.261719\" y=\"496.05957\"/>\n",
       "<use xlink:href=\"#glyph-1-4\" x=\"332.261719\" y=\"496.05957\"/>\n",
       "<use xlink:href=\"#glyph-1-2\" x=\"334.261719\" y=\"496.05957\"/>\n",
       "<use xlink:href=\"#glyph-1-6\" x=\"340.261719\" y=\"496.05957\"/>\n",
       "<use xlink:href=\"#glyph-1-7\" x=\"346.261719\" y=\"496.05957\"/>\n",
       "</g>\n",
       "<g fill=\"rgb(0%, 0%, 0%)\" fill-opacity=\"1\">\n",
       "<use xlink:href=\"#glyph-2-0\" x=\"13.438477\" y=\"260.402344\"/>\n",
       "<use xlink:href=\"#glyph-2-1\" x=\"13.438477\" y=\"254.402344\"/>\n",
       "<use xlink:href=\"#glyph-2-2\" x=\"13.438477\" y=\"248.402344\"/>\n",
       "<use xlink:href=\"#glyph-2-3\" x=\"13.438477\" y=\"244.402344\"/>\n",
       "</g>\n",
       "<g fill=\"rgb(0%, 0%, 0%)\" fill-opacity=\"1\">\n",
       "<use xlink:href=\"#glyph-3-0\" x=\"149.003906\" y=\"15.429688\"/>\n",
       "<use xlink:href=\"#glyph-3-1\" x=\"156.003906\" y=\"15.429688\"/>\n",
       "<use xlink:href=\"#glyph-3-2\" x=\"163.003906\" y=\"15.429688\"/>\n",
       "<use xlink:href=\"#glyph-3-3\" x=\"170.003906\" y=\"15.429688\"/>\n",
       "<use xlink:href=\"#glyph-3-4\" x=\"174.003906\" y=\"15.429688\"/>\n",
       "<use xlink:href=\"#glyph-3-5\" x=\"181.003906\" y=\"15.429688\"/>\n",
       "<use xlink:href=\"#glyph-3-3\" x=\"188.003906\" y=\"15.429688\"/>\n",
       "<use xlink:href=\"#glyph-3-6\" x=\"192.003906\" y=\"15.429688\"/>\n",
       "<use xlink:href=\"#glyph-3-7\" x=\"196.003906\" y=\"15.429688\"/>\n",
       "<use xlink:href=\"#glyph-3-2\" x=\"207.003906\" y=\"15.429688\"/>\n",
       "<use xlink:href=\"#glyph-3-1\" x=\"214.003906\" y=\"15.429688\"/>\n",
       "<use xlink:href=\"#glyph-3-8\" x=\"221.003906\" y=\"15.429688\"/>\n",
       "<use xlink:href=\"#glyph-3-9\" x=\"225.003906\" y=\"15.429688\"/>\n",
       "<use xlink:href=\"#glyph-3-10\" x=\"229.003906\" y=\"15.429688\"/>\n",
       "<use xlink:href=\"#glyph-3-11\" x=\"236.003906\" y=\"15.429688\"/>\n",
       "<use xlink:href=\"#glyph-3-9\" x=\"243.003906\" y=\"15.429688\"/>\n",
       "<use xlink:href=\"#glyph-3-3\" x=\"247.003906\" y=\"15.429688\"/>\n",
       "<use xlink:href=\"#glyph-3-12\" x=\"251.003906\" y=\"15.429688\"/>\n",
       "<use xlink:href=\"#glyph-3-8\" x=\"260.003906\" y=\"15.429688\"/>\n",
       "<use xlink:href=\"#glyph-3-13\" x=\"264.003906\" y=\"15.429688\"/>\n",
       "<use xlink:href=\"#glyph-3-14\" x=\"271.003906\" y=\"15.429688\"/>\n",
       "<use xlink:href=\"#glyph-3-15\" x=\"278.003906\" y=\"15.429688\"/>\n",
       "<use xlink:href=\"#glyph-3-16\" x=\"281.003906\" y=\"15.429688\"/>\n",
       "<use xlink:href=\"#glyph-3-9\" x=\"288.003906\" y=\"15.429688\"/>\n",
       "<use xlink:href=\"#glyph-3-1\" x=\"292.003906\" y=\"15.429688\"/>\n",
       "<use xlink:href=\"#glyph-3-8\" x=\"299.003906\" y=\"15.429688\"/>\n",
       "<use xlink:href=\"#glyph-3-17\" x=\"303.003906\" y=\"15.429688\"/>\n",
       "</g>\n",
       "</svg>\n"
      ],
      "text/plain": [
       "plot without title"
      ]
     },
     "metadata": {
      "application/pdf": {
       "height": 420,
       "width": 420
      },
      "image/jpeg": {
       "height": 420,
       "width": 420
      },
      "image/png": {
       "height": 420,
       "width": 420
      },
      "image/svg+xml": {
       "height": 420,
       "isolated": true,
       "width": 420
      }
     },
     "output_type": "display_data"
    }
   ],
   "source": [
    "# Visualize the list using ggplot and geom_bar\n",
    "\n",
    "# Plot\n",
    "ggplot(coef_df, aes(x = reorder(term, abs_estimate), y = estimate)) +\n",
    "  geom_col(fill = \"steelblue\") +\n",
    "  coord_flip() +\n",
    "  labs(title = \"Top 10 Important Predictors\", x = \"Term\", y = \"Coefficient\")\n"
   ]
  },
  {
   "cell_type": "markdown",
   "metadata": {},
   "source": [
    "Mark down these 'top-ranked variables by coefficient', which will be used for model refinments in the next labs.\n"
   ]
  },
  {
   "cell_type": "markdown",
   "metadata": {},
   "source": [
    "Note that here the main reason we use absolute value is to easily identify important variables, i.e. variables with large magnitudes, no matter it's negative or positive. If we want to interprete the model then it's better to seperate the positive and negative coefficients.\n"
   ]
  },
  {
   "cell_type": "markdown",
   "metadata": {},
   "source": [
    "# Next Steps\n"
   ]
  },
  {
   "cell_type": "markdown",
   "metadata": {},
   "source": [
    "Great! Now you have built a baseline linear regression model to predict hourly bike rent count, with reasonably good performance. In the next lab, you will be refining the baseline model to improve its performance.\n"
   ]
  },
  {
   "cell_type": "markdown",
   "metadata": {},
   "source": [
    "## Authors\n",
    "\n",
    "<a href=\"https://www.linkedin.com/in/yan-luo-96288783/\" target=\"_blank\">Yan Luo</a>\n"
   ]
  },
  {
   "cell_type": "markdown",
   "metadata": {},
   "source": [
    "### Other Contributors\n",
    "\n",
    "Jeff Grossman\n"
   ]
  },
  {
   "cell_type": "markdown",
   "metadata": {},
   "source": [
    "## Change Log\n",
    "\n",
    "| Date (YYYY-MM-DD) | Version | Changed By | Change Description           |\n",
    "| ----------------- | ------- | ---------- | ---------------------------- |\n",
    "| 2021-04-08        | 1.0     | Yan        | Initial version created      |\n",
    "|                   |         |            |                              |\n",
    "|                   |         |            |                              |\n",
    "\n",
    "## <h3 align=\"center\"> © IBM Corporation. All rights reserved. <h3/>\n"
   ]
  }
 ],
 "metadata": {
  "kernelspec": {
   "display_name": "R",
   "language": "R",
   "name": "ir"
  },
  "language_info": {
   "codemirror_mode": "r",
   "file_extension": ".r",
   "mimetype": "text/x-r-source",
   "name": "R",
   "pygments_lexer": "r",
   "version": "4.4.2"
  },
  "prev_pub_hash": "1e95286e46837f1418c2282d5c827ef5e5185335bc4d88685e952a58b3779be7"
 },
 "nbformat": 4,
 "nbformat_minor": 4
}
