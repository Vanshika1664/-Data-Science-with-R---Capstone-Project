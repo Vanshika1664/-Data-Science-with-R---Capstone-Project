{
 "cells": [
  {
   "cell_type": "markdown",
   "metadata": {},
   "source": [
    "<center>\n",
    "<img src=\"https://cf-courses-data.s3.us.cloud-object-storage.appdomain.cloud/IBMDeveloperSkillsNetwork-RP0321EN-SkillsNetwork/labs/module_1/images/SN_web_lightmode.png\" width=\"300\"> \n",
    "</center>\n",
    "\n",
    "# Assignment: Exploratory Data Analysis with SQL\n",
    "Estimated time needed: 60 minutes\n",
    "\n",
    "\n",
    "# Introduction\n",
    "Using this R notebook you will perform exploratory data analysis using SQL queries with the RSQLite R package. You will be graded on the accuracy of your results as well as the content of your SQL queries.\n"
   ]
  },
  {
   "cell_type": "markdown",
   "metadata": {},
   "source": [
    "### Establish your SQL Lite connection\n",
    "\n",
    "#### Install RSQLite package\n",
    "The RSQlite  package needs to be installed in your notebook. Let’s load the RSQLite package by clicking on the following cell and executing it (Shift+Enter):\n"
   ]
  },
  {
   "cell_type": "code",
   "execution_count": 9,
   "metadata": {},
   "outputs": [
    {
     "name": "stderr",
     "output_type": "stream",
     "text": [
      "Updating HTML index of packages in '.Library'\n",
      "\n",
      "Making 'packages.html' ...\n",
      " done\n",
      "\n",
      "Updating HTML index of packages in '.Library'\n",
      "\n",
      "Making 'packages.html' ...\n",
      " done\n",
      "\n"
     ]
    }
   ],
   "source": [
    "# Load required packages\n",
    "install.packages(\"DBI\")\n",
    "install.packages(\"RSQLite\")"
   ]
  },
  {
   "cell_type": "markdown",
   "metadata": {},
   "source": [
    "#### Restart Kernel\n",
    "\n",
    "After installing the RSQLite package, it is necessary to restart R Kernel. Click **Kernel** > **Restart Kernel** from the main menu. This will register the newly installed packages. Now proceed to load the RSQLite package. \n"
   ]
  },
  {
   "cell_type": "markdown",
   "metadata": {},
   "source": [
    "#### Load RSQLite\n",
    "Load the 'RSQLite' library, and use the 'dbConnect( )' function as you did in the previous labs to establish the connection to your SQLite database.  \n",
    "You are now ready to start running SQL queries using the RSQLite library as you did in Course 3.\n"
   ]
  },
  {
   "cell_type": "code",
   "execution_count": 1,
   "metadata": {},
   "outputs": [],
   "source": [
    "library(DBI)\n",
    "library(RSQLite)\n",
    "library(readr)"
   ]
  },
  {
   "cell_type": "code",
   "execution_count": 2,
   "metadata": {},
   "outputs": [],
   "source": [
    "# Create SQLite connection\n",
    "conn <- dbConnect(RSQLite::SQLite(), \"bike_sharing.db\")"
   ]
  },
  {
   "cell_type": "markdown",
   "metadata": {},
   "source": [
    "Download the following csv files:\n",
    "\n",
    "*   [WORLD_CITIES](https://cf-courses-data.s3.us.cloud-object-storage.appdomain.cloud/IBMDeveloperSkillsNetwork-RP0321EN-SkillsNetwork/labs/datasets/world_cities.csv)\n",
    "\n",
    "*   [BIKE_SHARING_SYSTEMS](https://cf-courses-data.s3.us.cloud-object-storage.appdomain.cloud/IBMDeveloperSkillsNetwork-RP0321EN-SkillsNetwork/labs/datasets/bike_sharing_systems.csv)\n",
    "\n",
    "*   [CITIES_WEATHER_FORECAST](https://cf-courses-data.s3.us.cloud-object-storage.appdomain.cloud/IBMDeveloperSkillsNetwork-RP0321EN-SkillsNetwork/labs/datasets/cities_weather_forecast.csv)\n",
    "\n",
    "*   [SEOUL_BIKE_SHARING](https://cf-courses-data.s3.us.cloud-object-storage.appdomain.cloud/IBMDeveloperSkillsNetwork-RP0321EN-SkillsNetwork/labs/datasets/seoul_bike_sharing.csv)\n",
    "\n",
    "and load the csv's  into 4 tables as mentioned below\n",
    "* SEOUL_BIKE_SHARING\n",
    "\n",
    "* CITIES_WEATHER_FORECAST\n",
    "\n",
    "* BIKE_SHARING_SYSTEMS \n",
    "\n",
    "*  WORLD_CITIES\n",
    "\n",
    "> Hint : Use the read_csv() function and dbWriteTable() functions\n"
   ]
  },
  {
   "cell_type": "markdown",
   "metadata": {},
   "source": [
    "\n",
    "## Task 1 - Record Count\n",
    "#### Determine how many records are in the seoul_bike_sharing dataset.\n"
   ]
  },
  {
   "cell_type": "markdown",
   "metadata": {},
   "source": [
    "### Solution 1\n"
   ]
  },
  {
   "cell_type": "code",
   "execution_count": 5,
   "metadata": {},
   "outputs": [
    {
     "name": "stderr",
     "output_type": "stream",
     "text": [
      "\u001b[1mRows: \u001b[22m\u001b[34m26569\u001b[39m \u001b[1mColumns: \u001b[22m\u001b[34m11\u001b[39m\n",
      "\u001b[36m──\u001b[39m \u001b[1mColumn specification\u001b[22m \u001b[36m────────────────────────────────────────────────────────\u001b[39m\n",
      "\u001b[1mDelimiter:\u001b[22m \",\"\n",
      "\u001b[31mchr\u001b[39m (7): City, CITY_ASCII, COUNTRY, ISO2, ISO3, ADMIN_NAME, CAPITAL\n",
      "\u001b[32mdbl\u001b[39m (4): LAT, LNG, POPULATION, ID\n",
      "\n",
      "\u001b[36mℹ\u001b[39m Use `spec()` to retrieve the full column specification for this data.\n",
      "\u001b[36mℹ\u001b[39m Specify the column types or set `show_col_types = FALSE` to quiet this message.\n",
      "\u001b[1mRows: \u001b[22m\u001b[34m480\u001b[39m \u001b[1mColumns: \u001b[22m\u001b[34m10\u001b[39m\n",
      "\u001b[36m──\u001b[39m \u001b[1mColumn specification\u001b[22m \u001b[36m────────────────────────────────────────────────────────\u001b[39m\n",
      "\u001b[1mDelimiter:\u001b[22m \",\"\n",
      "\u001b[31mchr\u001b[39m (10): COUNTRY, City, Name, SYSTEM, OPERATOR, LAUNCHED, DISCONTINUED, STA...\n",
      "\n",
      "\u001b[36mℹ\u001b[39m Use `spec()` to retrieve the full column specification for this data.\n",
      "\u001b[36mℹ\u001b[39m Specify the column types or set `show_col_types = FALSE` to quiet this message.\n",
      "\u001b[1mRows: \u001b[22m\u001b[34m160\u001b[39m \u001b[1mColumns: \u001b[22m\u001b[34m12\u001b[39m\n",
      "\u001b[36m──\u001b[39m \u001b[1mColumn specification\u001b[22m \u001b[36m────────────────────────────────────────────────────────\u001b[39m\n",
      "\u001b[1mDelimiter:\u001b[22m \",\"\n",
      "\u001b[31mchr\u001b[39m  (3): CITY, WEATHER, SEASON\n",
      "\u001b[32mdbl\u001b[39m  (8): VISIBILITY, TEMP, TEMP_MIN, TEMP_MAX, PRESSURE, HUMIDITY, WIND_SPE...\n",
      "\u001b[34mdttm\u001b[39m (1): FORECAST_DATETIME\n",
      "\n",
      "\u001b[36mℹ\u001b[39m Use `spec()` to retrieve the full column specification for this data.\n",
      "\u001b[36mℹ\u001b[39m Specify the column types or set `show_col_types = FALSE` to quiet this message.\n",
      "\u001b[1mRows: \u001b[22m\u001b[34m8760\u001b[39m \u001b[1mColumns: \u001b[22m\u001b[34m14\u001b[39m\n",
      "\u001b[36m──\u001b[39m \u001b[1mColumn specification\u001b[22m \u001b[36m────────────────────────────────────────────────────────\u001b[39m\n",
      "\u001b[1mDelimiter:\u001b[22m \",\"\n",
      "\u001b[31mchr\u001b[39m  (4): Date, SEASONS, HOLIDAY, FUNCTIONING_DAY\n",
      "\u001b[32mdbl\u001b[39m (10): RENTED_BIKE_COUNT, Hour, TEMPERATURE, HUMIDITY, WIND_SPEED, Visibi...\n",
      "\n",
      "\u001b[36mℹ\u001b[39m Use `spec()` to retrieve the full column specification for this data.\n",
      "\u001b[36mℹ\u001b[39m Specify the column types or set `show_col_types = FALSE` to quiet this message.\n"
     ]
    },
    {
     "data": {
      "text/html": [
       "<table class=\"dataframe\">\n",
       "<caption>A data.frame: 1 × 1</caption>\n",
       "<thead>\n",
       "\t<tr><th scope=col>COUNT(*)</th></tr>\n",
       "\t<tr><th scope=col>&lt;int&gt;</th></tr>\n",
       "</thead>\n",
       "<tbody>\n",
       "\t<tr><td>8760</td></tr>\n",
       "</tbody>\n",
       "</table>\n"
      ],
      "text/latex": [
       "A data.frame: 1 × 1\n",
       "\\begin{tabular}{l}\n",
       " COUNT(*)\\\\\n",
       " <int>\\\\\n",
       "\\hline\n",
       "\t 8760\\\\\n",
       "\\end{tabular}\n"
      ],
      "text/markdown": [
       "\n",
       "A data.frame: 1 × 1\n",
       "\n",
       "| COUNT(*) &lt;int&gt; |\n",
       "|---|\n",
       "| 8760 |\n",
       "\n"
      ],
      "text/plain": [
       "  COUNT(*)\n",
       "1 8760    "
      ]
     },
     "metadata": {},
     "output_type": "display_data"
    },
    {
     "data": {
      "text/html": [
       "<table class=\"dataframe\">\n",
       "<caption>A data.frame: 1 × 1</caption>\n",
       "<thead>\n",
       "\t<tr><th scope=col>record_count</th></tr>\n",
       "\t<tr><th scope=col>&lt;int&gt;</th></tr>\n",
       "</thead>\n",
       "<tbody>\n",
       "\t<tr><td>8760</td></tr>\n",
       "</tbody>\n",
       "</table>\n"
      ],
      "text/latex": [
       "A data.frame: 1 × 1\n",
       "\\begin{tabular}{l}\n",
       " record\\_count\\\\\n",
       " <int>\\\\\n",
       "\\hline\n",
       "\t 8760\\\\\n",
       "\\end{tabular}\n"
      ],
      "text/markdown": [
       "\n",
       "A data.frame: 1 × 1\n",
       "\n",
       "| record_count &lt;int&gt; |\n",
       "|---|\n",
       "| 8760 |\n",
       "\n"
      ],
      "text/plain": [
       "  record_count\n",
       "1 8760        "
      ]
     },
     "metadata": {},
     "output_type": "display_data"
    }
   ],
   "source": [
    "# Read CSVs\n",
    "world_cities <- read_csv(\"world_cities.csv\")\n",
    "bike_sharing <- read_csv(\"bike_sharing_systems.csv\")\n",
    "weather_forecast <- read_csv(\"cities_weather_forecast.csv\")\n",
    "seoul_bike <- read_csv(\"seoul_bike_sharing.csv\")\n",
    "\n",
    "# Write tables to SQLite\n",
    "dbWriteTable(conn, \"WORLD_CITIES\", world_cities, overwrite = TRUE)\n",
    "dbWriteTable(conn, \"BIKE_SHARING_SYSTEMS\", bike_sharing, overwrite = TRUE)\n",
    "dbWriteTable(conn, \"CITIES_WEATHER_FORECAST\", weather_forecast, overwrite = TRUE)\n",
    "dbWriteTable(conn, \"SEOUL_BIKE_SHARING\", seoul_bike, overwrite = TRUE)\n",
    "dbGetQuery(conn, \"SELECT COUNT(*) FROM SEOUL_BIKE_SHARING\")\n",
    "dbGetQuery(conn, \"SELECT COUNT(*) AS record_count FROM SEOUL_BIKE_SHARING\")\n"
   ]
  },
  {
   "cell_type": "code",
   "execution_count": 6,
   "metadata": {},
   "outputs": [],
   "source": [
    "# provide your solution here\n",
    "# Download files directly from URLs\n",
    "download.file(\"https://cf-courses-data.s3.us.cloud-object-storage.appdomain.cloud/IBMDeveloperSkillsNetwork-RP0321EN-SkillsNetwork/labs/datasets/raw_worldcities.csv\",\n",
    "              destfile = \"world_cities.csv\")\n",
    "\n",
    "download.file(\"https://cf-courses-data.s3.us.cloud-object-storage.appdomain.cloud/IBMDeveloperSkillsNetwork-RP0321EN-SkillsNetwork/labs/datasets/raw_bike_sharing_systems.csv\",\n",
    "              destfile = \"bike_sharing_systems.csv\")\n",
    "\n",
    "download.file(\"https://cf-courses-data.s3.us.cloud-object-storage.appdomain.cloud/IBMDeveloperSkillsNetwork-RP0321EN-SkillsNetwork/labs/datasets/raw_seoul_bike_sharing.csv\",\n",
    "              destfile = \"seoul_bike_sharing.csv\")\n",
    "\n",
    "download.file(\"https://cf-courses-data.s3.us.cloud-object-storage.appdomain.cloud/IBMDeveloperSkillsNetwork-RP0321EN-SkillsNetwork/labs/datasets/cities_weather_forecast.csv\",\n",
    "              destfile = \"cities_weather_forecast.csv\")\n"
   ]
  },
  {
   "cell_type": "markdown",
   "metadata": {},
   "source": [
    "## Task 2 - Operational Hours\n",
    "#### Determine how many hours had non-zero rented bike count.\n"
   ]
  },
  {
   "cell_type": "markdown",
   "metadata": {},
   "source": [
    "### Solution 2\n"
   ]
  },
  {
   "cell_type": "code",
   "execution_count": 7,
   "metadata": {},
   "outputs": [
    {
     "data": {
      "text/html": [
       "<table class=\"dataframe\">\n",
       "<caption>A data.frame: 1 × 1</caption>\n",
       "<thead>\n",
       "\t<tr><th scope=col>non_zero_hours</th></tr>\n",
       "\t<tr><th scope=col>&lt;int&gt;</th></tr>\n",
       "</thead>\n",
       "<tbody>\n",
       "\t<tr><td>8465</td></tr>\n",
       "</tbody>\n",
       "</table>\n"
      ],
      "text/latex": [
       "A data.frame: 1 × 1\n",
       "\\begin{tabular}{l}\n",
       " non\\_zero\\_hours\\\\\n",
       " <int>\\\\\n",
       "\\hline\n",
       "\t 8465\\\\\n",
       "\\end{tabular}\n"
      ],
      "text/markdown": [
       "\n",
       "A data.frame: 1 × 1\n",
       "\n",
       "| non_zero_hours &lt;int&gt; |\n",
       "|---|\n",
       "| 8465 |\n",
       "\n"
      ],
      "text/plain": [
       "  non_zero_hours\n",
       "1 8465          "
      ]
     },
     "metadata": {},
     "output_type": "display_data"
    }
   ],
   "source": [
    "# provide your solution here\n",
    "dbGetQuery(conn, \"\n",
    "  SELECT COUNT(*) AS non_zero_hours\n",
    "  FROM SEOUL_BIKE_SHARING\n",
    "  WHERE RENTED_BIKE_COUNT > 0\n",
    "\")\n",
    "\n"
   ]
  },
  {
   "cell_type": "markdown",
   "metadata": {},
   "source": [
    "## Task 3 - Weather Outlook\n",
    "#### Query the the weather forecast for Seoul over the next 3 hours.\n",
    "Recall that the records in the CITIES_WEATHER_FORECAST dataset are 3 hours apart, so we just need the first record from the query.\n"
   ]
  },
  {
   "cell_type": "markdown",
   "metadata": {},
   "source": [
    "### Solution 3\n"
   ]
  },
  {
   "cell_type": "code",
   "execution_count": 8,
   "metadata": {},
   "outputs": [
    {
     "data": {
      "text/html": [
       "<table class=\"dataframe\">\n",
       "<caption>A data.frame: 4 × 1</caption>\n",
       "<thead>\n",
       "\t<tr><th scope=col>SEASONS</th></tr>\n",
       "\t<tr><th scope=col>&lt;chr&gt;</th></tr>\n",
       "</thead>\n",
       "<tbody>\n",
       "\t<tr><td>Winter</td></tr>\n",
       "\t<tr><td>Spring</td></tr>\n",
       "\t<tr><td>Summer</td></tr>\n",
       "\t<tr><td>Autumn</td></tr>\n",
       "</tbody>\n",
       "</table>\n"
      ],
      "text/latex": [
       "A data.frame: 4 × 1\n",
       "\\begin{tabular}{l}\n",
       " SEASONS\\\\\n",
       " <chr>\\\\\n",
       "\\hline\n",
       "\t Winter\\\\\n",
       "\t Spring\\\\\n",
       "\t Summer\\\\\n",
       "\t Autumn\\\\\n",
       "\\end{tabular}\n"
      ],
      "text/markdown": [
       "\n",
       "A data.frame: 4 × 1\n",
       "\n",
       "| SEASONS &lt;chr&gt; |\n",
       "|---|\n",
       "| Winter |\n",
       "| Spring |\n",
       "| Summer |\n",
       "| Autumn |\n",
       "\n"
      ],
      "text/plain": [
       "  SEASONS\n",
       "1 Winter \n",
       "2 Spring \n",
       "3 Summer \n",
       "4 Autumn "
      ]
     },
     "metadata": {},
     "output_type": "display_data"
    }
   ],
   "source": [
    "# provide your solution here\n",
    "dbGetQuery(conn, \"\n",
    "  SELECT DISTINCT SEASONS\n",
    "  FROM SEOUL_BIKE_SHARING\n",
    "\")\n"
   ]
  },
  {
   "cell_type": "markdown",
   "metadata": {},
   "source": [
    "## Task 4 - Seasons\n",
    "#### Find which seasons are included in the seoul bike sharing dataset.\n"
   ]
  },
  {
   "cell_type": "markdown",
   "metadata": {},
   "source": [
    "### Solution 4\n"
   ]
  },
  {
   "cell_type": "code",
   "execution_count": 9,
   "metadata": {},
   "outputs": [
    {
     "data": {
      "text/html": [
       "<table class=\"dataframe\">\n",
       "<caption>A data.frame: 1 × 2</caption>\n",
       "<thead>\n",
       "\t<tr><th scope=col>first_date</th><th scope=col>last_date</th></tr>\n",
       "\t<tr><th scope=col>&lt;chr&gt;</th><th scope=col>&lt;chr&gt;</th></tr>\n",
       "</thead>\n",
       "<tbody>\n",
       "\t<tr><td>01/01/2018</td><td>31/12/2017</td></tr>\n",
       "</tbody>\n",
       "</table>\n"
      ],
      "text/latex": [
       "A data.frame: 1 × 2\n",
       "\\begin{tabular}{ll}\n",
       " first\\_date & last\\_date\\\\\n",
       " <chr> & <chr>\\\\\n",
       "\\hline\n",
       "\t 01/01/2018 & 31/12/2017\\\\\n",
       "\\end{tabular}\n"
      ],
      "text/markdown": [
       "\n",
       "A data.frame: 1 × 2\n",
       "\n",
       "| first_date &lt;chr&gt; | last_date &lt;chr&gt; |\n",
       "|---|---|\n",
       "| 01/01/2018 | 31/12/2017 |\n",
       "\n"
      ],
      "text/plain": [
       "  first_date last_date \n",
       "1 01/01/2018 31/12/2017"
      ]
     },
     "metadata": {},
     "output_type": "display_data"
    }
   ],
   "source": [
    "# provide your solution here\n",
    "dbGetQuery(conn, \"\n",
    "  SELECT MIN(DATE) AS first_date, MAX(DATE) AS last_date\n",
    "  FROM SEOUL_BIKE_SHARING\n",
    "\")\n"
   ]
  },
  {
   "cell_type": "markdown",
   "metadata": {},
   "source": [
    "## Task 5 - Date Range\n",
    "#### Find the first and last dates in the Seoul Bike Sharing dataset.\n"
   ]
  },
  {
   "cell_type": "markdown",
   "metadata": {},
   "source": [
    "### Solution 5\n"
   ]
  },
  {
   "cell_type": "code",
   "execution_count": 10,
   "metadata": {},
   "outputs": [
    {
     "data": {
      "text/html": [
       "<table class=\"dataframe\">\n",
       "<caption>A data.frame: 1 × 3</caption>\n",
       "<thead>\n",
       "\t<tr><th scope=col>Date</th><th scope=col>Hour</th><th scope=col>max_rentals</th></tr>\n",
       "\t<tr><th scope=col>&lt;chr&gt;</th><th scope=col>&lt;dbl&gt;</th><th scope=col>&lt;dbl&gt;</th></tr>\n",
       "</thead>\n",
       "<tbody>\n",
       "\t<tr><td>19/06/2018</td><td>18</td><td>3556</td></tr>\n",
       "</tbody>\n",
       "</table>\n"
      ],
      "text/latex": [
       "A data.frame: 1 × 3\n",
       "\\begin{tabular}{lll}\n",
       " Date & Hour & max\\_rentals\\\\\n",
       " <chr> & <dbl> & <dbl>\\\\\n",
       "\\hline\n",
       "\t 19/06/2018 & 18 & 3556\\\\\n",
       "\\end{tabular}\n"
      ],
      "text/markdown": [
       "\n",
       "A data.frame: 1 × 3\n",
       "\n",
       "| Date &lt;chr&gt; | Hour &lt;dbl&gt; | max_rentals &lt;dbl&gt; |\n",
       "|---|---|---|\n",
       "| 19/06/2018 | 18 | 3556 |\n",
       "\n"
      ],
      "text/plain": [
       "  Date       Hour max_rentals\n",
       "1 19/06/2018 18   3556       "
      ]
     },
     "metadata": {},
     "output_type": "display_data"
    }
   ],
   "source": [
    "# provide your solution here\n",
    "dbGetQuery(conn, \"\n",
    "  SELECT DATE, HOUR, MAX(RENTED_BIKE_COUNT) AS max_rentals\n",
    "  FROM SEOUL_BIKE_SHARING\n",
    "  ORDER BY RENTED_BIKE_COUNT DESC\n",
    "  LIMIT 1\n",
    "\")\n"
   ]
  },
  {
   "cell_type": "markdown",
   "metadata": {},
   "source": [
    "## Task 6 - Subquery - 'all-time high'\n",
    "#### determine which date and hour had the most bike rentals.\n"
   ]
  },
  {
   "cell_type": "markdown",
   "metadata": {},
   "source": [
    "### Solution 6\n"
   ]
  },
  {
   "cell_type": "code",
   "execution_count": 11,
   "metadata": {},
   "outputs": [
    {
     "data": {
      "text/html": [
       "<table class=\"dataframe\">\n",
       "<caption>A data.frame: 1 × 3</caption>\n",
       "<thead>\n",
       "\t<tr><th scope=col>Date</th><th scope=col>Hour</th><th scope=col>max_rentals</th></tr>\n",
       "\t<tr><th scope=col>&lt;chr&gt;</th><th scope=col>&lt;dbl&gt;</th><th scope=col>&lt;dbl&gt;</th></tr>\n",
       "</thead>\n",
       "<tbody>\n",
       "\t<tr><td>19/06/2018</td><td>18</td><td>3556</td></tr>\n",
       "</tbody>\n",
       "</table>\n"
      ],
      "text/latex": [
       "A data.frame: 1 × 3\n",
       "\\begin{tabular}{lll}\n",
       " Date & Hour & max\\_rentals\\\\\n",
       " <chr> & <dbl> & <dbl>\\\\\n",
       "\\hline\n",
       "\t 19/06/2018 & 18 & 3556\\\\\n",
       "\\end{tabular}\n"
      ],
      "text/markdown": [
       "\n",
       "A data.frame: 1 × 3\n",
       "\n",
       "| Date &lt;chr&gt; | Hour &lt;dbl&gt; | max_rentals &lt;dbl&gt; |\n",
       "|---|---|---|\n",
       "| 19/06/2018 | 18 | 3556 |\n",
       "\n"
      ],
      "text/plain": [
       "  Date       Hour max_rentals\n",
       "1 19/06/2018 18   3556       "
      ]
     },
     "metadata": {},
     "output_type": "display_data"
    }
   ],
   "source": [
    "# provide your solution here\n",
    "dbGetQuery(conn, \"\n",
    "  SELECT DATE, HOUR, MAX(RENTED_BIKE_COUNT) AS max_rentals\n",
    "  FROM SEOUL_BIKE_SHARING\n",
    "  ORDER BY RENTED_BIKE_COUNT DESC\n",
    "  LIMIT 1\n",
    "\")\n"
   ]
  },
  {
   "cell_type": "markdown",
   "metadata": {},
   "source": [
    "## Task 7 - Hourly popularity and temperature by season\n",
    "#### Determine the average hourly temperature and the average number of bike rentals per hour over each season. List the top ten results by average bike count.\n"
   ]
  },
  {
   "cell_type": "markdown",
   "metadata": {},
   "source": [
    "### Solution 7\n"
   ]
  },
  {
   "cell_type": "code",
   "execution_count": 12,
   "metadata": {},
   "outputs": [
    {
     "data": {
      "text/html": [
       "<table class=\"dataframe\">\n",
       "<caption>A data.frame: 10 × 4</caption>\n",
       "<thead>\n",
       "\t<tr><th scope=col>SEASONS</th><th scope=col>Hour</th><th scope=col>AVG_TEMP</th><th scope=col>AVG_RENTAL</th></tr>\n",
       "\t<tr><th scope=col>&lt;chr&gt;</th><th scope=col>&lt;dbl&gt;</th><th scope=col>&lt;dbl&gt;</th><th scope=col>&lt;dbl&gt;</th></tr>\n",
       "</thead>\n",
       "<tbody>\n",
       "\t<tr><td>Summer</td><td>18</td><td>29.42</td><td>2135.14</td></tr>\n",
       "\t<tr><td>Autumn</td><td>18</td><td>16.34</td><td>1983.33</td></tr>\n",
       "\t<tr><td>Summer</td><td>19</td><td>28.29</td><td>1889.25</td></tr>\n",
       "\t<tr><td>Summer</td><td>20</td><td>27.07</td><td>1801.92</td></tr>\n",
       "\t<tr><td>Summer</td><td>21</td><td>26.28</td><td>1754.07</td></tr>\n",
       "\t<tr><td>Spring</td><td>18</td><td>15.99</td><td>1689.31</td></tr>\n",
       "\t<tr><td>Summer</td><td>22</td><td>25.70</td><td>1567.87</td></tr>\n",
       "\t<tr><td>Autumn</td><td>17</td><td>17.59</td><td>1562.88</td></tr>\n",
       "\t<tr><td>Summer</td><td>17</td><td>30.15</td><td>1526.29</td></tr>\n",
       "\t<tr><td>Autumn</td><td>19</td><td>15.37</td><td>1515.57</td></tr>\n",
       "</tbody>\n",
       "</table>\n"
      ],
      "text/latex": [
       "A data.frame: 10 × 4\n",
       "\\begin{tabular}{llll}\n",
       " SEASONS & Hour & AVG\\_TEMP & AVG\\_RENTAL\\\\\n",
       " <chr> & <dbl> & <dbl> & <dbl>\\\\\n",
       "\\hline\n",
       "\t Summer & 18 & 29.42 & 2135.14\\\\\n",
       "\t Autumn & 18 & 16.34 & 1983.33\\\\\n",
       "\t Summer & 19 & 28.29 & 1889.25\\\\\n",
       "\t Summer & 20 & 27.07 & 1801.92\\\\\n",
       "\t Summer & 21 & 26.28 & 1754.07\\\\\n",
       "\t Spring & 18 & 15.99 & 1689.31\\\\\n",
       "\t Summer & 22 & 25.70 & 1567.87\\\\\n",
       "\t Autumn & 17 & 17.59 & 1562.88\\\\\n",
       "\t Summer & 17 & 30.15 & 1526.29\\\\\n",
       "\t Autumn & 19 & 15.37 & 1515.57\\\\\n",
       "\\end{tabular}\n"
      ],
      "text/markdown": [
       "\n",
       "A data.frame: 10 × 4\n",
       "\n",
       "| SEASONS &lt;chr&gt; | Hour &lt;dbl&gt; | AVG_TEMP &lt;dbl&gt; | AVG_RENTAL &lt;dbl&gt; |\n",
       "|---|---|---|---|\n",
       "| Summer | 18 | 29.42 | 2135.14 |\n",
       "| Autumn | 18 | 16.34 | 1983.33 |\n",
       "| Summer | 19 | 28.29 | 1889.25 |\n",
       "| Summer | 20 | 27.07 | 1801.92 |\n",
       "| Summer | 21 | 26.28 | 1754.07 |\n",
       "| Spring | 18 | 15.99 | 1689.31 |\n",
       "| Summer | 22 | 25.70 | 1567.87 |\n",
       "| Autumn | 17 | 17.59 | 1562.88 |\n",
       "| Summer | 17 | 30.15 | 1526.29 |\n",
       "| Autumn | 19 | 15.37 | 1515.57 |\n",
       "\n"
      ],
      "text/plain": [
       "   SEASONS Hour AVG_TEMP AVG_RENTAL\n",
       "1  Summer  18   29.42    2135.14   \n",
       "2  Autumn  18   16.34    1983.33   \n",
       "3  Summer  19   28.29    1889.25   \n",
       "4  Summer  20   27.07    1801.92   \n",
       "5  Summer  21   26.28    1754.07   \n",
       "6  Spring  18   15.99    1689.31   \n",
       "7  Summer  22   25.70    1567.87   \n",
       "8  Autumn  17   17.59    1562.88   \n",
       "9  Summer  17   30.15    1526.29   \n",
       "10 Autumn  19   15.37    1515.57   "
      ]
     },
     "metadata": {},
     "output_type": "display_data"
    }
   ],
   "source": [
    "# provide your solution here\n",
    "dbGetQuery(conn, \"\n",
    "  SELECT SEASONS, HOUR,\n",
    "         ROUND(AVG(TEMPERATURE), 2) AS AVG_TEMP,\n",
    "         ROUND(AVG(RENTED_BIKE_COUNT), 2) AS AVG_RENTAL\n",
    "  FROM SEOUL_BIKE_SHARING\n",
    "  GROUP BY SEASONS, HOUR\n",
    "  ORDER BY AVG_RENTAL DESC\n",
    "  LIMIT 10\n",
    "\")\n"
   ]
  },
  {
   "cell_type": "markdown",
   "metadata": {},
   "source": [
    "## Task 8 - Rental Seasonality\n",
    "#### Find the average hourly bike count during each season. \n",
    "Also include the minimum, maximum, and standard deviation of the hourly bike count for each season. \n",
    "\n",
    "> Hint : Use the SQRT(AVG(col*col) - AVG(col)*AVG(col) ) function where col refers to your column name for finding the standard deviation\n"
   ]
  },
  {
   "cell_type": "markdown",
   "metadata": {},
   "source": [
    "### Solution 8\n"
   ]
  },
  {
   "cell_type": "code",
   "execution_count": 13,
   "metadata": {},
   "outputs": [
    {
     "data": {
      "text/html": [
       "<table class=\"dataframe\">\n",
       "<caption>A data.frame: 4 × 5</caption>\n",
       "<thead>\n",
       "\t<tr><th scope=col>SEASONS</th><th scope=col>AVG_RENTALS</th><th scope=col>MIN_RENTALS</th><th scope=col>MAX_RENTALS</th><th scope=col>STD_DEV</th></tr>\n",
       "\t<tr><th scope=col>&lt;chr&gt;</th><th scope=col>&lt;dbl&gt;</th><th scope=col>&lt;dbl&gt;</th><th scope=col>&lt;dbl&gt;</th><th scope=col>&lt;dbl&gt;</th></tr>\n",
       "</thead>\n",
       "<tbody>\n",
       "\t<tr><td>Autumn</td><td> 924.11</td><td>2</td><td>3298</td><td>617.39</td></tr>\n",
       "\t<tr><td>Spring</td><td> 746.25</td><td>2</td><td>3251</td><td>618.52</td></tr>\n",
       "\t<tr><td>Summer</td><td>1034.07</td><td>9</td><td>3556</td><td>690.09</td></tr>\n",
       "\t<tr><td>Winter</td><td> 225.54</td><td>3</td><td> 937</td><td>150.34</td></tr>\n",
       "</tbody>\n",
       "</table>\n"
      ],
      "text/latex": [
       "A data.frame: 4 × 5\n",
       "\\begin{tabular}{lllll}\n",
       " SEASONS & AVG\\_RENTALS & MIN\\_RENTALS & MAX\\_RENTALS & STD\\_DEV\\\\\n",
       " <chr> & <dbl> & <dbl> & <dbl> & <dbl>\\\\\n",
       "\\hline\n",
       "\t Autumn &  924.11 & 2 & 3298 & 617.39\\\\\n",
       "\t Spring &  746.25 & 2 & 3251 & 618.52\\\\\n",
       "\t Summer & 1034.07 & 9 & 3556 & 690.09\\\\\n",
       "\t Winter &  225.54 & 3 &  937 & 150.34\\\\\n",
       "\\end{tabular}\n"
      ],
      "text/markdown": [
       "\n",
       "A data.frame: 4 × 5\n",
       "\n",
       "| SEASONS &lt;chr&gt; | AVG_RENTALS &lt;dbl&gt; | MIN_RENTALS &lt;dbl&gt; | MAX_RENTALS &lt;dbl&gt; | STD_DEV &lt;dbl&gt; |\n",
       "|---|---|---|---|---|\n",
       "| Autumn |  924.11 | 2 | 3298 | 617.39 |\n",
       "| Spring |  746.25 | 2 | 3251 | 618.52 |\n",
       "| Summer | 1034.07 | 9 | 3556 | 690.09 |\n",
       "| Winter |  225.54 | 3 |  937 | 150.34 |\n",
       "\n"
      ],
      "text/plain": [
       "  SEASONS AVG_RENTALS MIN_RENTALS MAX_RENTALS STD_DEV\n",
       "1 Autumn   924.11     2           3298        617.39 \n",
       "2 Spring   746.25     2           3251        618.52 \n",
       "3 Summer  1034.07     9           3556        690.09 \n",
       "4 Winter   225.54     3            937        150.34 "
      ]
     },
     "metadata": {},
     "output_type": "display_data"
    }
   ],
   "source": [
    "# provide your solution here\n",
    "dbGetQuery(conn, \"\n",
    "  SELECT SEASONS,\n",
    "         ROUND(AVG(RENTED_BIKE_COUNT), 2) AS AVG_RENTALS,\n",
    "         MIN(RENTED_BIKE_COUNT) AS MIN_RENTALS,\n",
    "         MAX(RENTED_BIKE_COUNT) AS MAX_RENTALS,\n",
    "         ROUND(SQRT(AVG(RENTED_BIKE_COUNT * RENTED_BIKE_COUNT) - AVG(RENTED_BIKE_COUNT) * AVG(RENTED_BIKE_COUNT)), 2) AS STD_DEV\n",
    "  FROM SEOUL_BIKE_SHARING\n",
    "  GROUP BY SEASONS\n",
    "\")\n"
   ]
  },
  {
   "cell_type": "markdown",
   "metadata": {},
   "source": [
    "Let's explore a bit and see what might be the most significant contributing factors in terms of the provided data.\n"
   ]
  },
  {
   "cell_type": "markdown",
   "metadata": {},
   "source": [
    "## Task 9 - Weather Seasonality\n",
    "#### Consider the weather over each season. On average, what were the TEMPERATURE, HUMIDITY, WIND_SPEED, VISIBILITY, DEW_POINT_TEMPERATURE, SOLAR_RADIATION, RAINFALL, and SNOWFALL per season?\n",
    "Include the average bike count as well , and rank the results by average bike count so you can see if it is correlated with the weather at all. \n"
   ]
  },
  {
   "cell_type": "markdown",
   "metadata": {},
   "source": [
    "### Solution 9\n"
   ]
  },
  {
   "cell_type": "code",
   "execution_count": 14,
   "metadata": {},
   "outputs": [
    {
     "data": {
      "text/html": [
       "<table class=\"dataframe\">\n",
       "<caption>A data.frame: 4 × 10</caption>\n",
       "<thead>\n",
       "\t<tr><th scope=col>SEASONS</th><th scope=col>AVG_TEMP</th><th scope=col>AVG_HUMIDITY</th><th scope=col>AVG_WIND</th><th scope=col>AVG_VISIBILITY</th><th scope=col>AVG_DEW</th><th scope=col>AVG_SOLAR</th><th scope=col>AVG_RAIN</th><th scope=col>AVG_SNOW</th><th scope=col>AVG_BIKES</th></tr>\n",
       "\t<tr><th scope=col>&lt;chr&gt;</th><th scope=col>&lt;dbl&gt;</th><th scope=col>&lt;dbl&gt;</th><th scope=col>&lt;dbl&gt;</th><th scope=col>&lt;dbl&gt;</th><th scope=col>&lt;dbl&gt;</th><th scope=col>&lt;dbl&gt;</th><th scope=col>&lt;dbl&gt;</th><th scope=col>&lt;dbl&gt;</th><th scope=col>&lt;dbl&gt;</th></tr>\n",
       "</thead>\n",
       "<tbody>\n",
       "\t<tr><td>Summer</td><td>26.59</td><td>64.98</td><td>1.61</td><td>1501.75</td><td> 18.75</td><td>0.76</td><td>0.25</td><td>0.00</td><td>1034.07</td></tr>\n",
       "\t<tr><td>Autumn</td><td>14.12</td><td>59.23</td><td>1.49</td><td>1560.75</td><td>  5.50</td><td>0.52</td><td>0.12</td><td>0.06</td><td> 924.11</td></tr>\n",
       "\t<tr><td>Spring</td><td>13.05</td><td>58.78</td><td>1.87</td><td>1240.36</td><td>  4.12</td><td>0.69</td><td>0.18</td><td>0.00</td><td> 746.25</td></tr>\n",
       "\t<tr><td>Winter</td><td>-2.54</td><td>49.74</td><td>1.92</td><td>1445.99</td><td>-12.42</td><td>0.30</td><td>0.03</td><td>0.25</td><td> 225.54</td></tr>\n",
       "</tbody>\n",
       "</table>\n"
      ],
      "text/latex": [
       "A data.frame: 4 × 10\n",
       "\\begin{tabular}{llllllllll}\n",
       " SEASONS & AVG\\_TEMP & AVG\\_HUMIDITY & AVG\\_WIND & AVG\\_VISIBILITY & AVG\\_DEW & AVG\\_SOLAR & AVG\\_RAIN & AVG\\_SNOW & AVG\\_BIKES\\\\\n",
       " <chr> & <dbl> & <dbl> & <dbl> & <dbl> & <dbl> & <dbl> & <dbl> & <dbl> & <dbl>\\\\\n",
       "\\hline\n",
       "\t Summer & 26.59 & 64.98 & 1.61 & 1501.75 &  18.75 & 0.76 & 0.25 & 0.00 & 1034.07\\\\\n",
       "\t Autumn & 14.12 & 59.23 & 1.49 & 1560.75 &   5.50 & 0.52 & 0.12 & 0.06 &  924.11\\\\\n",
       "\t Spring & 13.05 & 58.78 & 1.87 & 1240.36 &   4.12 & 0.69 & 0.18 & 0.00 &  746.25\\\\\n",
       "\t Winter & -2.54 & 49.74 & 1.92 & 1445.99 & -12.42 & 0.30 & 0.03 & 0.25 &  225.54\\\\\n",
       "\\end{tabular}\n"
      ],
      "text/markdown": [
       "\n",
       "A data.frame: 4 × 10\n",
       "\n",
       "| SEASONS &lt;chr&gt; | AVG_TEMP &lt;dbl&gt; | AVG_HUMIDITY &lt;dbl&gt; | AVG_WIND &lt;dbl&gt; | AVG_VISIBILITY &lt;dbl&gt; | AVG_DEW &lt;dbl&gt; | AVG_SOLAR &lt;dbl&gt; | AVG_RAIN &lt;dbl&gt; | AVG_SNOW &lt;dbl&gt; | AVG_BIKES &lt;dbl&gt; |\n",
       "|---|---|---|---|---|---|---|---|---|---|\n",
       "| Summer | 26.59 | 64.98 | 1.61 | 1501.75 |  18.75 | 0.76 | 0.25 | 0.00 | 1034.07 |\n",
       "| Autumn | 14.12 | 59.23 | 1.49 | 1560.75 |   5.50 | 0.52 | 0.12 | 0.06 |  924.11 |\n",
       "| Spring | 13.05 | 58.78 | 1.87 | 1240.36 |   4.12 | 0.69 | 0.18 | 0.00 |  746.25 |\n",
       "| Winter | -2.54 | 49.74 | 1.92 | 1445.99 | -12.42 | 0.30 | 0.03 | 0.25 |  225.54 |\n",
       "\n"
      ],
      "text/plain": [
       "  SEASONS AVG_TEMP AVG_HUMIDITY AVG_WIND AVG_VISIBILITY AVG_DEW AVG_SOLAR\n",
       "1 Summer  26.59    64.98        1.61     1501.75         18.75  0.76     \n",
       "2 Autumn  14.12    59.23        1.49     1560.75          5.50  0.52     \n",
       "3 Spring  13.05    58.78        1.87     1240.36          4.12  0.69     \n",
       "4 Winter  -2.54    49.74        1.92     1445.99        -12.42  0.30     \n",
       "  AVG_RAIN AVG_SNOW AVG_BIKES\n",
       "1 0.25     0.00     1034.07  \n",
       "2 0.12     0.06      924.11  \n",
       "3 0.18     0.00      746.25  \n",
       "4 0.03     0.25      225.54  "
      ]
     },
     "metadata": {},
     "output_type": "display_data"
    }
   ],
   "source": [
    "# provide your solution here\n",
    "dbGetQuery(conn, \"\n",
    "  SELECT SEASONS,\n",
    "         ROUND(AVG(TEMPERATURE), 2) AS AVG_TEMP,\n",
    "         ROUND(AVG(HUMIDITY), 2) AS AVG_HUMIDITY,\n",
    "         ROUND(AVG(WIND_SPEED), 2) AS AVG_WIND,\n",
    "         ROUND(AVG(VISIBILITY), 2) AS AVG_VISIBILITY,\n",
    "         ROUND(AVG(DEW_POINT_TEMPERATURE), 2) AS AVG_DEW,\n",
    "         ROUND(AVG(SOLAR_RADIATION), 2) AS AVG_SOLAR,\n",
    "         ROUND(AVG(RAINFALL), 2) AS AVG_RAIN,\n",
    "         ROUND(AVG(SNOWFALL), 2) AS AVG_SNOW,\n",
    "         ROUND(AVG(RENTED_BIKE_COUNT), 2) AS AVG_BIKES\n",
    "  FROM SEOUL_BIKE_SHARING\n",
    "  GROUP BY SEASONS\n",
    "  ORDER BY AVG_BIKES DESC\n",
    "\")\n"
   ]
  },
  {
   "cell_type": "markdown",
   "metadata": {},
   "source": [
    "## Task 10 - Total Bike Count and City Info for Seoul\n",
    "#### Use an implicit join across the WORLD_CITIES and the BIKE_SHARING_SYSTEMS tables to determine the total number of bikes avaialble in Seoul, plus the following city information about Seoul: CITY, COUNTRY, LAT, LON, POPULATION, in a single view.\n",
    "Notice that in this case, the CITY column will work for the WORLD_CITIES table, but in general you would have to use the CITY_ASCII column.\n"
   ]
  },
  {
   "cell_type": "markdown",
   "metadata": {},
   "source": [
    "### Solution 10\n"
   ]
  },
  {
   "cell_type": "code",
   "execution_count": 23,
   "metadata": {},
   "outputs": [
    {
     "data": {
      "text/html": [
       "<table class=\"dataframe\">\n",
       "<caption>A data.frame: 0 × 6</caption>\n",
       "<thead>\n",
       "\t<tr><th scope=col>City</th><th scope=col>COUNTRY</th><th scope=col>LAT</th><th scope=col>LNG</th><th scope=col>POPULATION</th><th scope=col>TOTAL_BIKES</th></tr>\n",
       "\t<tr><th scope=col>&lt;chr&gt;</th><th scope=col>&lt;chr&gt;</th><th scope=col>&lt;dbl&gt;</th><th scope=col>&lt;dbl&gt;</th><th scope=col>&lt;dbl&gt;</th><th scope=col>&lt;lgl&gt;</th></tr>\n",
       "</thead>\n",
       "<tbody>\n",
       "</tbody>\n",
       "</table>\n"
      ],
      "text/latex": [
       "A data.frame: 0 × 6\n",
       "\\begin{tabular}{llllll}\n",
       " City & COUNTRY & LAT & LNG & POPULATION & TOTAL\\_BIKES\\\\\n",
       " <chr> & <chr> & <dbl> & <dbl> & <dbl> & <lgl>\\\\\n",
       "\\hline\n",
       "\\end{tabular}\n"
      ],
      "text/markdown": [
       "\n",
       "A data.frame: 0 × 6\n",
       "\n",
       "| City &lt;chr&gt; | COUNTRY &lt;chr&gt; | LAT &lt;dbl&gt; | LNG &lt;dbl&gt; | POPULATION &lt;dbl&gt; | TOTAL_BIKES &lt;lgl&gt; |\n",
       "|---|---|---|---|---|---|\n",
       "\n"
      ],
      "text/plain": [
       "     City COUNTRY LAT LNG POPULATION TOTAL_BIKES"
      ]
     },
     "metadata": {},
     "output_type": "display_data"
    }
   ],
   "source": [
    "# provide your solution here\n",
    "dbGetQuery(conn, \"\n",
    "  SELECT W.CITY, W.COUNTRY, W.LAT, W.LNG, W.POPULATION,\n",
    "         SUM(CAST(B.BICYCLES AS INT)) AS TOTAL_BIKES\n",
    "  FROM WORLD_CITIES W\n",
    "  JOIN BIKE_SHARING_SYSTEMS B\n",
    "    ON W.CITY = B.CITY\n",
    "  WHERE W.CITY = 'Seoul'\n",
    "  GROUP BY W.CITY, W.COUNTRY, W.LAT, W.LNG, W.POPULATION\n",
    "\")\n"
   ]
  },
  {
   "cell_type": "markdown",
   "metadata": {},
   "source": [
    "## Task 11 - Find all city names and coordinates with comparable bike scale to Seoul's bike sharing system\n",
    "#### Find all cities with total bike counts between 15000 and 20000. Return the city and country names, plus the coordinates (LAT, LNG), population, and number of bicycles for each city.\n",
    "Later we will ask you to visualize these similar cities on leaflet, with some weather data.\n"
   ]
  },
  {
   "cell_type": "markdown",
   "metadata": {},
   "source": [
    "### Solution 11\n"
   ]
  },
  {
   "cell_type": "code",
   "execution_count": 26,
   "metadata": {},
   "outputs": [
    {
     "data": {
      "text/html": [
       "<table class=\"dataframe\">\n",
       "<caption>A data.frame: 4 × 6</caption>\n",
       "<thead>\n",
       "\t<tr><th scope=col>City</th><th scope=col>COUNTRY</th><th scope=col>LAT</th><th scope=col>LNG</th><th scope=col>POPULATION</th><th scope=col>BICYCLES</th></tr>\n",
       "\t<tr><th scope=col>&lt;chr&gt;</th><th scope=col>&lt;chr&gt;</th><th scope=col>&lt;dbl&gt;</th><th scope=col>&lt;dbl&gt;</th><th scope=col>&lt;dbl&gt;</th><th scope=col>&lt;int&gt;</th></tr>\n",
       "</thead>\n",
       "<tbody>\n",
       "\t<tr><td>Beijing</td><td>China</td><td>39.9050</td><td>116.3914</td><td>19433000</td><td>16000</td></tr>\n",
       "\t<tr><td>Ningbo </td><td>China</td><td>29.8750</td><td>121.5492</td><td> 7639000</td><td>15000</td></tr>\n",
       "\t<tr><td>Weifang</td><td>China</td><td>36.7167</td><td>119.1000</td><td> 9373000</td><td>20000</td></tr>\n",
       "\t<tr><td>Zhuzhou</td><td>China</td><td>27.8407</td><td>113.1469</td><td> 3855609</td><td>20000</td></tr>\n",
       "</tbody>\n",
       "</table>\n"
      ],
      "text/latex": [
       "A data.frame: 4 × 6\n",
       "\\begin{tabular}{llllll}\n",
       " City & COUNTRY & LAT & LNG & POPULATION & BICYCLES\\\\\n",
       " <chr> & <chr> & <dbl> & <dbl> & <dbl> & <int>\\\\\n",
       "\\hline\n",
       "\t Beijing & China & 39.9050 & 116.3914 & 19433000 & 16000\\\\\n",
       "\t Ningbo  & China & 29.8750 & 121.5492 &  7639000 & 15000\\\\\n",
       "\t Weifang & China & 36.7167 & 119.1000 &  9373000 & 20000\\\\\n",
       "\t Zhuzhou & China & 27.8407 & 113.1469 &  3855609 & 20000\\\\\n",
       "\\end{tabular}\n"
      ],
      "text/markdown": [
       "\n",
       "A data.frame: 4 × 6\n",
       "\n",
       "| City &lt;chr&gt; | COUNTRY &lt;chr&gt; | LAT &lt;dbl&gt; | LNG &lt;dbl&gt; | POPULATION &lt;dbl&gt; | BICYCLES &lt;int&gt; |\n",
       "|---|---|---|---|---|---|\n",
       "| Beijing | China | 39.9050 | 116.3914 | 19433000 | 16000 |\n",
       "| Ningbo  | China | 29.8750 | 121.5492 |  7639000 | 15000 |\n",
       "| Weifang | China | 36.7167 | 119.1000 |  9373000 | 20000 |\n",
       "| Zhuzhou | China | 27.8407 | 113.1469 |  3855609 | 20000 |\n",
       "\n"
      ],
      "text/plain": [
       "  City    COUNTRY LAT     LNG      POPULATION BICYCLES\n",
       "1 Beijing China   39.9050 116.3914 19433000   16000   \n",
       "2 Ningbo  China   29.8750 121.5492  7639000   15000   \n",
       "3 Weifang China   36.7167 119.1000  9373000   20000   \n",
       "4 Zhuzhou China   27.8407 113.1469  3855609   20000   "
      ]
     },
     "metadata": {},
     "output_type": "display_data"
    }
   ],
   "source": [
    "# provide your solution here\n",
    "dbGetQuery(conn, \"\n",
    "  SELECT W.CITY, W.COUNTRY, W.LAT, W.LNG, W.POPULATION,\n",
    "         CAST(B.BICYCLES AS INT) AS BICYCLES\n",
    "  FROM WORLD_CITIES W\n",
    "  JOIN BIKE_SHARING_SYSTEMS B\n",
    "    ON W.CITY = B.CITY\n",
    "  WHERE CAST(B.BICYCLES AS INT) BETWEEN 15000 AND 20000\n",
    "\")\n"
   ]
  },
  {
   "cell_type": "code",
   "execution_count": 28,
   "metadata": {},
   "outputs": [
    {
     "ename": "ERROR",
     "evalue": "Error in UseMethod(\"close\"): no applicable method for 'close' applied to an object of class \"c('SQLiteConnection', 'DBIConnection', 'DBIObject')\"\n",
     "output_type": "error",
     "traceback": [
      "Error in UseMethod(\"close\"): no applicable method for 'close' applied to an object of class \"c('SQLiteConnection', 'DBIConnection', 'DBIObject')\"\nTraceback:\n",
      "1. .handleSimpleError(function (cnd) \n . {\n .     watcher$capture_plot_and_output()\n .     cnd <- sanitize_call(cnd)\n .     watcher$push(cnd)\n .     switch(on_error, continue = invokeRestart(\"eval_continue\"), \n .         stop = invokeRestart(\"eval_stop\"), error = NULL)\n . }, \"no applicable method for 'close' applied to an object of class \\\"c('SQLiteConnection', 'DBIConnection', 'DBIObject')\\\"\", \n .     base::quote(UseMethod(\"close\")))"
     ]
    }
   ],
   "source": [
    "close(conn)"
   ]
  },
  {
   "cell_type": "markdown",
   "metadata": {},
   "source": [
    "## Author(s)\n",
    "\n",
    "<h4> Jeff Grossman </h4>\n",
    "<h4> Lakshmi Holla </h4>\n",
    "\n",
    "\n",
    "## Other Contributor(s)\n",
    "\n",
    "<h4>  Malika Singla </h4>\n",
    "\n",
    "<!--## Change log\n",
    "\n",
    "| Date (YYYY-MM-DD) | Version | Changed By | Change Description                 |\n",
    "| ----------------- | ------- | ---------- | ---------------------------------- |\n",
    "| 2022-03-03        | 1.0     |Lakshmi Holla  | Created lab using sqlite3          |-->\n",
    "\n",
    "## <h3 align=\"center\"> © IBM Corporation 2022. All rights reserved. <h3/>\n"
   ]
  },
  {
   "cell_type": "code",
   "execution_count": null,
   "metadata": {},
   "outputs": [],
   "source": []
  }
 ],
 "metadata": {
  "kernelspec": {
   "display_name": "R",
   "language": "R",
   "name": "ir"
  },
  "language_info": {
   "codemirror_mode": "r",
   "file_extension": ".r",
   "mimetype": "text/x-r-source",
   "name": "R",
   "pygments_lexer": "r",
   "version": "4.4.2"
  },
  "prev_pub_hash": "a1035d2263d59b4555fbf1de2034910a6356cb94ee9658cc0c379ead18c4444c"
 },
 "nbformat": 4,
 "nbformat_minor": 4
}
